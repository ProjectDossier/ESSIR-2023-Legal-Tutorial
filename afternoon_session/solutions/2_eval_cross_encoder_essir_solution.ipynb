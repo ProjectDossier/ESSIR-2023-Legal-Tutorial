{
  "nbformat": 4,
  "nbformat_minor": 0,
  "metadata": {
    "colab": {
      "provenance": [],
      "collapsed_sections": [
        "IGrh1QOZaSqt",
        "0ZvgdJx_aUYL",
        "wp6R4T60cj0B",
        "H3nwW34Re83U",
        "aHoDoZvje5QI",
        "ZgRqtjQynUMW",
        "tXQeBKT8nY9_"
      ],
      "gpuType": "T4",
      "toc_visible": true
    },
    "kernelspec": {
      "name": "python3",
      "display_name": "Python 3"
    },
    "language_info": {
      "name": "python"
    },
    "accelerator": "GPU"
  },
  "cells": [
    {
      "cell_type": "markdown",
      "source": [
        "# Download and loading the data"
      ],
      "metadata": {
        "id": "54y8d2lXyMc4"
      }
    },
    {
      "cell_type": "code",
      "source": [
        "%%capture\n",
        "!wget https://www.dropbox.com/scl/fi/md1qj0dz07wi66lan1aah/afternoon_session_files.zip?rlkey=ficet9hbs55wxs7e11u6yi9w0&dl=0\n",
        "!unzip afternoon_session_files.zip?rlkey=ficet9hbs55wxs7e11u6yi9w0&dl=0\n",
        "!wget https://www.dropbox.com/scl/fi/v31d8paxk9oxdqab7adxc/legal_bert_statuteretrieval_best_model.zip?rlkey=89x9moy37iea7pu2hg191ni8r&dl=0\n",
        "!unzip legal_bert_statuteretrieval_best_model.zip*"
      ],
      "metadata": {
        "id": "SRYfwfDjyRHn"
      },
      "execution_count": null,
      "outputs": []
    },
    {
      "cell_type": "markdown",
      "source": [
        "# Initializing variables\n"
      ],
      "metadata": {
        "id": "L9Ic0w1QbgDr"
      }
    },
    {
      "cell_type": "code",
      "source": [
        "base_write_path = \"\"\n",
        "truncation_mode = None\n",
        "qlen = 254 # tokens\n",
        "dlen = 254 # tokens\n",
        "model_max_length = 512\n",
        "\n",
        "base_path = \"./\"\n",
        "queries_path = base_path + \"queries_val.tsv\"#queries_aila.tsv\"\n",
        "corpus_path = base_path + \"Object_statutes/\"# \"collection_aila.tsv\"\n",
        "top100_run_path = base_path + \"base_run.txt\"\n",
        "qrel_path = base_path + \"qrels_aila.tsv\"\n",
        "batch_size = 32\n",
        "from google.colab import drive\n",
        "drive.mount('/content/gdrive')\n",
        "fine_tuned_model_path = './legal_bert_statuteretrieval_best_model'\n",
        "# fine_tuned_model_path = 'your model'\n",
        "# fine_tuned_model_path = 'nlpaueb/legal-bert-base-uncased'\n",
        "# fine_tuned_model_path = './legal_bert_statuteretrieval_best_model'\n",
        "ranking_output_path = \"{}/aila_q{}_d{}.ranking\".format(fine_tuned_model_path, qlen, dlen)\n",
        "print(ranking_output_path)\n",
        "dataset = \"aila\""
      ],
      "metadata": {
        "colab": {
          "base_uri": "https://localhost:8080/"
        },
        "outputId": "bcae77f9-e410-408c-fe84-3097c24a85cb",
        "id": "VsL9B15aESre"
      },
      "execution_count": null,
      "outputs": [
        {
          "output_type": "stream",
          "name": "stdout",
          "text": [
            "Drive already mounted at /content/gdrive; to attempt to forcibly remount, call drive.mount(\"/content/gdrive\", force_remount=True).\n",
            "./gdrive/MyDrive/legal_essir/finetuned_CEs/legal_bert_statuteretrieval_best_model/aila_q254_d254.ranking\n"
          ]
        }
      ]
    },
    {
      "cell_type": "markdown",
      "source": [
        "installing libraries"
      ],
      "metadata": {
        "id": "mwm0_Rh5MJ-d"
      }
    },
    {
      "cell_type": "code",
      "source": [
        "%%capture\n",
        "!pip install pytrec_eval\n",
        "!pip install sentence_transformers\n",
        "import pytrec_eval\n",
        "import json\n",
        "import tqdm\n",
        "import numpy as np"
      ],
      "metadata": {
        "id": "ZxrIi8BjMFlX"
      },
      "execution_count": null,
      "outputs": []
    },
    {
      "cell_type": "code",
      "source": [
        "import math\n",
        "import sys\n",
        "from datetime import datetime\n",
        "import gzip\n",
        "import os\n",
        "import tarfile\n",
        "import logging"
      ],
      "metadata": {
        "id": "tlfCxTTNb3WP"
      },
      "execution_count": null,
      "outputs": []
    },
    {
      "cell_type": "code",
      "source": [
        "from torch.utils.data import DataLoader\n",
        "from sentence_transformers import LoggingHandler, util\n",
        "from sentence_transformers import InputExample\n",
        "from transformers import AutoTokenizer"
      ],
      "metadata": {
        "id": "gNjJfh5ZahfR"
      },
      "execution_count": null,
      "outputs": []
    },
    {
      "cell_type": "code",
      "source": [
        "import logging\n",
        "logger = logging.getLogger()\n",
        "logger.setLevel(logging.DEBUG)"
      ],
      "metadata": {
        "id": "cW-JfSwYvidk"
      },
      "execution_count": null,
      "outputs": []
    },
    {
      "cell_type": "markdown",
      "source": [
        "# CrossEncoder and Evaluator Classes"
      ],
      "metadata": {
        "id": "mTv2Pp44rgii"
      }
    },
    {
      "cell_type": "markdown",
      "source": [
        "## CrossEncoder Class\n"
      ],
      "metadata": {
        "id": "IGrh1QOZaSqt"
      }
    },
    {
      "cell_type": "code",
      "source": [
        "from transformers import AutoModelForSequenceClassification, AutoTokenizer, AutoConfig\n",
        "import numpy as np\n",
        "import logging\n",
        "import os\n",
        "from typing import Dict, Type, Callable, List\n",
        "import transformers\n",
        "import torch\n",
        "from torch import nn\n",
        "from torch.optim import Optimizer\n",
        "from torch.utils.data import DataLoader\n",
        "from sentence_transformers import SentenceTransformer, util\n",
        "from sentence_transformers.evaluation import SentenceEvaluator\n",
        "class CrossEncoder():\n",
        "    def __init__(self, model_name:str, num_labels:int = None, max_length:int = None, device:str = None, tokenizer_args:Dict = {},\n",
        "                 default_activation_function = None):\n",
        "        \"\"\"\n",
        "        A CrossEncoder takes exactly two sentences / texts as input and either predicts\n",
        "        a score or label for this sentence pair. It can for example predict the similarity of the sentence pair\n",
        "        on a scale of 0 ... 1.\n",
        "\n",
        "        It does not yield a sentence embedding and does not work for individually sentences.\n",
        "\n",
        "        :param model_name: Any model name from Huggingface Models Repository that can be loaded with AutoModel. We provide several pre-trained CrossEncoder models that can be used for common tasks\n",
        "        :param num_labels: Number of labels of the classifier. If 1, the CrossEncoder is a regression model that outputs a continous score 0...1. If > 1, it output several scores that can be soft-maxed to get probability scores for the different classes.\n",
        "        :param max_length: Max length for input sequences. Longer sequences will be truncated. If None, max length of the model will be used\n",
        "        :param device: Device that should be used for the model. If None, it will use CUDA if available.\n",
        "        :param tokenizer_args: Arguments passed to AutoTokenizer\n",
        "        :param default_activation_function: Callable (like nn.Sigmoid) about the default activation function that should be used on-top of model.predict(). If None. nn.Sigmoid() will be used if num_labels=1, else nn.Identity()\n",
        "        \"\"\"\n",
        "\n",
        "        self.config = AutoConfig.from_pretrained(model_name)\n",
        "        classifier_trained = True\n",
        "        if self.config.architectures is not None:\n",
        "            classifier_trained = any([arch.endswith('ForSequenceClassification') for arch in self.config.architectures])\n",
        "\n",
        "        if num_labels is None and not classifier_trained:\n",
        "            num_labels = 1\n",
        "\n",
        "        if num_labels is not None:\n",
        "            self.config.num_labels = num_labels\n",
        "\n",
        "        self.model = AutoModelForSequenceClassification.from_pretrained(model_name, config=self.config, ignore_mismatched_sizes = True) # ignore_mismatched_sizes = True for transfer learning. first post_training, then using it for binary classification\n",
        "        self.tokenizer = AutoTokenizer.from_pretrained(model_name, **tokenizer_args)\n",
        "        self.max_length = max_length\n",
        "\n",
        "        if device is None:\n",
        "            device = \"cuda\" if torch.cuda.is_available() else \"cpu\"\n",
        "            logger.info(\"Use pytorch device: {}\".format(device))\n",
        "\n",
        "        self._target_device = torch.device(device)\n",
        "\n",
        "        if default_activation_function is not None:\n",
        "            self.default_activation_function = default_activation_function\n",
        "            try:\n",
        "                self.config.sbert_ce_default_activation_function = util.fullname(self.default_activation_function)\n",
        "            except Exception as e:\n",
        "                logger.warning(\"Was not able to update config about the default_activation_function: {}\".format(str(e)) )\n",
        "        elif hasattr(self.config, 'sbert_ce_default_activation_function') and self.config.sbert_ce_default_activation_function is not None:\n",
        "            self.default_activation_function = util.import_from_string(self.config.sbert_ce_default_activation_function)()\n",
        "        else:\n",
        "            self.default_activation_function = nn.Sigmoid() if self.config.num_labels == 1 else nn.Identity()\n",
        "\n",
        "    def smart_batching_collate(self, batch):\n",
        "        texts = [[] for _ in range(len(batch[0].texts))]\n",
        "        labels = []\n",
        "\n",
        "        for example in batch:\n",
        "            for idx, text in enumerate(example.texts):\n",
        "                texts[idx].append(text.strip())\n",
        "\n",
        "            labels.append(example.label)\n",
        "\n",
        "        tokenized = self.tokenizer(*texts, padding=True, truncation='longest_first', return_tensors=\"pt\", max_length=self.max_length)\n",
        "        labels = torch.tensor(labels, dtype=torch.float if self.config.num_labels == 1 else torch.long).to(self._target_device)\n",
        "\n",
        "        for name in tokenized:\n",
        "            tokenized[name] = tokenized[name].to(self._target_device)\n",
        "\n",
        "        return tokenized, labels\n",
        "\n",
        "    def smart_batching_collate_text_only(self, batch):\n",
        "        texts = [[] for _ in range(len(batch[0]))]\n",
        "\n",
        "        for example in batch:\n",
        "            for idx, text in enumerate(example):\n",
        "                texts[idx].append(text.strip())\n",
        "\n",
        "        tokenized = self.tokenizer(*texts, padding=True, truncation='longest_first', return_tensors=\"pt\", max_length=self.max_length)\n",
        "\n",
        "        for name in tokenized:\n",
        "            tokenized[name] = tokenized[name].to(self._target_device)\n",
        "\n",
        "        return tokenized\n",
        "\n",
        "    def fit(self,\n",
        "            train_dataloader: DataLoader,\n",
        "            evaluator: SentenceEvaluator = None,\n",
        "            epochs: int = 1,\n",
        "            loss_fct = None,\n",
        "            activation_fct = nn.Identity(),\n",
        "            scheduler: str = 'WarmupLinear',\n",
        "            warmup_steps: int = 10000,\n",
        "            accumulation_steps: int = 1,\n",
        "            optimizer_class: Type[Optimizer] = transformers.AdamW,\n",
        "            optimizer_params: Dict[str, object] = {'lr': 2e-5},\n",
        "            weight_decay: float = 0.01,\n",
        "            evaluation_steps: int = 0,\n",
        "            output_path: str = None,\n",
        "            save_best_model: bool = True,\n",
        "            max_grad_norm: float = 1,\n",
        "            use_amp: bool = False,\n",
        "            callback: Callable[[float, int, int], None] = None,\n",
        "            ):\n",
        "        \"\"\"\n",
        "        Train the model with the given training objective\n",
        "        Each training objective is sampled in turn for one batch.\n",
        "        We sample only as many batches from each objective as there are in the smallest one\n",
        "        to make sure of equal training with each dataset.\n",
        "\n",
        "        :param train_dataloader: DataLoader with training InputExamples\n",
        "        :param evaluator: An evaluator (sentence_transformers.evaluation) evaluates the model performance during training on held-out dev data. It is used to determine the best model that is saved to disc.\n",
        "        :param epochs: Number of epochs for training\n",
        "        :param loss_fct: Which loss function to use for training. If None, will use nn.BCEWithLogitsLoss() if self.config.num_labels == 1 else nn.CrossEntropyLoss()\n",
        "        :param activation_fct: Activation function applied on top of logits output of model.\n",
        "        :param scheduler: Learning rate scheduler. Available schedulers: constantlr, warmupconstant, warmuplinear, warmupcosine, warmupcosinewithhardrestarts\n",
        "        :param warmup_steps: Behavior depends on the scheduler. For WarmupLinear (default), the learning rate is increased from o up to the maximal learning rate. After these many training steps, the learning rate is decreased linearly back to zero.\n",
        "        :param accumulation_steps: Number of steps to accumulate before performing a backward pass\n",
        "        :param optimizer_class: Optimizer\n",
        "        :param optimizer_params: Optimizer parameters\n",
        "        :param weight_decay: Weight decay for model parameters\n",
        "        :param evaluation_steps: If > 0, evaluate the model using evaluator after each number of training steps\n",
        "        :param output_path: Storage path for the model and evaluation files\n",
        "        :param save_best_model: If true, the best model (according to evaluator) is stored at output_path\n",
        "        :param max_grad_norm: Used for gradient normalization.\n",
        "        :param use_amp: Use Automatic Mixed Precision (AMP). Only for Pytorch >= 1.6.0\n",
        "        :param callback: Callback function that is invoked after each evaluation.\n",
        "                It must accept the following three parameters in this order:\n",
        "                `score`, `epoch`, `steps`\n",
        "        \"\"\"\n",
        "        train_dataloader.collate_fn = self.smart_batching_collate\n",
        "\n",
        "        if use_amp:\n",
        "            from torch.cuda.amp import autocast\n",
        "            scaler = torch.cuda.amp.GradScaler()\n",
        "\n",
        "        self.model.to(self._target_device)\n",
        "\n",
        "        if output_path is not None:\n",
        "            os.makedirs(output_path, exist_ok=True)\n",
        "\n",
        "        self.best_score = -9999999\n",
        "        num_train_steps = int(len(train_dataloader) * epochs)\n",
        "\n",
        "        # Prepare optimizers\n",
        "        param_optimizer = list(self.model.named_parameters())\n",
        "\n",
        "        no_decay = ['bias', 'LayerNorm.bias', 'LayerNorm.weight']\n",
        "        optimizer_grouped_parameters = [\n",
        "            {'params': [p for n, p in param_optimizer if not any(nd in n for nd in no_decay)], 'weight_decay': weight_decay},\n",
        "            {'params': [p for n, p in param_optimizer if any(nd in n for nd in no_decay)], 'weight_decay': 0.0}\n",
        "        ]\n",
        "\n",
        "        optimizer = optimizer_class(optimizer_grouped_parameters, **optimizer_params)\n",
        "\n",
        "        if isinstance(scheduler, str):\n",
        "            scheduler = SentenceTransformer._get_scheduler(optimizer, scheduler=scheduler, warmup_steps=warmup_steps, t_total=num_train_steps)\n",
        "\n",
        "        if loss_fct is None:\n",
        "            loss_fct = nn.BCEWithLogitsLoss() if self.config.num_labels == 1 else nn.CrossEntropyLoss()\n",
        "\n",
        "\n",
        "        skip_scheduler = False\n",
        "        for epoch in tqdm.trange(epochs, desc=\"Epoch\"):\n",
        "            training_steps = 0\n",
        "            self.model.zero_grad()\n",
        "            self.model.train()\n",
        "            for i, (features, labels) in tqdm.tqdm(enumerate(train_dataloader), total=(len(train_dataloader) // accumulation_steps), desc=\"Iteration\", smoothing=0.05):\n",
        "                if use_amp:\n",
        "                    with autocast():\n",
        "                        model_predictions = self.model(**features, return_dict=True)\n",
        "                        logits = activation_fct(model_predictions.logits)\n",
        "                        if self.config.num_labels == 1:\n",
        "                            logits = logits.view(-1)\n",
        "                        loss_value = loss_fct(logits, labels)\n",
        "                        loss_value /= accumulation_steps\n",
        "\n",
        "                    scale_before_step = scaler.get_scale()\n",
        "                    scaler.scale(loss_value).backward()\n",
        "                    if (i + 1) % accumulation_steps == 0:\n",
        "                        scaler.unscale_(optimizer)\n",
        "                        torch.nn.utils.clip_grad_norm_(self.model.parameters(), max_grad_norm)\n",
        "                        scaler.step(optimizer)\n",
        "                        scaler.update()\n",
        "                        optimizer.zero_grad()\n",
        "\n",
        "                    skip_scheduler = scaler.get_scale() != scale_before_step\n",
        "                else:\n",
        "                    model_predictions = self.model(**features, return_dict=True)\n",
        "                    logits = activation_fct(model_predictions.logits)\n",
        "                    if self.config.num_labels == 1:\n",
        "                        logits = logits.view(-1)\n",
        "                    loss_value = loss_fct(logits, labels)\n",
        "                    loss_value /= accumulation_steps\n",
        "                    loss_value.backward()\n",
        "                    if (i + 1) % accumulation_steps == 0:\n",
        "                        torch.nn.utils.clip_grad_norm_(self.model.parameters(), max_grad_norm)\n",
        "                        optimizer.step()\n",
        "                        optimizer.zero_grad()\n",
        "\n",
        "                if not skip_scheduler and (i + 1) % accumulation_steps == 0:\n",
        "                    scheduler.step()\n",
        "\n",
        "                training_steps += 1\n",
        "\n",
        "                if evaluator is not None and evaluation_steps > 0 and training_steps % evaluation_steps == 0:\n",
        "                    self._eval_during_training(evaluator, output_path, save_best_model, epoch, training_steps, callback)\n",
        "\n",
        "                    self.model.zero_grad()\n",
        "                    self.model.train()\n",
        "\n",
        "            if evaluator is not None:\n",
        "                self._eval_during_training(evaluator, output_path, save_best_model, epoch, -1, callback)\n",
        "\n",
        "\n",
        "\n",
        "    def predict(self, sentences: List[List[str]],\n",
        "               batch_size: int = 32,\n",
        "               show_progress_bar: bool = None,\n",
        "               num_workers: int = 0,\n",
        "               activation_fct = None,\n",
        "               apply_softmax = False,\n",
        "               convert_to_numpy: bool = True,\n",
        "               convert_to_tensor: bool = False\n",
        "               ):\n",
        "        \"\"\"\n",
        "        Performs predicts with the CrossEncoder on the given sentence pairs.\n",
        "\n",
        "        :param sentences: A list of sentence pairs [[Sent1, Sent2], [Sent3, Sent4]]\n",
        "        :param batch_size: Batch size for encoding\n",
        "        :param show_progress_bar: Output progress bar\n",
        "        :param num_workers: Number of workers for tokenization\n",
        "        :param activation_fct: Activation function applied on the logits output of the CrossEncoder. If None, nn.Sigmoid() will be used if num_labels=1, else nn.Identity\n",
        "        :param convert_to_numpy: Convert the output to a numpy matrix.\n",
        "        :param apply_softmax: If there are more than 2 dimensions and apply_softmax=True, applies softmax on the logits output\n",
        "        :param convert_to_tensor:  Conver the output to a tensor.\n",
        "        :return: Predictions for the passed sentence pairs\n",
        "        \"\"\"\n",
        "        input_was_string = False\n",
        "        if isinstance(sentences[0], str):  # Cast an individual sentence to a list with length 1\n",
        "            sentences = [sentences]\n",
        "            input_was_string = True\n",
        "\n",
        "        inp_dataloader = DataLoader(sentences, batch_size=batch_size, collate_fn=self.smart_batching_collate_text_only, num_workers=num_workers, shuffle=False)\n",
        "\n",
        "        if show_progress_bar is None:\n",
        "            show_progress_bar = (logger.getEffectiveLevel() == logging.INFO or logger.getEffectiveLevel() == logging.DEBUG)\n",
        "\n",
        "        iterator = inp_dataloader\n",
        "        if show_progress_bar:\n",
        "            iterator = tqdm.tqdm(inp_dataloader, desc=\"Batches\")\n",
        "\n",
        "        if activation_fct is None:\n",
        "            activation_fct = self.default_activation_function\n",
        "\n",
        "        pred_scores = []\n",
        "        self.model.eval()\n",
        "        self.model.to(self._target_device)\n",
        "        with torch.no_grad():\n",
        "            for features in iterator:\n",
        "                model_predictions = self.model(**features, return_dict=True)\n",
        "                logits = activation_fct(model_predictions.logits)\n",
        "\n",
        "                if apply_softmax and len(logits[0]) > 1:\n",
        "                    logits = torch.nn.functional.softmax(logits, dim=1)\n",
        "                pred_scores.extend(logits)\n",
        "\n",
        "        if self.config.num_labels == 1:\n",
        "            pred_scores = [score[0] for score in pred_scores]\n",
        "\n",
        "        if convert_to_tensor:\n",
        "            pred_scores = torch.stack(pred_scores)\n",
        "        elif convert_to_numpy:\n",
        "            pred_scores = np.asarray([score.cpu().detach().numpy() for score in pred_scores])\n",
        "\n",
        "        if input_was_string:\n",
        "            pred_scores = pred_scores[0]\n",
        "\n",
        "        return pred_scores\n",
        "\n",
        "\n",
        "    def _eval_during_training(self, evaluator, output_path, save_best_model, epoch, steps, callback):\n",
        "        \"\"\"Runs evaluation during the training\"\"\"\n",
        "        if evaluator is not None:\n",
        "            score = evaluator(self, output_path=output_path, epoch=epoch, steps=steps)\n",
        "            if callback is not None:\n",
        "                callback(score, epoch, steps)\n",
        "            if score > self.best_score:\n",
        "                self.best_score = score\n",
        "                if save_best_model:\n",
        "                    self.save(output_path)\n",
        "\n",
        "    def save(self, path):\n",
        "        \"\"\"\n",
        "        Saves all model and tokenizer to path\n",
        "        \"\"\"\n",
        "        if path is None:\n",
        "            return\n",
        "\n",
        "        logger.info(\"Save model to {}\".format(path))\n",
        "        self.model.save_pretrained(path)\n",
        "        self.tokenizer.save_pretrained(path)\n",
        "\n",
        "    def save_pretrained(self, path):\n",
        "        \"\"\"\n",
        "        Same function as save\n",
        "        \"\"\"\n",
        "        return self.save(path)"
      ],
      "metadata": {
        "id": "qVtyP9_yqPRj"
      },
      "execution_count": null,
      "outputs": []
    },
    {
      "cell_type": "markdown",
      "source": [
        "## Evaluator Class"
      ],
      "metadata": {
        "id": "0ZvgdJx_aUYL"
      }
    },
    {
      "cell_type": "code",
      "source": [
        "import numpy as np\n",
        "import os\n",
        "import csv\n",
        "import pytrec_eval\n",
        "import tqdm\n",
        "from sentence_transformers import LoggingHandler, util\n",
        "class CERerankingEvaluatorTest:\n",
        "    \"\"\"\n",
        "    This class evaluates a CrossEncoder model for the task of re-ranking.\n",
        "\n",
        "    Given a query and a list of documents, it computes the score [query, doc_i] for all possible\n",
        "    documents and sorts them in decreasing order. Then, ndcg@10 is compute to measure the quality of the ranking.\n",
        "\n",
        "    :param samples: Must be a list and each element is of the form: {'query': '', 'positive': [], 'negative': []}. Query is the search query,\n",
        "     positive is a list of positive (relevant) documents, negative is a list of negative (irrelevant) documents.\n",
        "    \"\"\"\n",
        "    def __init__(self, samples, qrel, all_metrics: set = {\"recall.10\"}, ranking_output_path: str = '', batch_size: int = 16):\n",
        "        self.samples = samples\n",
        "        self.all_metrics = all_metrics\n",
        "        self.qrel = qrel\n",
        "        self.ranking_output_path = ranking_output_path\n",
        "        self.batch_size = batch_size\n",
        "        if isinstance(self.samples, dict):\n",
        "            self.samples = list(self.samples.values())\n",
        "        self.mean_metrics = {}\n",
        "    def rank(self, model) -> float:\n",
        "        print(\"len: # queries: \" + str(len(self.samples)))\n",
        "        cnt = 0\n",
        "        try:\n",
        "            run = {}\n",
        "            f_w = open(self.ranking_output_path, \"w+\")\n",
        "            for instance in tqdm.tqdm(self.samples):\n",
        "                cnt += 1\n",
        "                print(\"cnt: \", cnt)\n",
        "                qid = instance['qid']\n",
        "                if qid not in run:\n",
        "                  run[qid] = {}\n",
        "                query = instance['query']\n",
        "                docs = list(instance['docs'])\n",
        "                ids = list(instance['docs_ids'])\n",
        "                model_input = [[query, doc] for doc in docs]\n",
        "                if model.config.num_labels > 1: #Cross-Encoder that predict more than 1 score, we use the last and apply softmax\n",
        "                    pred_scores = model.predict(model_input, apply_softmax=True, batch_size = self.batch_size)[:, 1].tolist()\n",
        "                else:\n",
        "                    pred_scores = model.predict(model_input, batch_size = self.batch_size).tolist()\n",
        "                for pred_score, did in zip(list(pred_scores), ids):\n",
        "                    line = \"{query_id} Q0 {document_id} {rank} {score} STANDARD\\n\".format(query_id=qid,\n",
        "                                                                                          document_id=did,\n",
        "                                                                                          rank=\"-10\",#rank,\n",
        "                                                                                          score=str(pred_score))\n",
        "                    f_w.write(line)\n",
        "                    run[qid][did] = float(pred_score)\n",
        "            f_w.close()\n",
        "            if self.qrel is not None and self.qrel != \"None\" : # if we do not know labels, then we only re-rank and store run/ranked list file :)\n",
        "              evaluator = pytrec_eval.RelevanceEvaluator(self.qrel, self.all_metrics)\n",
        "              scores = evaluator.evaluate(run)\n",
        "              self.mean_metrics = {}\n",
        "              metrics_string = \"\"\n",
        "              for metric in list(self.all_metrics):\n",
        "                  self.mean_metrics[metric] = np.mean([ele[metric.replace(\".\",\"_\")] for ele in scores.values()])\n",
        "                  metrics_string = metrics_string +  \"{}: {} | \".format(metric, self.mean_metrics[metric])\n",
        "              print(\"metrics eval: \", metrics_string)\n",
        "        except Exception as e:\n",
        "            logger.error(\"error: \", e)\n",
        "        self.__fix_rank_filed() # store a ranking run file with <rank> field fixed in it!\n",
        "        return self.mean_metrics\n",
        "\n",
        "    def __fix_rank_filed(self, ranking_path = \"\", splittor = \" \", return_lines = False, ranking_lines = None, remove_last_query = None):\n",
        "        splittor = splittor\n",
        "        if ranking_path == \"\":\n",
        "          ranking_path = self.ranking_output_path\n",
        "        else:\n",
        "          ranking_path = ranking_path\n",
        "        return_lines = return_lines\n",
        "        ranking_lines = ranking_lines\n",
        "        remove_last_query = remove_last_query\n",
        "\n",
        "        re_rank_dict = {} # structure {query: {did:score, }}\n",
        "        if ranking_lines is None:\n",
        "            ranking_lines = open(ranking_path, \"r\").readlines()\n",
        "        for line in ranking_lines:\n",
        "            line = line.strip()\n",
        "            if len(line.split(splittor))<4: continue\n",
        "            qid, q0, did, rank, score, runname = line.split(splittor)\n",
        "            if qid not in re_rank_dict:\n",
        "                re_rank_dict[qid]= {}\n",
        "            re_rank_dict[qid][did] = float(score)\n",
        "\n",
        "        json_query_docs_score = re_rank_dict\n",
        "        list_of_tupple = []\n",
        "        for query, docs_dict in json_query_docs_score.items():\n",
        "            for doc_id, score in docs_dict.items():\n",
        "                # print(query, doc_id, score)\n",
        "                list_of_tupple.append((query, doc_id, float(score)))\n",
        "\n",
        "        new_list = sorted(list_of_tupple, key=lambda element: (element[0], element[2]), reverse=True)\n",
        "        out_lines = \"\"\n",
        "        rank = 1\n",
        "        cur_q_id =\"\"\n",
        "        find_duplicate = [] # structure: qid_doc_id\n",
        "        for query, doc_id, score in new_list:\n",
        "            dup = query+\"_\"+doc_id\n",
        "            if query == doc_id:continue\n",
        "            if cur_q_id == \"\":\n",
        "                cur_q_id = query\n",
        "            if cur_q_id != query:\n",
        "                rank = 1\n",
        "                cur_q_id = query\n",
        "            line = \"{query_id} Q0 {document_id} {rank} {score} STANDARD\\n\".format(query_id=query,\n",
        "                                                                                        document_id=doc_id, rank=str(rank), score= str(score))\n",
        "            rank += 1\n",
        "            out_lines += line\n",
        "        if return_lines==True:\n",
        "            return out_lines\n",
        "        else:\n",
        "            f_qrel = open(ranking_path+\"_rankfield_fixed\", \"w\")\n",
        "            f_qrel.write(out_lines)\n",
        "            f_qrel.close()\n"
      ],
      "metadata": {
        "id": "KBRFzC_3ttsA"
      },
      "execution_count": null,
      "outputs": []
    },
    {
      "cell_type": "markdown",
      "source": [
        "# Reading data"
      ],
      "metadata": {
        "id": "c0vyoTd5cJ1H"
      }
    },
    {
      "cell_type": "markdown",
      "source": [
        "### reading corpus and queries: utils"
      ],
      "metadata": {
        "id": "vFjBKFvtnaNG"
      }
    },
    {
      "cell_type": "code",
      "source": [
        "def read_collection(f_path):\n",
        "  corpus = {}\n",
        "  with open(f_path, \"r\") as fp:\n",
        "    for line in tqdm.tqdm(fp, desc=\"reading {}\".format(f_path)):\n",
        "      did, dtext = line.strip().split(\"\\t\")[0], \" \".join(line.strip().split(\"\\t\")[1:])\n",
        "      corpus[did] = dtext\n",
        "  return corpus"
      ],
      "metadata": {
        "id": "clfEPg9TnbVY"
      },
      "execution_count": null,
      "outputs": []
    },
    {
      "cell_type": "code",
      "source": [
        "from glob import glob\n",
        "def read_aila_documents(f_path):\n",
        "  files = glob(corpus_path+\"*.txt\")\n",
        "  corpus = {}\n",
        "  for file_ in tqdm.tqdm(files, desc=\"reading {}\".format(f_path)):\n",
        "    content = open(file_, \"r\").read().split(\"\\n\")[1].split(\":\")[1]\n",
        "    doc_id = file_.split(\"/\")[-1].replace(\".txt\", \"\")\n",
        "    corpus[doc_id] = content\n",
        "  return corpus"
      ],
      "metadata": {
        "id": "qPUa-FnJ9_3i"
      },
      "execution_count": null,
      "outputs": []
    },
    {
      "cell_type": "markdown",
      "source": [
        "### reading corpus and queries: main"
      ],
      "metadata": {
        "id": "9fEVq3Nnp0Be"
      }
    },
    {
      "cell_type": "code",
      "source": [
        "queries = read_collection(queries_path)\n",
        "corpus = read_aila_documents(corpus_path)"
      ],
      "metadata": {
        "id": "gykYZ2Q8cLYB",
        "colab": {
          "base_uri": "https://localhost:8080/"
        },
        "outputId": "d92f9d97-685a-4d09-90c6-fc9598ba449b"
      },
      "execution_count": null,
      "outputs": [
        {
          "output_type": "stream",
          "name": "stderr",
          "text": [
            "reading ./queries_val.tsv: 10it [00:00, 12028.40it/s]\n",
            "reading ./Object_statutes/: 100%|██████████| 197/197 [00:00<00:00, 18290.20it/s]\n"
          ]
        }
      ]
    },
    {
      "cell_type": "markdown",
      "source": [
        "### truncating corpus and queries: utils"
      ],
      "metadata": {
        "id": "wp6R4T60cj0B"
      }
    },
    {
      "cell_type": "code",
      "source": [
        "from transformers import AutoTokenizer\n",
        "tokenizer = AutoTokenizer.from_pretrained(fine_tuned_model_path, truncation_side = \"right\") # right is default btw."
      ],
      "metadata": {
        "id": "Ceef-wTHdaH7"
      },
      "execution_count": null,
      "outputs": []
    },
    {
      "cell_type": "code",
      "source": [
        "def get_truncated_dict(id_content_dict, tokenizer, max_length):\n",
        "  for id_, content, in tqdm.tqdm(id_content_dict.items()):\n",
        "    truncated_content = tokenizer.batch_decode(tokenizer(content, padding=True, truncation=True, return_tensors=\"pt\", max_length=max_length)['input_ids'], skip_special_tokens=True)[0]\n",
        "    id_content_dict[id_] = truncated_content\n",
        "  return id_content_dict"
      ],
      "metadata": {
        "id": "k_AD_IY7clkc"
      },
      "execution_count": null,
      "outputs": []
    },
    {
      "cell_type": "markdown",
      "source": [
        "### truncating corpus and queries: main"
      ],
      "metadata": {
        "id": "H3nwW34Re83U"
      }
    },
    {
      "cell_type": "code",
      "source": [
        "queries = get_truncated_dict(queries, tokenizer, qlen)\n",
        "corpus = get_truncated_dict(corpus,tokenizer, dlen)"
      ],
      "metadata": {
        "id": "3znqnLqRdG7r",
        "colab": {
          "base_uri": "https://localhost:8080/"
        },
        "outputId": "f0f43094-cfaf-47e3-e564-024aeba3842c"
      },
      "execution_count": null,
      "outputs": [
        {
          "output_type": "stream",
          "name": "stderr",
          "text": [
            "100%|██████████| 10/10 [00:00<00:00, 402.22it/s]\n",
            "100%|██████████| 197/197 [00:00<00:00, 854.66it/s]\n"
          ]
        }
      ]
    },
    {
      "cell_type": "markdown",
      "source": [
        "### reading top1000: utils"
      ],
      "metadata": {
        "id": "aHoDoZvje5QI"
      }
    },
    {
      "cell_type": "code",
      "source": [
        "def read_top1000_run(f_path, corpus, queries, separator = \" \"):\n",
        "  samples = {}\n",
        "  with open(f_path, \"r\") as fp:\n",
        "    for line in tqdm.tqdm(fp, desc=\"reading {}\".format(f_path)):\n",
        "      qid, _, did, rank, score, __ = line.strip().split(separator)\n",
        "      if qid not in queries: continue\n",
        "      query = queries[qid]\n",
        "      if qid not in samples:\n",
        "        samples[qid] = {'qid': qid , 'query': query, 'docs': list(), 'docs_ids': list()}\n",
        "      samples[qid]['docs'].append(corpus[did])\n",
        "      samples[qid]['docs_ids'].append(did)\n",
        "  return samples"
      ],
      "metadata": {
        "id": "2UUxOGPkm6qu"
      },
      "execution_count": null,
      "outputs": []
    },
    {
      "cell_type": "markdown",
      "source": [
        "### reading top1000: main"
      ],
      "metadata": {
        "id": "ZgRqtjQynUMW"
      }
    },
    {
      "cell_type": "code",
      "source": [
        "test_samples = read_top1000_run(top100_run_path, corpus, queries, separator = \" \")"
      ],
      "metadata": {
        "colab": {
          "base_uri": "https://localhost:8080/"
        },
        "id": "r1PAyW1Dm88-",
        "outputId": "95d45c43-1803-4518-84a6-32b8b5be6865"
      },
      "execution_count": null,
      "outputs": [
        {
          "output_type": "stream",
          "name": "stderr",
          "text": [
            "reading ./base_run.txt: 5000it [00:00, 1010188.82it/s]\n"
          ]
        }
      ]
    },
    {
      "cell_type": "markdown",
      "source": [
        "### reading qrel"
      ],
      "metadata": {
        "id": "tXQeBKT8nY9_"
      }
    },
    {
      "cell_type": "code",
      "source": [
        "with open(qrel_path, 'r') as f_qrel:\n",
        "    qrel = pytrec_eval.parse_qrel(f_qrel)"
      ],
      "metadata": {
        "id": "Av_HWf6JnaMu"
      },
      "execution_count": null,
      "outputs": []
    },
    {
      "cell_type": "markdown",
      "source": [
        "# Evaluating"
      ],
      "metadata": {
        "id": "DWrV01NIntF1"
      }
    },
    {
      "cell_type": "code",
      "source": [
        "# model = CrossEncoder(fine_tuned_model_path, num_labels=1, max_length=model_max_length)\n",
        "model = CrossEncoder(fine_tuned_model_path, num_labels=1, max_length=model_max_length)\n",
        "model.config.gradient_checkpointing = False"
      ],
      "metadata": {
        "colab": {
          "base_uri": "https://localhost:8080/"
        },
        "id": "MjFrGTabnubH",
        "outputId": "a5860064-ec53-4491-d68b-416471e9beb6"
      },
      "execution_count": null,
      "outputs": [
        {
          "output_type": "stream",
          "name": "stderr",
          "text": [
            "INFO:root:Use pytorch device: cuda\n"
          ]
        }
      ]
    },
    {
      "cell_type": "code",
      "source": [
        "evaluator = CERerankingEvaluatorTest(\n",
        "    test_samples,\n",
        "    qrel,\n",
        "    all_metrics = {\"ndcg_cut.10\", \"map_cut.1000\", \"recall.10\"},\n",
        "    ranking_output_path = ranking_output_path,\n",
        "    batch_size = batch_size\n",
        ")\n",
        "measures_results = evaluator.rank(model)"
      ],
      "metadata": {
        "id": "znTgJ4ubtL0m",
        "colab": {
          "base_uri": "https://localhost:8080/"
        },
        "outputId": "22aaaaca-31e1-4ba4-ea8e-3e9942405144"
      },
      "execution_count": null,
      "outputs": [
        {
          "output_type": "stream",
          "name": "stdout",
          "text": [
            "len: # queries: 10\n"
          ]
        },
        {
          "output_type": "stream",
          "name": "stderr",
          "text": [
            "\r  0%|          | 0/10 [00:00<?, ?it/s]"
          ]
        },
        {
          "output_type": "stream",
          "name": "stdout",
          "text": [
            "cnt:  1\n"
          ]
        },
        {
          "output_type": "stream",
          "name": "stderr",
          "text": [
            "\n",
            "Batches:   0%|          | 0/4 [00:00<?, ?it/s]\u001b[A\n",
            "Batches:  25%|██▌       | 1/4 [00:00<00:00,  4.70it/s]\u001b[A\n",
            "Batches:  50%|█████     | 2/4 [00:01<00:01,  1.49it/s]\u001b[A\n",
            "Batches:  75%|███████▌  | 3/4 [00:02<00:00,  1.25it/s]\u001b[A\n",
            "Batches: 100%|██████████| 4/4 [00:03<00:00,  1.29it/s]\n",
            " 10%|█         | 1/10 [00:03<00:29,  3.23s/it]"
          ]
        },
        {
          "output_type": "stream",
          "name": "stdout",
          "text": [
            "cnt:  2\n"
          ]
        },
        {
          "output_type": "stream",
          "name": "stderr",
          "text": [
            "\n",
            "Batches:   0%|          | 0/4 [00:00<?, ?it/s]\u001b[A\n",
            "Batches:  50%|█████     | 2/4 [00:01<00:01,  2.00it/s]\u001b[A\n",
            "Batches:  75%|███████▌  | 3/4 [00:01<00:00,  1.45it/s]\u001b[A\n",
            "Batches: 100%|██████████| 4/4 [00:02<00:00,  1.37it/s]\n",
            " 20%|██        | 2/10 [00:06<00:24,  3.10s/it]"
          ]
        },
        {
          "output_type": "stream",
          "name": "stdout",
          "text": [
            "cnt:  3\n"
          ]
        },
        {
          "output_type": "stream",
          "name": "stderr",
          "text": [
            "\n",
            "Batches:   0%|          | 0/4 [00:00<?, ?it/s]\u001b[A\n",
            "Batches:  50%|█████     | 2/4 [00:01<00:01,  1.91it/s]\u001b[A\n",
            "Batches:  75%|███████▌  | 3/4 [00:02<00:00,  1.39it/s]\u001b[A\n",
            "Batches: 100%|██████████| 4/4 [00:03<00:00,  1.32it/s]\n",
            " 30%|███       | 3/10 [00:09<00:21,  3.11s/it]"
          ]
        },
        {
          "output_type": "stream",
          "name": "stdout",
          "text": [
            "cnt:  4\n"
          ]
        },
        {
          "output_type": "stream",
          "name": "stderr",
          "text": [
            "\n",
            "Batches:   0%|          | 0/4 [00:00<?, ?it/s]\u001b[A\n",
            "Batches:  25%|██▌       | 1/4 [00:00<00:00,  4.81it/s]\u001b[A\n",
            "Batches:  50%|█████     | 2/4 [00:01<00:01,  1.53it/s]\u001b[A\n",
            "Batches:  75%|███████▌  | 3/4 [00:02<00:00,  1.25it/s]\u001b[A\n",
            "Batches: 100%|██████████| 4/4 [00:03<00:00,  1.27it/s]\n",
            " 40%|████      | 4/10 [00:12<00:18,  3.16s/it]"
          ]
        },
        {
          "output_type": "stream",
          "name": "stdout",
          "text": [
            "cnt:  5\n"
          ]
        },
        {
          "output_type": "stream",
          "name": "stderr",
          "text": [
            "\n",
            "Batches:   0%|          | 0/4 [00:00<?, ?it/s]\u001b[A\n",
            "Batches:  25%|██▌       | 1/4 [00:00<00:00,  7.31it/s]\u001b[A\n",
            "Batches:  50%|█████     | 2/4 [00:01<00:01,  1.56it/s]\u001b[A\n",
            "Batches:  75%|███████▌  | 3/4 [00:02<00:00,  1.27it/s]\u001b[A\n",
            "Batches: 100%|██████████| 4/4 [00:03<00:00,  1.31it/s]\n",
            " 50%|█████     | 5/10 [00:15<00:15,  3.16s/it]"
          ]
        },
        {
          "output_type": "stream",
          "name": "stdout",
          "text": [
            "cnt:  6\n"
          ]
        },
        {
          "output_type": "stream",
          "name": "stderr",
          "text": [
            "\n",
            "Batches:   0%|          | 0/4 [00:00<?, ?it/s]\u001b[A\n",
            "Batches:  25%|██▌       | 1/4 [00:00<00:00,  9.53it/s]\u001b[A\n",
            "Batches:  50%|█████     | 2/4 [00:01<00:01,  1.65it/s]\u001b[A\n",
            "Batches:  75%|███████▌  | 3/4 [00:02<00:00,  1.31it/s]\u001b[A\n",
            "Batches: 100%|██████████| 4/4 [00:02<00:00,  1.34it/s]\n",
            " 60%|██████    | 6/10 [00:18<00:12,  3.15s/it]"
          ]
        },
        {
          "output_type": "stream",
          "name": "stdout",
          "text": [
            "cnt:  7\n"
          ]
        },
        {
          "output_type": "stream",
          "name": "stderr",
          "text": [
            "\n",
            "Batches:   0%|          | 0/4 [00:00<?, ?it/s]\u001b[A\n",
            "Batches:  50%|█████     | 2/4 [00:01<00:01,  1.86it/s]\u001b[A\n",
            "Batches:  75%|███████▌  | 3/4 [00:02<00:00,  1.41it/s]\u001b[A\n",
            "Batches: 100%|██████████| 4/4 [00:03<00:00,  1.32it/s]\n",
            " 70%|███████   | 7/10 [00:22<00:09,  3.14s/it]"
          ]
        },
        {
          "output_type": "stream",
          "name": "stdout",
          "text": [
            "cnt:  8\n"
          ]
        },
        {
          "output_type": "stream",
          "name": "stderr",
          "text": [
            "\n",
            "Batches:   0%|          | 0/4 [00:00<?, ?it/s]\u001b[A\n",
            "Batches:  25%|██▌       | 1/4 [00:00<00:00,  7.57it/s]\u001b[A\n",
            "Batches:  50%|█████     | 2/4 [00:01<00:01,  1.62it/s]\u001b[A\n",
            "Batches:  75%|███████▌  | 3/4 [00:02<00:00,  1.25it/s]\u001b[A\n",
            "Batches: 100%|██████████| 4/4 [00:03<00:00,  1.29it/s]\n",
            " 80%|████████  | 8/10 [00:25<00:06,  3.14s/it]"
          ]
        },
        {
          "output_type": "stream",
          "name": "stdout",
          "text": [
            "cnt:  9\n"
          ]
        },
        {
          "output_type": "stream",
          "name": "stderr",
          "text": [
            "\n",
            "Batches:   0%|          | 0/4 [00:00<?, ?it/s]\u001b[A\n",
            "Batches:  25%|██▌       | 1/4 [00:00<00:00,  3.83it/s]\u001b[A\n",
            "Batches:  50%|█████     | 2/4 [00:01<00:01,  1.46it/s]\u001b[A\n",
            "Batches:  75%|███████▌  | 3/4 [00:02<00:00,  1.27it/s]\u001b[A\n",
            "Batches: 100%|██████████| 4/4 [00:03<00:00,  1.28it/s]\n",
            " 90%|█████████ | 9/10 [00:28<00:03,  3.18s/it]"
          ]
        },
        {
          "output_type": "stream",
          "name": "stdout",
          "text": [
            "cnt:  10\n"
          ]
        },
        {
          "output_type": "stream",
          "name": "stderr",
          "text": [
            "\n",
            "Batches:   0%|          | 0/4 [00:00<?, ?it/s]\u001b[A\n",
            "Batches:  25%|██▌       | 1/4 [00:00<00:00,  6.81it/s]\u001b[A\n",
            "Batches:  50%|█████     | 2/4 [00:01<00:01,  1.59it/s]\u001b[A\n",
            "Batches:  75%|███████▌  | 3/4 [00:02<00:00,  1.27it/s]\u001b[A\n",
            "Batches: 100%|██████████| 4/4 [00:03<00:00,  1.30it/s]\n",
            "100%|██████████| 10/10 [00:31<00:00,  3.16s/it]"
          ]
        },
        {
          "output_type": "stream",
          "name": "stdout",
          "text": [
            "metrics eval:  recall.10: 0.2733333333333334 | ndcg_cut.10: 0.29541121741060944 | map_cut.1000: 0.1918172633241283 | \n"
          ]
        },
        {
          "output_type": "stream",
          "name": "stderr",
          "text": [
            "\n"
          ]
        }
      ]
    },
    {
      "cell_type": "code",
      "source": [
        "print(\"measures_results: \", measures_results)"
      ],
      "metadata": {
        "colab": {
          "base_uri": "https://localhost:8080/"
        },
        "id": "CAsPaMQNCQp1",
        "outputId": "45e2689e-df87-4c94-8b38-814423fbb5e4"
      },
      "execution_count": null,
      "outputs": [
        {
          "output_type": "stream",
          "name": "stdout",
          "text": [
            "measures_results:  {'recall.10': 0.2733333333333334, 'ndcg_cut.10': 0.29541121741060944, 'map_cut.1000': 0.1918172633241283}\n"
          ]
        }
      ]
    }
  ]
}