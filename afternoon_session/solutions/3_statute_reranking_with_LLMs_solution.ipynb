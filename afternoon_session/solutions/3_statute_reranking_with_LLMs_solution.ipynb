{
  "nbformat": 4,
  "nbformat_minor": 0,
  "metadata": {
    "colab": {
      "provenance": [],
      "machine_shape": "hm",
      "collapsed_sections": [
        "49gniVGrybk1"
      ],
      "gpuType": "V100",
      "toc_visible": true
    },
    "kernelspec": {
      "name": "python3",
      "display_name": "Python 3"
    },
    "language_info": {
      "name": "python"
    },
    "accelerator": "GPU"
  },
  "cells": [
    {
      "cell_type": "markdown",
      "source": [
        "## Install libraries"
      ],
      "metadata": {
        "id": "K0Viw02D_piA"
      }
    },
    {
      "cell_type": "code",
      "source": [
        "!pip install sentencepiece\n",
        "!pip install transformers"
      ],
      "metadata": {
        "colab": {
          "base_uri": "https://localhost:8080/"
        },
        "id": "ExbJP6wpCE-P",
        "outputId": "99d88bd3-7605-435a-f516-340a99440530"
      },
      "execution_count": 39,
      "outputs": [
        {
          "output_type": "stream",
          "name": "stdout",
          "text": [
            "Requirement already satisfied: sentencepiece in /usr/local/lib/python3.10/dist-packages (0.1.99)\n",
            "Requirement already satisfied: transformers in /usr/local/lib/python3.10/dist-packages (4.32.1)\n",
            "Requirement already satisfied: filelock in /usr/local/lib/python3.10/dist-packages (from transformers) (3.12.2)\n",
            "Requirement already satisfied: huggingface-hub<1.0,>=0.15.1 in /usr/local/lib/python3.10/dist-packages (from transformers) (0.16.4)\n",
            "Requirement already satisfied: numpy>=1.17 in /usr/local/lib/python3.10/dist-packages (from transformers) (1.23.5)\n",
            "Requirement already satisfied: packaging>=20.0 in /usr/local/lib/python3.10/dist-packages (from transformers) (23.1)\n",
            "Requirement already satisfied: pyyaml>=5.1 in /usr/local/lib/python3.10/dist-packages (from transformers) (6.0.1)\n",
            "Requirement already satisfied: regex!=2019.12.17 in /usr/local/lib/python3.10/dist-packages (from transformers) (2023.6.3)\n",
            "Requirement already satisfied: requests in /usr/local/lib/python3.10/dist-packages (from transformers) (2.31.0)\n",
            "Requirement already satisfied: tokenizers!=0.11.3,<0.14,>=0.11.1 in /usr/local/lib/python3.10/dist-packages (from transformers) (0.13.3)\n",
            "Requirement already satisfied: safetensors>=0.3.1 in /usr/local/lib/python3.10/dist-packages (from transformers) (0.3.3)\n",
            "Requirement already satisfied: tqdm>=4.27 in /usr/local/lib/python3.10/dist-packages (from transformers) (4.66.1)\n",
            "Requirement already satisfied: fsspec in /usr/local/lib/python3.10/dist-packages (from huggingface-hub<1.0,>=0.15.1->transformers) (2023.6.0)\n",
            "Requirement already satisfied: typing-extensions>=3.7.4.3 in /usr/local/lib/python3.10/dist-packages (from huggingface-hub<1.0,>=0.15.1->transformers) (4.7.1)\n",
            "Requirement already satisfied: charset-normalizer<4,>=2 in /usr/local/lib/python3.10/dist-packages (from requests->transformers) (3.2.0)\n",
            "Requirement already satisfied: idna<4,>=2.5 in /usr/local/lib/python3.10/dist-packages (from requests->transformers) (3.4)\n",
            "Requirement already satisfied: urllib3<3,>=1.21.1 in /usr/local/lib/python3.10/dist-packages (from requests->transformers) (2.0.4)\n",
            "Requirement already satisfied: certifi>=2017.4.17 in /usr/local/lib/python3.10/dist-packages (from requests->transformers) (2023.7.22)\n"
          ]
        }
      ]
    },
    {
      "cell_type": "markdown",
      "source": [
        "## Load model"
      ],
      "metadata": {
        "id": "pt8Sgna4zvps"
      }
    },
    {
      "cell_type": "code",
      "source": [
        "import os\n",
        "from transformers import AutoTokenizer, AutoModelForCausalLM, AutoModelForSeq2SeqLM\n",
        "os.environ[\"HF_ENDPOINT\"] = \"https://huggingface.co\"\n",
        "from transformers import T5Tokenizer, T5ForConditionalGeneration\n",
        "tokenizer = T5Tokenizer.from_pretrained(\"google/flan-t5-small\")\n",
        "model = T5ForConditionalGeneration.from_pretrained(\"google/flan-t5-small\")"
      ],
      "metadata": {
        "id": "P_iSJS1dzxJU"
      },
      "execution_count": 40,
      "outputs": []
    },
    {
      "cell_type": "markdown",
      "source": [
        "### Set the prompt"
      ],
      "metadata": {
        "id": "LfbEKX9F4QZK"
      }
    },
    {
      "cell_type": "code",
      "source": [
        "template = \"\"\"You are expert in indian law.\n",
        "Example 1:\n",
        "Query: the appellant on february 9, 1961 was appointed as an officer in grade iii in the respondent bank ( for short'the bank'). he was promoted on april 1, 1968 to the grade officer in the foreign exchange department in the head office of the bank. sometime in 1964, mch society ( for short'the society') was formed of which the appellant was one of the chief promoters and thereafter its secretary. the object of the society was to construct residential premises for the employees of the bank and its other members. it appears that the complaint was received in respect of the affairs of the society relating to misappropriation of the funds of the society and consequently, in exercise of the powers under section s of act a1, the registrar on april 23, 1969 instituted an inquiry thereof. p1 was appointed the registrar's nominee who on october 4, 1969 ; submitted the report holding the appellant and two other office bearers of the society negligent in dealing with the funds of the society causing a loss to the tune of rs. 3, 59, 000 / -. the registrar on october 21, 1969, passed an order appointing an officer under section s of a1 to assess the loss caused to the society. however,\n",
        "Docuemnt: whoever, being in any manner entrusted with property, or with any dominion over property in his capacity of a public servant or in the way of his business as a banker, merchant, factor, broker, attorney or agent, commits criminal breach of trust in respect of that property, shall be punished with 1 [ imprisonment for life ], or with imprisonment of either description for a term which may extend to ten years, and shall also be liable to fine. substituted by act 26 of 1955, section 117 and schedule, for \" transportation for life \" ( w. e. f. 1 - 1 - 1956 ).\n",
        "Given the content of the Document, does it relevant to the Query? Yes\n",
        "\n",
        "Example 2:\n",
        "Query: the appellant on february 9, 1961 was appointed as an officer in grade iii in the respondent bank ( for short'the bank'). he was promoted on april 1, 1968 to the grade officer in the foreign exchange department in the head office of the bank. sometime in 1964, mch society ( for short'the society') was formed of which the appellant was one of the chief promoters and thereafter its secretary. the object of the society was to construct residential premises for the employees of the bank and its other members. it appears that the complaint was received in respect of the affairs of the society relating to misappropriation of the funds of the society and consequently, in exercise of the powers under section s of act a1, the registrar on april 23, 1969 instituted an inquiry thereof. p1 was appointed the registrar's nominee who on october 4, 1969 ; submitted the report holding the appellant and two other office bearers of the society negligent in dealing with the funds of the society causing a loss to the tune of rs. 3, 59, 000 / -. the registrar on october 21, 1969, passed an order appointing an officer under section s of a1 to assess the loss caused to the society. however,\n",
        "Docuemnt: in this act, \" dowry \" means any property or valuable security given or agreed to be given either directly or indirectly - ( a ) by one party to a marriage to the other party to the marriage ; or ( b ) by the parents of either party to a marriage or by any other person, to either party to the marriage or to any other person ; at or before 1 [ or at any time after the marriage ] 2 [ in connection with the marriage of the said parties, but does not include ] dower or mahr in the case of persons to whom the muslim personal law ( shariat ) applies 3 [... ] explanation ii. - the expression \" valuable security \" has the same meaning as in section 30 of the indian penal code ( 45 of 1860 ). substituted by act 43 of 1986, section 2, for \" or after the marriage \" ( w. e. f. 19 - 11 - 1986 ). for the words \" as consideration for the marriage of the said parties, but does not include \", substituted by dowry prohibition ( amendment ) act, 1984, section 2 ( a ) ( w. e. f. 2 - 10 - 1995 ). explanation i omitted by dowry prohibition ( amendment ) act, 1984\n",
        "Given the content of the Document, does it relevant to the Query? No\n",
        "\n",
        "Example 3:\n",
        "{}\n",
        "Given the content of the statute, does it relevant to the mentioned Legal Situation?\n",
        "\"\"\""
      ],
      "metadata": {
        "id": "PBkHUcV40rI1"
      },
      "execution_count": 41,
      "outputs": []
    },
    {
      "cell_type": "markdown",
      "source": [
        "### probability of token"
      ],
      "metadata": {
        "id": "Y746gRv6FfCD"
      }
    },
    {
      "cell_type": "code",
      "source": [
        "def get_score(tokens):\n",
        "  token_true_id  = tokenizer.get_vocab()['▁true']\n",
        "  token_false_id = tokenizer.get_vocab()['▁false']\n",
        "  import torch\n",
        "  output = model.generate(\n",
        "      tokens,\n",
        "      max_new_tokens=1,\n",
        "      return_dict_in_generate=True,\n",
        "      output_scores=True,\n",
        "  )\n",
        "  batch_scores = output.scores[0]\n",
        "  batch_scores = batch_scores[:, [token_false_id, token_true_id]]\n",
        "  batch_scores = torch.nn.functional.log_softmax(batch_scores, dim=1)\n",
        "  score = batch_scores[:, 1].exp().tolist()[0]\n",
        "  return score"
      ],
      "metadata": {
        "id": "Ejh9CKUjFhbQ"
      },
      "execution_count": 42,
      "outputs": []
    },
    {
      "cell_type": "markdown",
      "source": [
        "### Q_1, D1 candidate doc is relevant"
      ],
      "metadata": {
        "id": "XVUkeKBB4NbT"
      }
    },
    {
      "cell_type": "code",
      "source": [
        "new_input_content = \"\"\"Query: having been selected by the public service commission, the respondent herein was appointed as law officer - cum - draftsman in the directorate of cooperation. there was only one post in the same cadre and it had no promotional avenues. he filed a representation that his post be upgraded or two promotional avenues be provided to him. several representations made by him having not received consideration at the hands of the appellants, the respondent herein filed a writ petition seeking for a specific direction upon the appellant herein to provide at least two promotional avenues. the said contention of the respondent was accepted by the high court and by reason of its impugned judgment the appellant was directed to provide'the graded scale'to the appellant by providing three grades, the initial being grade iii which is the post of law officer cum draftsman and thereafter grade ii and grade i. officer of judicial service. it was further directed : \" \" the scale of pay of grade ii law officer - cum - draftsman shall be same as grade - ii officer of the judicial service. the scale of pay of grade - i law officer - cum - draftsman shall be equal to the scale of pay of grade - i officer of judicial service. \" \" questioning\n",
        "Document: ( 1 ) notwithstanding anything in article 32 every high court shall have powers, throughout the territories in relation to which it exercise jurisdiction, to issue to any person or authority, including in appropriate cases, any government, within those territories directions, orders or writs, including writs in the nature of habeas corpus, mandamus, prohibitions, quo warranto and certiorari, or any of them, for the enforcement of any of the rights conferred by part iii and for any other purpose ( 2 ) the power conferred by clause ( 1 ) to issue directions, orders or writs to any government, authority or person may also be exercised by any high court exercising jurisdiction in relation to the territories within which the cause of action, wholly or in part, arises for the exercise of such power, notwithstanding that the seat of such government or authority or the residence of such person is not within those territories ( 3 ) where any party against whom an interim order, whether by way of injunction or stay or in any other manner, is made on, or in any proceedings relating to, a petition under clause ( 1 ), without ( a ) furnishing to such party copies of such petition and all documents in support of the plea for such interim\n",
        "\"\"\"\n",
        "tokens = tokenizer(template.format(new_input_content), return_tensors=\"pt\").input_ids\n",
        "outputs = model.generate(tokens)\n",
        "str_output = tokenizer.decode(outputs[0], skip_special_tokens=True)\n",
        "print(str_output)\n",
        "score = get_score(tokens)\n",
        "print(score)\n"
      ],
      "metadata": {
        "colab": {
          "base_uri": "https://localhost:8080/"
        },
        "id": "1odL_bEN39dH",
        "outputId": "3b581541-06a7-4051-88b8-0f79ad433717"
      },
      "execution_count": 43,
      "outputs": [
        {
          "output_type": "stream",
          "name": "stderr",
          "text": [
            "Token indices sequence length is longer than the specified maximum sequence length for this model (1688 > 512). Running this sequence through the model will result in indexing errors\n",
            "/usr/local/lib/python3.10/dist-packages/transformers/generation/utils.py:1254: UserWarning: Using the model-agnostic default `max_length` (=20) to control thegeneration length. We recommend setting `max_new_tokens` to control the maximum length of the generation.\n",
            "  warnings.warn(\n"
          ]
        },
        {
          "output_type": "stream",
          "name": "stdout",
          "text": [
            "No\n",
            "0.8129456639289856\n"
          ]
        }
      ]
    },
    {
      "cell_type": "markdown",
      "source": [
        "### Q_1, D2 candidate doc is non-relevant and should achieve lower score compared to the above one!"
      ],
      "metadata": {
        "id": "rpQHCjx34nB6"
      }
    },
    {
      "cell_type": "code",
      "source": [
        "new_input_content = \"\"\"Query: having been selected by the public service commission, the respondent herein was appointed as law officer - cum - draftsman in the directorate of cooperation. there was only one post in the same cadre and it had no promotional avenues. he filed a representation that his post be upgraded or two promotional avenues be provided to him. several representations made by him having not received consideration at the hands of the appellants, the respondent herein filed a writ petition seeking for a specific direction upon the appellant herein to provide at least two promotional avenues. the said contention of the respondent was accepted by the high court and by reason of its impugned judgment the appellant was directed to provide'the graded scale'to the appellant by providing three grades, the initial being grade iii which is the post of law officer cum draftsman and thereafter grade ii and grade i. officer of judicial service. it was further directed : \" \" the scale of pay of grade ii law officer - cum - draftsman shall be same as grade - ii officer of the judicial service. the scale of pay of grade - i law officer - cum - draftsman shall be equal to the scale of pay of grade - i officer of judicial service. \" \" questioning\n",
        "Document: ( 1 ) whenever it appears to the appropriate government that land in any locality is needed or is likely to be needed for any public purpose 1 [ or for a company ], a notification to that effect shall be published in the official gazette 2 [ and in two daily newspapers circulating in that locality of which at least one shall be in the regional language ] and the collector shall cause public notice of the substance of such notification to be given at convenient places in the said locality 3 [ the last of the dates of such publication and the giving of such public notice, being hereinafter referred to as the date of publication of the notification ]. ( 2 ) thereupon it shall be lawful for any officer, either, generally or specially authorised by such government in this behalf, and for his servants and workmen, to enter upon and survey and take levels of any land in such locality ; to dig or bore in the sub - soil ; to do all other acts necessary to ascertain whether the land is adapted for such purpose ; to set out the boundaries of the land proposed to be taken and the intended line of the work ( if any ) proposed to be made thereon ; to mark such levels, boundaries and line by placing marks and cutting trenches,\n",
        "\"\"\"\n",
        "tokens = tokenizer(template.format(new_input_content), return_tensors=\"pt\").input_ids\n",
        "outputs = model.generate(tokens)\n",
        "str_output = tokenizer.decode(outputs[0], skip_special_tokens=True)\n",
        "print(str_output)\n",
        "score = get_score(tokens)\n",
        "print(score)\n"
      ],
      "metadata": {
        "colab": {
          "base_uri": "https://localhost:8080/"
        },
        "id": "AugbJW8V4olB",
        "outputId": "df13cdad-56e0-41e2-b961-6c6d92bf9c18"
      },
      "execution_count": 44,
      "outputs": [
        {
          "output_type": "stream",
          "name": "stdout",
          "text": [
            "No\n",
            "0.8138723373413086\n"
          ]
        }
      ]
    },
    {
      "cell_type": "markdown",
      "source": [
        "D1 score > D2 score. The model did a good relevance ordering at least for these two examples\n"
      ],
      "metadata": {
        "id": "R0Uh8VwFIP-m"
      }
    },
    {
      "cell_type": "markdown",
      "source": [
        "# Try to assess the effectiveness on the validation set (queries_val.tsv)\n"
      ],
      "metadata": {
        "id": "dx0RWQviIX0c"
      }
    },
    {
      "cell_type": "markdown",
      "source": [
        "## downloading files"
      ],
      "metadata": {
        "id": "49gniVGrybk1"
      }
    },
    {
      "cell_type": "code",
      "source": [
        "!wget https://www.dropbox.com/scl/fi/md1qj0dz07wi66lan1aah/afternoon_session_files.zip?rlkey=ficet9hbs55wxs7e11u6yi9w0&dl=0\n",
        "!unzip afternoon_session_files.zip?rlkey=ficet9hbs55wxs7e11u6yi9w0&dl=0"
      ],
      "metadata": {
        "id": "XWjgw3n-ImyY",
        "colab": {
          "base_uri": "https://localhost:8080/"
        },
        "outputId": "e37beeee-6511-4d83-fc4c-85bc2884431d"
      },
      "execution_count": 45,
      "outputs": [
        {
          "output_type": "stream",
          "name": "stdout",
          "text": [
            "--2023-08-30 14:18:40--  https://www.dropbox.com/scl/fi/md1qj0dz07wi66lan1aah/afternoon_session_files.zip?rlkey=ficet9hbs55wxs7e11u6yi9w0\n",
            "Resolving www.dropbox.com (www.dropbox.com)... 162.125.65.18, 2620:100:6021:18::a27d:4112\n",
            "Connecting to www.dropbox.com (www.dropbox.com)|162.125.65.18|:443... connected.\n",
            "HTTP request sent, awaiting response... 302 Found\n",
            "Location: https://www.dropbox.com/e/scl/fi/md1qj0dz07wi66lan1aah/afternoon_session_files.zip?rlkey=ficet9hbs55wxs7e11u6yi9w0 [following]\n",
            "--2023-08-30 14:18:41--  https://www.dropbox.com/e/scl/fi/md1qj0dz07wi66lan1aah/afternoon_session_files.zip?rlkey=ficet9hbs55wxs7e11u6yi9w0\n",
            "Reusing existing connection to www.dropbox.com:443.\n",
            "HTTP request sent, awaiting response... 302 Found\n",
            "Location: https://ucca3c1b15ce7f24f2d6b3365243.dl.dropboxusercontent.com/cd/0/inline/CCwcS5eTqowGgJFg6xlIUaS6QVpkwfAccFxzPkn5dl8MekED0ABJmUGSysGIJ9owWt5oafuYq5dnL4gNeZintHW9iQ67AR6LqcQywdw71i8Nqbt3rdPnKmGEvbXcCtkhHO9f62ZdHJnaLGw1GIdLBR3e/file# [following]\n",
            "--2023-08-30 14:18:43--  https://ucca3c1b15ce7f24f2d6b3365243.dl.dropboxusercontent.com/cd/0/inline/CCwcS5eTqowGgJFg6xlIUaS6QVpkwfAccFxzPkn5dl8MekED0ABJmUGSysGIJ9owWt5oafuYq5dnL4gNeZintHW9iQ67AR6LqcQywdw71i8Nqbt3rdPnKmGEvbXcCtkhHO9f62ZdHJnaLGw1GIdLBR3e/file\n",
            "Resolving ucca3c1b15ce7f24f2d6b3365243.dl.dropboxusercontent.com (ucca3c1b15ce7f24f2d6b3365243.dl.dropboxusercontent.com)... 162.125.65.15, 2620:100:6021:15::a27d:410f\n",
            "Connecting to ucca3c1b15ce7f24f2d6b3365243.dl.dropboxusercontent.com (ucca3c1b15ce7f24f2d6b3365243.dl.dropboxusercontent.com)|162.125.65.15|:443... connected.\n",
            "HTTP request sent, awaiting response... 302 Found\n",
            "Location: /cd/0/inline2/CCw1Jr0u1cixqq7NBkauJXL1RbDHW9L5iUiC-InhsUyeU38fkSoxnW9grkmc9p4Of7Lo3LgEcxs0V0F1YTuViZab8HA_HiVqVSj20pKmcVfdkVd3lTWyjggAqqb1dRBznqbMH638biwskzvhpOWXZDUagPsaTcS6Nu5I7_5mkenINHpwaZgaEv8V6k2lUY6R4sk25yrqwg4yCDne1EA3OyndFXQDEQbbESqQYsn9zKZzlzFcO-V8nSFYuh3OmejcpftqJ2Y-tJA9_ztCRdyX70Ku_F0h45KBZTTGLuqi2shP6hGd7BLAl6Vqs4eyNFFH0RJjW2wSYM8QvOVPNrpdOdAnC1yspbfpTJzZjJOw7BXdAn4hYj-08_KNXntKd9R7Ip8/file [following]\n",
            "--2023-08-30 14:18:44--  https://ucca3c1b15ce7f24f2d6b3365243.dl.dropboxusercontent.com/cd/0/inline2/CCw1Jr0u1cixqq7NBkauJXL1RbDHW9L5iUiC-InhsUyeU38fkSoxnW9grkmc9p4Of7Lo3LgEcxs0V0F1YTuViZab8HA_HiVqVSj20pKmcVfdkVd3lTWyjggAqqb1dRBznqbMH638biwskzvhpOWXZDUagPsaTcS6Nu5I7_5mkenINHpwaZgaEv8V6k2lUY6R4sk25yrqwg4yCDne1EA3OyndFXQDEQbbESqQYsn9zKZzlzFcO-V8nSFYuh3OmejcpftqJ2Y-tJA9_ztCRdyX70Ku_F0h45KBZTTGLuqi2shP6hGd7BLAl6Vqs4eyNFFH0RJjW2wSYM8QvOVPNrpdOdAnC1yspbfpTJzZjJOw7BXdAn4hYj-08_KNXntKd9R7Ip8/file\n",
            "Reusing existing connection to ucca3c1b15ce7f24f2d6b3365243.dl.dropboxusercontent.com:443.\n",
            "HTTP request sent, awaiting response... 200 OK\n",
            "Length: 463611 (453K) [application/zip]\n",
            "Saving to: ‘afternoon_session_files.zip?rlkey=ficet9hbs55wxs7e11u6yi9w0.1’\n",
            "\n",
            "afternoon_session_f 100%[===================>] 452.75K  --.-KB/s    in 0.02s   \n",
            "\n",
            "2023-08-30 14:18:44 (26.8 MB/s) - ‘afternoon_session_files.zip?rlkey=ficet9hbs55wxs7e11u6yi9w0.1’ saved [463611/463611]\n",
            "\n",
            "Archive:  afternoon_session_files.zip?rlkey=ficet9hbs55wxs7e11u6yi9w0\n",
            "replace Object_statutes/S92.txt? [y]es, [n]o, [A]ll, [N]one, [r]ename:  NULL\n",
            "(EOF or read error, treating as \"[N]one\" ...)\n",
            "\n",
            "1 archive had warnings but no fatal errors.\n"
          ]
        }
      ]
    },
    {
      "cell_type": "markdown",
      "source": [
        "## Steps\n",
        "1. Iterate on each query\n",
        "2. Per candidate document for that query, compute the score\n",
        "3. Create ranking run file in TREC format\n",
        "4. Evalute the effectiveness\n",
        "5. Each one can present their results and how they designed and selected LLM at the end and try to improve it in future.\n",
        "Note:\n",
        "\n",
        "- Using larger LLM takes more time but probably lead to higher effectiveness so you can take this into the account.\n",
        "\n",
        "- For loading larger model with less gpu you can take a look on https://huggingface.co/blog/4bit-transformers-bitsandbytes for maybe experimenting with larger models for friday.\n",
        "\n",
        "- Feel free to select another LLM based on the leaderboard: https://huggingface.co/spaces/HuggingFaceH4/open_llm_leaderboard\n",
        "\n",
        "- Feel free to change the prompt\n",
        "\n",
        "- Feel free to use the utils code and implementations from previous notebook\n",
        "\n",
        "\n"
      ],
      "metadata": {
        "id": "IqulFxrE34nT"
      }
    },
    {
      "cell_type": "markdown",
      "source": [
        "### read collections"
      ],
      "metadata": {
        "id": "vFjBKFvtnaNG"
      }
    },
    {
      "cell_type": "code",
      "source": [
        "import tqdm\n",
        "\n",
        "def read_collection(f_path):\n",
        "  corpus = {}\n",
        "  with open(f_path, \"r\") as fp:\n",
        "    for line in tqdm.tqdm(fp, desc=\"reading {}\".format(f_path)):\n",
        "      did, dtext = line.strip().split(\"\\t\")\n",
        "      corpus[did] = dtext\n",
        "  return corpus\n",
        "from glob import glob\n",
        "def read_aila_documents(f_path):\n",
        "  files = glob(corpus_path+\"*.txt\")\n",
        "  corpus = {}\n",
        "  for file_ in tqdm.tqdm(files, desc=\"reading {}\".format(f_path)):\n",
        "    content = open(file_, \"r\").read().split(\"\\n\")[1].split(\":\")[1]\n",
        "    doc_id = file_.split(\"/\")[-1].replace(\".txt\", \"\")\n",
        "    corpus[doc_id] = content\n",
        "  return corpus\n",
        "\n",
        "from glob import glob\n",
        "def read_aila_documents(f_path):\n",
        "  files = glob(corpus_path+\"*.txt\")\n",
        "  corpus = {}\n",
        "  for file_ in tqdm.tqdm(files, desc=\"reading {}\".format(f_path)):\n",
        "    content = open(file_, \"r\").read().split(\"\\n\")[1].split(\":\")[1]\n",
        "    doc_id = file_.split(\"/\")[-1].replace(\".txt\", \"\")\n",
        "    corpus[doc_id] = content\n",
        "  return corpus\n",
        "def read_top1000_run(f_path, corpus, queries, separator = \" \"):\n",
        "  samples = {}\n",
        "  with open(f_path, \"r\") as fp:\n",
        "    for line in tqdm.tqdm(fp, desc=\"reading {}\".format(f_path)):\n",
        "      qid, _, did, rank, score, __ = line.strip().split(separator)\n",
        "      if qid not in queries: continue\n",
        "      query = queries[qid]\n",
        "      if qid not in samples:\n",
        "        samples[qid] = {'qid': qid , 'query': query, 'docs': list(), 'docs_ids': list()}\n",
        "      samples[qid]['docs'].append(corpus[did])\n",
        "      samples[qid]['docs_ids'].append(did)\n",
        "  return samples"
      ],
      "metadata": {
        "id": "clfEPg9TnbVY"
      },
      "execution_count": 46,
      "outputs": []
    },
    {
      "cell_type": "code",
      "source": [
        "queries_path = \"queries_val.tsv\"\n",
        "corpus_path = \"./Object_statutes/*\"\n",
        "queries = read_collection(queries_path)\n",
        "corpus = read_aila_documents(corpus_path)"
      ],
      "metadata": {
        "id": "jIxSjpWH2_Ky",
        "colab": {
          "base_uri": "https://localhost:8080/"
        },
        "outputId": "c368893c-558a-42b6-949e-6a853afcbc74"
      },
      "execution_count": 47,
      "outputs": [
        {
          "output_type": "stream",
          "name": "stderr",
          "text": [
            "reading queries_val.tsv: 10it [00:00, 49402.87it/s]\n",
            "reading ./Object_statutes/*: 100%|██████████| 197/197 [00:00<00:00, 33784.92it/s]\n"
          ]
        }
      ]
    },
    {
      "cell_type": "code",
      "source": [
        "test_samples = read_top1000_run(\"base_run.txt\", corpus, queries, separator = \" \")"
      ],
      "metadata": {
        "colab": {
          "base_uri": "https://localhost:8080/"
        },
        "id": "gGS8N68svlFe",
        "outputId": "a1d1c5f0-2ff6-41b3-f6b4-688586f1bdb6"
      },
      "execution_count": 48,
      "outputs": [
        {
          "output_type": "stream",
          "name": "stderr",
          "text": [
            "reading base_run.txt: 5000it [00:00, 1099136.27it/s]\n"
          ]
        }
      ]
    },
    {
      "cell_type": "markdown",
      "source": [
        "## get_score_given_q_and_d"
      ],
      "metadata": {
        "id": "TDn5Y9cS6GxU"
      }
    },
    {
      "cell_type": "code",
      "source": [
        "def get_score_given_q_and_d(document, query):\n",
        "  # template = \"\"\"You are expert in indian law.\n",
        "  # Example 1:\n",
        "  # Query: the appellant on february 9, 1961 was appointed as an officer in grade iii in the respondent bank ( for short'the bank'). he was promoted on april 1, 1968 to the grade officer in the foreign exchange department in the head office of the bank. sometime in 1964, mch society ( for short'the society') was formed of which the appellant was one of the chief promoters and thereafter its secretary. the object of the society was to construct residential premises for the employees of the bank and its other members. it appears that the complaint was received in respect of the affairs of the society relating to misappropriation of the funds of the society and consequently, in exercise of the powers under section s of act a1, the registrar on april 23, 1969 instituted an inquiry thereof. p1 was appointed the registrar's nominee who on october 4, 1969 ; submitted the report holding the appellant and two other office bearers of the society negligent in dealing with the funds of the society causing a loss to the tune of rs. 3, 59, 000 / -. the registrar on october 21, 1969, passed an order appointing an officer under section s of a1 to assess the loss caused to the society. however,\n",
        "  # Docuemnt: whoever, being in any manner entrusted with property, or with any dominion over property in his capacity of a public servant or in the way of his business as a banker, merchant, factor, broker, attorney or agent, commits criminal breach of trust in respect of that property, shall be punished with 1 [ imprisonment for life ], or with imprisonment of either description for a term which may extend to ten years, and shall also be liable to fine. substituted by act 26 of 1955, section 117 and schedule, for \" transportation for life \" ( w. e. f. 1 - 1 - 1956 ).\n",
        "  # Given the content of the Document, does it relevant to the Query? Yes\n",
        "\n",
        "  # Example 2:\n",
        "  # Query: the appellant on february 9, 1961 was appointed as an officer in grade iii in the respondent bank ( for short'the bank'). he was promoted on april 1, 1968 to the grade officer in the foreign exchange department in the head office of the bank. sometime in 1964, mch society ( for short'the society') was formed of which the appellant was one of the chief promoters and thereafter its secretary. the object of the society was to construct residential premises for the employees of the bank and its other members. it appears that the complaint was received in respect of the affairs of the society relating to misappropriation of the funds of the society and consequently, in exercise of the powers under section s of act a1, the registrar on april 23, 1969 instituted an inquiry thereof. p1 was appointed the registrar's nominee who on october 4, 1969 ; submitted the report holding the appellant and two other office bearers of the society negligent in dealing with the funds of the society causing a loss to the tune of rs. 3, 59, 000 / -. the registrar on october 21, 1969, passed an order appointing an officer under section s of a1 to assess the loss caused to the society. however,\n",
        "  # Docuemnt: in this act, \" dowry \" means any property or valuable security given or agreed to be given either directly or indirectly - ( a ) by one party to a marriage to the other party to the marriage ; or ( b ) by the parents of either party to a marriage or by any other person, to either party to the marriage or to any other person ; at or before 1 [ or at any time after the marriage ] 2 [ in connection with the marriage of the said parties, but does not include ] dower or mahr in the case of persons to whom the muslim personal law ( shariat ) applies 3 [... ] explanation ii. - the expression \" valuable security \" has the same meaning as in section 30 of the indian penal code ( 45 of 1860 ). substituted by act 43 of 1986, section 2, for \" or after the marriage \" ( w. e. f. 19 - 11 - 1986 ). for the words \" as consideration for the marriage of the said parties, but does not include \", substituted by dowry prohibition ( amendment ) act, 1984, section 2 ( a ) ( w. e. f. 2 - 10 - 1995 ). explanation i omitted by dowry prohibition ( amendment ) act, 1984\n",
        "  # Given the content of the Document, does it relevant to the Query? No\n",
        "\n",
        "  # Example 3:\n",
        "  # {}\n",
        "  # Given the content of the statute, does it relevant to the mentioned Legal Situation?\n",
        "  # \"\"\"\n",
        "\n",
        "  # temlate 2 by max\n",
        "  # template = \"\"\"You are expert in indian law.\n",
        "  # Example 1:\n",
        "  # Query: the appellant on february 9, 1961 was appointed as an officer in grade iii in the respondent bank ( for short'the bank'). he was promoted on april 1, 1968 to the grade officer in the foreign exchange department in the head office of the bank. sometime in 1964, mch society ( for short'the society') was formed of which the appellant was one of the chief promoters and thereafter its secretary. the object of the society was to construct residential premises for the employees of the bank and its other members. it appears that the complaint was received in respect of the affairs of the society relating to misappropriation of the funds of the society and consequently, in exercise of the powers under section s of act a1, the registrar on april 23, 1969 instituted an inquiry thereof. p1 was appointed the registrar's nominee who on october 4, 1969 ; submitted the report holding the appellant and two other office bearers of the society negligent in dealing with the funds of the society causing a loss to the tune of rs. 3, 59, 000 / -. the registrar on october 21, 1969, passed an order appointing an officer under section s of a1 to assess the loss caused to the society. however,\n",
        "  # Docuemnt: whoever, being in any manner entrusted with property, or with any dominion over property in his capacity of a public servant or in the way of his business as a banker, merchant, factor, broker, attorney or agent, commits criminal breach of trust in respect of that property, shall be punished with 1 [ imprisonment for life ], or with imprisonment of either description for a term which may extend to ten years, and shall also be liable to fine. substituted by act 26 of 1955, section 117 and schedule, for \" transportation for life \" ( w. e. f. 1 - 1 - 1956 ).\n",
        "  # Given the content of the Document, does it relevant to the Query? Yes\n",
        "\n",
        "  # Example 2:\n",
        "  # Query: the appellant on february 9, 1961 was appointed as an officer in grade iii in the respondent bank ( for short'the bank'). he was promoted on april 1, 1968 to the grade officer in the foreign exchange department in the head office of the bank. sometime in 1964, mch society ( for short'the society') was formed of which the appellant was one of the chief promoters and thereafter its secretary. the object of the society was to construct residential premises for the employees of the bank and its other members. it appears that the complaint was received in respect of the affairs of the society relating to misappropriation of the funds of the society and consequently, in exercise of the powers under section s of act a1, the registrar on april 23, 1969 instituted an inquiry thereof. p1 was appointed the registrar's nominee who on october 4, 1969 ; submitted the report holding the appellant and two other office bearers of the society negligent in dealing with the funds of the society causing a loss to the tune of rs. 3, 59, 000 / -. the registrar on october 21, 1969, passed an order appointing an officer under section s of a1 to assess the loss caused to the society. however,\n",
        "  # Docuemnt: in this act, \" dowry \" means any property or valuable security given or agreed to be given either directly or indirectly - ( a ) by one party to a marriage to the other party to the marriage ; or ( b ) by the parents of either party to a marriage or by any other person, to either party to the marriage or to any other person ; at or before 1 [ or at any time after the marriage ] 2 [ in connection with the marriage of the said parties, but does not include ] dower or mahr in the case of persons to whom the muslim personal law ( shariat ) applies 3 [... ] explanation ii. - the expression \" valuable security \" has the same meaning as in section 30 of the indian penal code ( 45 of 1860 ). substituted by act 43 of 1986, section 2, for \" or after the marriage \" ( w. e. f. 19 - 11 - 1986 ). for the words \" as consideration for the marriage of the said parties, but does not include \", substituted by dowry prohibition ( amendment ) act, 1984, section 2 ( a ) ( w. e. f. 2 - 10 - 1995 ). explanation i omitted by dowry prohibition ( amendment ) act, 1984\n",
        "  # Given the content of the Document, does it relevant to the Query? No\n",
        "\n",
        "\n",
        "  # Given the content of the statute, does it relate to the mentioned Legal Situation?\n",
        "  # {}\n",
        "  # \"\"\"\n",
        "\n",
        "  # tempalte 3 by Jihwan\n",
        "  template = \"\"\"You are expert in indian law.\n",
        "Example 1:\n",
        "Query: the appellant on february 9, 1961 was appointed as an officer in grade iii in the respondent bank ( for short'the bank'). he was promoted on april 1, 1968 to the grade officer in the foreign exchange department in the head office of the bank. sometime in 1964, mch society ( for short'the society') was formed of which the appellant was one of the chief promoters and thereafter its secretary. the object of the society was to construct residential premises for the employees of the bank and its other members. it appears that the complaint was received in respect of the affairs of the society relating to misappropriation of the funds of the society and consequently, in exercise of the powers under section s of act a1, the registrar on april 23, 1969 instituted an inquiry thereof. p1 was appointed the registrar's nominee who on october 4, 1969 ; submitted the report holding the appellant and two other office bearers of the society negligent in dealing with the funds of the society causing a loss to the tune of rs. 3, 59, 000 / -. the registrar on october 21, 1969, passed an order appointing an officer under section s of a1 to assess the loss caused to the society. however,\n",
        "Docuemnt: whoever, being in any manner entrusted with property, or with any dominion over property in his capacity of a public servant or in the way of his business as a banker, merchant, factor, broker, attorney or agent, commits criminal breach of trust in respect of that property, shall be punished with 1 [ imprisonment for life ], or with imprisonment of either description for a term which may extend to ten years, and shall also be liable to fine. substituted by act 26 of 1955, section 117 and schedule, for \" transportation for life \" ( w. e. f. 1 - 1 - 1956 ).\n",
        "Given the content of the Document, does it relate to the Query? Yes\n",
        "\n",
        "Example 2:\n",
        "Query: the appellant on february 9, 1961 was appointed as an officer in grade iii in the respondent bank ( for short'the bank'). he was promoted on april 1, 1968 to the grade officer in the foreign exchange department in the head office of the bank. sometime in 1964, mch society ( for short'the society') was formed of which the appellant was one of the chief promoters and thereafter its secretary. the object of the society was to construct residential premises for the employees of the bank and its other members. it appears that the complaint was received in respect of the affairs of the society relating to misappropriation of the funds of the society and consequently, in exercise of the powers under section s of act a1, the registrar on april 23, 1969 instituted an inquiry thereof. p1 was appointed the registrar's nominee who on october 4, 1969 ; submitted the report holding the appellant and two other office bearers of the society negligent in dealing with the funds of the society causing a loss to the tune of rs. 3, 59, 000 / -. the registrar on october 21, 1969, passed an order appointing an officer under section s of a1 to assess the loss caused to the society. however,\n",
        "Docuemnt: in this act, \" dowry \" means any property or valuable security given or agreed to be given either directly or indirectly - ( a ) by one party to a marriage to the other party to the marriage ; or ( b ) by the parents of either party to a marriage or by any other person, to either party to the marriage or to any other person ; at or before 1 [ or at any time after the marriage ] 2 [ in connection with the marriage of the said parties, but does not include ] dower or mahr in the case of persons to whom the muslim personal law ( shariat ) applies 3 [... ] explanation ii. - the expression \" valuable security \" has the same meaning as in section 30 of the indian penal code ( 45 of 1860 ). substituted by act 43 of 1986, section 2, for \" or after the marriage \" ( w. e. f. 19 - 11 - 1986 ). for the words \" as consideration for the marriage of the said parties, but does not include \", substituted by dowry prohibition ( amendment ) act, 1984, section 2 ( a ) ( w. e. f. 2 - 10 - 1995 ). explanation i omitted by dowry prohibition ( amendment ) act, 1984\n",
        "Given the content of the Document, does it relate to the Query? No\n",
        "\n",
        "Example 3:\n",
        "Query: Company A, a multinational tech corporation, entered into a licensing agreement with Company B on January 15, 2022. The agreement granted Company B the right to use certain patented technologies owned by Company A in their products. In return, Company B agreed to pay a licensing fee to Company A based on the sales of their products incorporating the patented technologies. However, by the end of the year, Company B had failed to make the full payment as stipulated in the agreement. As a result, Company A sent a notice of breach of contract to Company B on March 2, 2023, demanding the outstanding payment.\n",
        "Document: Any party that enters into a contract with another party wherein certain considerations, such as payment or services, are agreed upon, is legally bound to fulfill those obligations as per the terms outlined in the contract. Failure to fulfill these obligations constitutes a breach of contract. The non-breaching party has the right to send a notice of breach of contract to the breaching party, specifying the nature of the breach and the actions required to remedy the breach. Such notices are a common initial step in resolving contractual disputes and ensuring that the parties uphold their agreed-upon obligations.\n",
        "Given the content of the Document, does it relate to the Query? Yes\n",
        "\n",
        "Example 4:\n",
        "Query: Dr. Smith conducted a research study to investigate the effects of a new drug on patients with hypertension. The study involved administering the drug to a group of 200 participants over a period of six months. The results showed a significant reduction in blood pressure among the participants who received the drug compared to those who received a placebo. Dr. Smith concluded that the new drug could be an effective treatment for hypertension and submitted the findings to a medical journal for publication.\n",
        "Document: When conducting a research study involving human participants, it is essential to adhere to ethical guidelines and obtain informed consent from the participants. Researchers should ensure that the study's design and methods are sound, the data collected is accurate, and the statistical analyses used are appropriate. The findings of the study should be presented objectively, along with any limitations or potential biases. Submission of research findings to a peer-reviewed journal allows for independent evaluation and verification of the study's methodology and conclusions before publication.\n",
        "Given the content of the Document, does it relate to the Query? Yes\n",
        "\n",
        "Example 5:\n",
        "Query: The novel \"Pinebrook Secrets\" follows the journey of a young detective as she uncovers a series of mysterious events in a small town. As she delves deeper into the case, she realizes that the townspeople are hiding dark secrets about a decades-old unsolved murder.\n",
        "Document: The migration patterns of birds in North America have been extensively studied by ornithologists over the past century. These studies have revealed fascinating insights into the timing, routes, and behaviors of various bird species during their migratory journeys.\n",
        "Given the content of the Document, does it relate to the Query? No\n",
        "\n",
        "Example 6:\n",
        "Query: In the context of climate change, renewable energy sources like solar, wind, and hydropower have gained significant attention due to their low environmental impact and potential to reduce greenhouse gas emissions.\n",
        "Document: The history of ancient civilizations in Mesopotamia showcases the development of early writing systems and the transition from hunter-gatherer societies to settled agricultural communities along the Tigris and Euphrates rivers.\n",
        "Given the content of the Document, does it relate to the Query? No\n",
        "\n",
        "Example 7:\n",
        "Query: The process of photosynthesis involves the conversion of light energy into chemical energy by plants, which is used to synthesize glucose from carbon dioxide and water.\n",
        "Document: The principles of supply and demand play a crucial role in determining market prices for goods and services. When demand exceeds supply, prices tend to rise, whereas oversupply can lead to price decreases.\n",
        "Given the content of the Document, does it relate to the Query? No\n",
        "\n",
        "Example 8:\n",
        "Query: In George Orwell's novel \"1984,\" the concept of \"Newspeak\" is introduced. It's a controlled language created by the totalitarian regime to limit freedom of thought and concepts that pose a threat to the regime.\n",
        "Document: The process of mitosis is a fundamental aspect of cell division in eukaryotic cells. During mitosis, a single cell divides into two identical daughter cells, each with the same number of chromosomes as the parent cell.\n",
        "Given the content of the Document, does it relate to the Query? No\n",
        "\n",
        "Example 9:\n",
        "Query: The theory of relativity, proposed by Albert Einstein, consists of two major formulations: the special theory of relativity and the general theory of relativity. These theories revolutionized our understanding of space, time, and gravity.\n",
        "Document: The traditional art of origami originated in Japan and involves the intricate folding of paper to create various forms, including animals, plants, and geometric shapes.\n",
        "Given the content of the Document, does it relate to the Query? No\n",
        "\n",
        "Example 10:\n",
        "Query: The Lewis and Clark Expedition, also known as the Corps of Discovery Expedition, was the first American overland expedition to the Pacific Coast and back. It was commissioned by President Thomas Jefferson to explore the newly acquired western territory after the Louisiana Purchase.\n",
        "Document: The process of volcanic eruption is driven by the movement of magma from the Earth's mantle to the surface. As magma rises, it can lead to the formation of various volcanic landforms, such as shield volcanoes, stratovolcanoes, and calderas.\n",
        "Given the content of the Document, does it relate to the Query? No\n",
        "\n",
        "Example 11:\n",
        "Query: The concept of cognitive dissonance, introduced by psychologist Leon Festinger in 1957, refers to the mental discomfort or tension that arises when an individual holds conflicting beliefs, attitudes, or values.\n",
        "Document: Cognitive dissonance theory explains how individuals strive for consistency in their thoughts and actions. When faced with conflicting beliefs, they may adjust their attitudes or behaviors to alleviate the discomfort and achieve a sense of internal harmony.\n",
        "Given the content of the Document, does it relate to the Query? Yes\n",
        "\n",
        "Example 12:\n",
        "Query: The Industrial Revolution, which began in the late 18th century, marked a significant turning point in history with the transition from agrarian economies to industrialized societies. This period saw advancements in manufacturing, transportation, and technology.\n",
        "Document: During the Industrial Revolution, urbanization and the growth of factory-based industries led to profound social and economic changes. The shift from hand production to mechanized manufacturing also had a profound impact on labor patterns and living conditions.\n",
        "Given the content of the Document, does it relate to the Query? Yes\n",
        "\n",
        "Example 13:\n",
        "Query: The novel \"To Kill a Mockingbird\" by Harper Lee addresses themes of racial injustice and moral growth through the character of Atticus Finch, a lawyer who defends an innocent Black man accused of raping a white woman.\n",
        "Document: \"To Kill a Mockingbird\" is set in the fictional town of Maycomb, Alabama, during the 1930s. The narrative explores the impact of deeply ingrained racial prejudices on the legal system and society, as seen through the trial of Tom Robinson.\n",
        "Given the content of the Document, does it relate to the Query? Yes\n",
        "\n",
        "Example 14:\n",
        "Query: Plate tectonics is the scientific theory that explains the movement of Earth's lithospheric plates, which float on the semi-fluid asthenosphere beneath them, leading to phenomena like earthquakes, volcanic activity, and the formation of mountain ranges.\n",
        "Document: The Earth's lithosphere is divided into several major tectonic plates, including the Pacific Plate, North American Plate, and Eurasian Plate. The movement of these plates is driven by convection currents in the mantle, resulting in various geological features and events.\n",
        "Given the content of the Document, does it relate to the Query? Yes\n",
        "\n",
        "Example 15:\n",
        "Query: In William Shakespeare's play \"Romeo and Juliet,\" the two titular characters belong to feuding families in Verona. Despite the enmity between their households, Romeo and Juliet fall deeply in love and ultimately meet a tragic end.\n",
        "Document: \"Romeo and Juliet\" is a timeless tragedy that explores themes of love, fate, and conflict. The play's narrative unfolds against the backdrop of a longstanding feud between the Montague and Capulet families, highlighting the destructive power of unresolved animosity.\n",
        "Given the content of the Document, does it relate to the Query? Yes\n",
        "\n",
        "Given the content of the statute, does it relate to the mentioned Legal Situation?\n",
        "{}\n",
        "  \"\"\"\n",
        "  example_3 = \"\"\"Query: {}\n",
        "  Document: {}\"\"\".format(query, document)\n",
        "  tokens = tokenizer(template.format(example_3), return_tensors=\"pt\").input_ids\n",
        "  score = get_score(tokens)\n",
        "  return score"
      ],
      "metadata": {
        "id": "jU2kH6izxNKv"
      },
      "execution_count": 69,
      "outputs": []
    },
    {
      "cell_type": "code",
      "source": [
        "line_format = \"\"\n",
        "lines=[]\n",
        "for qid in list(test_samples.keys())[0:1]:\n",
        "  query_content = queries[qid]\n",
        "  for did in test_samples[qid]['docs_ids']: #limit it to one query\n",
        "    print('did: ', did)\n",
        "    document_content = corpus[did]\n",
        "    score = get_score_given_q_and_d(document_content, query_content)\n",
        "    # print(\"predicted score  given\\nquery:{}\\ncandidate document:{}\\nscore:{}\\n------\\n\".format(query_content, document_content, score))\n",
        "    # print(\"{}: {}\". format(qid, query_content))\n",
        "    # print(\"{}: {}\". format(did, document_content))\n",
        "    line = \"{query_id} Q0 {document_id} {rank} {score} STANDARD\\n\".format(query_id=qid,\n",
        "                                                                          document_id=did,\n",
        "                                                                          rank=\"-10\",#rank\n",
        "                                                                          score=str(score))\n",
        "    lines.append(line)"
      ],
      "metadata": {
        "colab": {
          "base_uri": "https://localhost:8080/"
        },
        "id": "EvgjdiH4vbJm",
        "outputId": "46afff59-6960-4d42-d736-275fd2d4a638"
      },
      "execution_count": 70,
      "outputs": [
        {
          "output_type": "stream",
          "name": "stdout",
          "text": [
            "did:  S104\n",
            "did:  S146\n",
            "did:  S43\n",
            "did:  S115\n",
            "did:  S172\n",
            "did:  S169\n",
            "did:  S29\n",
            "did:  S98\n",
            "did:  S156\n",
            "did:  S56\n",
            "did:  S161\n",
            "did:  S167\n",
            "did:  S57\n",
            "did:  S67\n",
            "did:  S42\n",
            "did:  S144\n",
            "did:  S134\n",
            "did:  S149\n",
            "did:  S170\n",
            "did:  S28\n",
            "did:  S179\n",
            "did:  S109\n",
            "did:  S139\n",
            "did:  S22\n",
            "did:  S143\n",
            "did:  S164\n",
            "did:  S27\n",
            "did:  S31\n",
            "did:  S69\n",
            "did:  S35\n",
            "did:  S128\n",
            "did:  S82\n",
            "did:  S163\n",
            "did:  S87\n",
            "did:  S147\n",
            "did:  S159\n",
            "did:  S186\n",
            "did:  S157\n",
            "did:  S94\n",
            "did:  S102\n",
            "did:  S65\n",
            "did:  S83\n",
            "did:  S193\n",
            "did:  S198\n",
            "did:  S93\n",
            "did:  S116\n",
            "did:  S81\n",
            "did:  S137\n",
            "did:  S150\n",
            "did:  S13\n",
            "did:  S97\n",
            "did:  S145\n",
            "did:  S55\n",
            "did:  S33\n",
            "did:  S140\n",
            "did:  S89\n",
            "did:  S14\n",
            "did:  S177\n",
            "did:  S191\n",
            "did:  S71\n",
            "did:  S196\n",
            "did:  S126\n",
            "did:  S199\n",
            "did:  S44\n",
            "did:  S39\n",
            "did:  S1\n",
            "did:  S189\n",
            "did:  S165\n",
            "did:  S120\n",
            "did:  S158\n",
            "did:  S38\n",
            "did:  S17\n",
            "did:  S135\n",
            "did:  S48\n",
            "did:  S99\n",
            "did:  S62\n",
            "did:  S111\n",
            "did:  S77\n",
            "did:  S151\n",
            "did:  S90\n",
            "did:  S192\n",
            "did:  S26\n",
            "did:  S168\n",
            "did:  S95\n",
            "did:  S166\n",
            "did:  S47\n",
            "did:  S46\n",
            "did:  S12\n",
            "did:  S113\n",
            "did:  S54\n",
            "did:  S152\n",
            "did:  S181\n",
            "did:  S194\n",
            "did:  S176\n",
            "did:  S10\n",
            "did:  S51\n",
            "did:  S8\n",
            "did:  S7\n",
            "did:  S74\n",
            "did:  S72\n"
          ]
        }
      ]
    },
    {
      "cell_type": "code",
      "source": [
        "!pip install pytrec_eval\n",
        "import pytrec_eval"
      ],
      "metadata": {
        "colab": {
          "base_uri": "https://localhost:8080/"
        },
        "id": "RIWSs0nY0frT",
        "outputId": "31bca957-210d-4590-822b-0a5428fe7c0c"
      },
      "execution_count": 51,
      "outputs": [
        {
          "output_type": "stream",
          "name": "stdout",
          "text": [
            "Collecting pytrec_eval\n",
            "  Downloading pytrec_eval-0.5.tar.gz (15 kB)\n",
            "  Preparing metadata (setup.py) ... \u001b[?25l\u001b[?25hdone\n",
            "Building wheels for collected packages: pytrec_eval\n",
            "  Building wheel for pytrec_eval (setup.py) ... \u001b[?25l\u001b[?25hdone\n",
            "  Created wheel for pytrec_eval: filename=pytrec_eval-0.5-cp310-cp310-linux_x86_64.whl size=308205 sha256=38e5d4538348a38763012276a6b9628779c7f0fbe87a469e85f5d618e496dbe2\n",
            "  Stored in directory: /root/.cache/pip/wheels/51/3a/cd/dcc1ddfc763987d5cb237165d8ac249aa98a23ab90f67317a8\n",
            "Successfully built pytrec_eval\n",
            "Installing collected packages: pytrec_eval\n",
            "Successfully installed pytrec_eval-0.5\n"
          ]
        }
      ]
    },
    {
      "cell_type": "code",
      "source": [
        "with open(\"qrels_aila.tsv\", 'r') as f_qrel:\n",
        "    qrel = pytrec_eval.parse_qrel(f_qrel)"
      ],
      "metadata": {
        "id": "KTBXqKH409HW"
      },
      "execution_count": 52,
      "outputs": []
    },
    {
      "cell_type": "markdown",
      "source": [
        "## evaluation on prompt1 (original prompt introduced before the tutorial"
      ],
      "metadata": {
        "id": "LJxt3-YM1i8p"
      }
    },
    {
      "cell_type": "code",
      "source": [
        "# import json\n",
        "\n",
        "# output_file = \"prompt_1.ranking\"\n",
        "# f_w = open(output_file, \"w+\")\n",
        "# f_w.write(\"\".join(lines))\n",
        "# f_w.close()\n",
        "\n",
        "# with open(output_file, 'r') as f_run:\n",
        "#   run = pytrec_eval.parse_run(f_run)\n",
        "\n",
        "# all_metrics = {\"ndcg_cut.10\", \"map_cut.1000\", \"recall.10\"}\n",
        "# evaluator = pytrec_eval.RelevanceEvaluator(qrel,all_metrics)\n",
        "# scores = evaluator.evaluate(run)\n",
        "# print(json.dumps(scores, indent=4))\n",
        "\n",
        "# print(\"scores: \", scores)\n",
        "# mean_metrics = {}\n",
        "# metrics_string = \"\"\n",
        "# import numpy as np\n",
        "# for metric in all_metrics:\n",
        "#     mean_metrics[metric] = np.mean([ele[metric.replace(\".\",\"_\")] for ele in scores.values()])\n",
        "#     metrics_string = metrics_string +  \"{}: {} | \".format(metric, mean_metrics[metric])\n",
        "# print(\"metrics eval: \", metrics_string)"
      ],
      "metadata": {
        "colab": {
          "base_uri": "https://localhost:8080/"
        },
        "id": "4H2XTqEO0mAe",
        "outputId": "1554612c-f8b5-4822-e7ca-2ae5e0932192"
      },
      "execution_count": 60,
      "outputs": [
        {
          "output_type": "stream",
          "name": "stdout",
          "text": [
            "{\n",
            "    \"AILA_Q41\": {\n",
            "        \"recall_10\": 0.0,\n",
            "        \"ndcg_cut_10\": 0.0,\n",
            "        \"map_cut_1000\": 0.01832512315270936\n",
            "    },\n",
            "    \"AILA_Q42\": {\n",
            "        \"recall_10\": 0.0,\n",
            "        \"ndcg_cut_10\": 0.0,\n",
            "        \"map_cut_1000\": 0.01818181818181818\n",
            "    },\n",
            "    \"AILA_Q43\": {\n",
            "        \"recall_10\": 0.0,\n",
            "        \"ndcg_cut_10\": 0.0,\n",
            "        \"map_cut_1000\": 0.020122804025243052\n",
            "    },\n",
            "    \"AILA_Q44\": {\n",
            "        \"recall_10\": 0.0,\n",
            "        \"ndcg_cut_10\": 0.0,\n",
            "        \"map_cut_1000\": 0.020525451559934318\n",
            "    }\n",
            "}\n",
            "scores:  {'AILA_Q41': {'recall_10': 0.0, 'ndcg_cut_10': 0.0, 'map_cut_1000': 0.01832512315270936}, 'AILA_Q42': {'recall_10': 0.0, 'ndcg_cut_10': 0.0, 'map_cut_1000': 0.01818181818181818}, 'AILA_Q43': {'recall_10': 0.0, 'ndcg_cut_10': 0.0, 'map_cut_1000': 0.020122804025243052}, 'AILA_Q44': {'recall_10': 0.0, 'ndcg_cut_10': 0.0, 'map_cut_1000': 0.020525451559934318}}\n",
            "metrics eval:  ndcg_cut.10: 0.0 | recall.10: 0.0 | map_cut.1000: 0.01928879922992623 | \n"
          ]
        }
      ]
    },
    {
      "cell_type": "markdown",
      "source": [
        "## evaluation on second prompt, suggested by audience"
      ],
      "metadata": {
        "id": "Vj3StlAS1mUW"
      }
    },
    {
      "cell_type": "code",
      "source": [
        "import json\n",
        "\n",
        "output_file = \"prompt_2.ranking\"\n",
        "f_w = open(output_file, \"w+\")\n",
        "f_w.write(\"\".join(lines))\n",
        "f_w.close()\n",
        "\n",
        "with open(output_file, 'r') as f_run:\n",
        "  run = pytrec_eval.parse_run(f_run)\n",
        "\n",
        "all_metrics = {\"ndcg_cut.10\", \"map_cut.1000\", \"recall.10\"}\n",
        "evaluator = pytrec_eval.RelevanceEvaluator(qrel,all_metrics)\n",
        "scores = evaluator.evaluate(run)\n",
        "print(json.dumps(scores, indent=4))"
      ],
      "metadata": {
        "colab": {
          "base_uri": "https://localhost:8080/"
        },
        "id": "_pGf4RKG3DFW",
        "outputId": "b8988d28-4253-4174-9752-26837cb7591c"
      },
      "execution_count": 68,
      "outputs": [
        {
          "output_type": "stream",
          "name": "stdout",
          "text": [
            "{\n",
            "    \"AILA_Q41\": {\n",
            "        \"recall_10\": 0.2,\n",
            "        \"ndcg_cut_10\": 0.11305340175787204,\n",
            "        \"map_cut_1000\": 0.0369047619047619\n",
            "    }\n",
            "}\n"
          ]
        }
      ]
    },
    {
      "cell_type": "markdown",
      "source": [
        "## evaluation on third prompt, suggested by audience"
      ],
      "metadata": {
        "id": "eLZ4wWHY6lxF"
      }
    },
    {
      "cell_type": "code",
      "source": [
        "import json\n",
        "\n",
        "output_file = \"prompt_3.ranking\"\n",
        "f_w = open(output_file, \"w+\")\n",
        "f_w.write(\"\".join(lines))\n",
        "f_w.close()\n",
        "\n",
        "with open(output_file, 'r') as f_run:\n",
        "  run = pytrec_eval.parse_run(f_run)\n",
        "\n",
        "all_metrics = {\"ndcg_cut.10\", \"map_cut.1000\", \"recall.10\"}\n",
        "evaluator = pytrec_eval.RelevanceEvaluator(qrel,all_metrics)\n",
        "scores = evaluator.evaluate(run)\n",
        "print(json.dumps(scores, indent=4))"
      ],
      "metadata": {
        "colab": {
          "base_uri": "https://localhost:8080/"
        },
        "id": "49W4ifpO6gUX",
        "outputId": "eef1d673-3493-431b-bf09-6ab691ba2883"
      },
      "execution_count": 71,
      "outputs": [
        {
          "output_type": "stream",
          "name": "stdout",
          "text": [
            "{\n",
            "    \"AILA_Q41\": {\n",
            "        \"recall_10\": 0.2,\n",
            "        \"ndcg_cut_10\": 0.13120507751234178,\n",
            "        \"map_cut_1000\": 0.04784313725490196\n",
            "    }\n",
            "}\n"
          ]
        }
      ]
    }
  ]
}