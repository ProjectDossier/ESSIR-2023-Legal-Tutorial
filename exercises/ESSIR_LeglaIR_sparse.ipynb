{
  "cells": [
    {
      "cell_type": "markdown",
      "metadata": {
        "id": "eix7pz3zFRUy"
      },
      "source": [
        "# Required Installations"
      ]
    },
    {
      "cell_type": "code",
      "execution_count": null,
      "metadata": {
        "colab": {
          "base_uri": "https://localhost:8080/"
        },
        "id": "o6wwGZkBFOdE",
        "outputId": "03191167-f581-4b11-a04c-f027769805eb"
      },
      "outputs": [
        {
          "name": "stdout",
          "output_type": "stream",
          "text": [
            "Collecting elasticsearch==7.14.0\n",
            "  Downloading elasticsearch-7.14.0-py2.py3-none-any.whl (364 kB)\n",
            "\u001b[2K     \u001b[90m━━━━━━━━━━━━━━━━━━━━━━━━━━━━━━━━━━━━━━━\u001b[0m \u001b[32m364.2/364.2 kB\u001b[0m \u001b[31m4.2 MB/s\u001b[0m eta \u001b[36m0:00:00\u001b[0m\n",
            "\u001b[?25hCollecting urllib3<2,>=1.21.1 (from elasticsearch==7.14.0)\n",
            "  Downloading urllib3-1.26.16-py2.py3-none-any.whl (143 kB)\n",
            "\u001b[2K     \u001b[90m━━━━━━━━━━━━━━━━━━━━━━━━━━━━━━━━━━━━━━━\u001b[0m \u001b[32m143.1/143.1 kB\u001b[0m \u001b[31m7.9 MB/s\u001b[0m eta \u001b[36m0:00:00\u001b[0m\n",
            "\u001b[?25hRequirement already satisfied: certifi in /usr/local/lib/python3.10/dist-packages (from elasticsearch==7.14.0) (2023.7.22)\n",
            "Installing collected packages: urllib3, elasticsearch\n",
            "  Attempting uninstall: urllib3\n",
            "    Found existing installation: urllib3 2.0.4\n",
            "    Uninstalling urllib3-2.0.4:\n",
            "      Successfully uninstalled urllib3-2.0.4\n",
            "Successfully installed elasticsearch-7.14.0 urllib3-1.26.16\n",
            "\n",
            "WARNING: apt does not have a stable CLI interface. Use with caution in scripts.\n",
            "\n"
          ]
        }
      ],
      "source": [
        "!pip install elasticsearch==7.14.0\n",
        "!apt install default-jdk > /dev/null\n",
        "!wget https://artifacts.elastic.co/downloads/elasticsearch/elasticsearch-7.0.0-linux-x86_64.tar.gz -q\n",
        "!tar -xzf elasticsearch-7.0.0-linux-x86_64.tar.gz\n",
        "!chown -R daemon:daemon elasticsearch-7.0.0"
      ]
    },
    {
      "cell_type": "code",
      "execution_count": null,
      "metadata": {
        "colab": {
          "base_uri": "https://localhost:8080/"
        },
        "id": "J8POdPRRXJCQ",
        "outputId": "354b4b0f-0213-4e1f-8d30-5ad52d42e9e6"
      },
      "outputs": [
        {
          "name": "stdout",
          "output_type": "stream",
          "text": [
            "--2023-08-23 12:21:36--  https://trec.nist.gov/trec_eval/trec_eval-9.0.7.tar.gz\n",
            "Resolving trec.nist.gov (trec.nist.gov)... 132.163.4.175, 2610:20:6005:13::19\n",
            "Connecting to trec.nist.gov (trec.nist.gov)|132.163.4.175|:443... connected.\n",
            "HTTP request sent, awaiting response... 200 OK\n",
            "Length: 181743 (177K) [application/x-gzip]\n",
            "Saving to: ‘trec_eval-9.0.7.tar.gz’\n",
            "\n",
            "trec_eval-9.0.7.tar 100%[===================>] 177.48K   988KB/s    in 0.2s    \n",
            "\n",
            "2023-08-23 12:21:36 (988 KB/s) - ‘trec_eval-9.0.7.tar.gz’ saved [181743/181743]\n",
            "\n",
            "trec_eval-9.0.7/\n",
            "trec_eval-9.0.7/CHANGELOG\n",
            "trec_eval-9.0.7/Makefile\n",
            "trec_eval-9.0.7/README\n",
            "trec_eval-9.0.7/README.windows.md\n",
            "trec_eval-9.0.7/bpref_bug\n",
            "trec_eval-9.0.7/common.h\n",
            "trec_eval-9.0.7/convert_zscores.c\n",
            "trec_eval-9.0.7/form_prefs_counts.c\n",
            "trec_eval-9.0.7/form_res_rels.c\n",
            "trec_eval-9.0.7/form_res_rels_jg.c\n",
            "trec_eval-9.0.7/formats.c\n",
            "trec_eval-9.0.7/functions.h\n",
            "trec_eval-9.0.7/get_prefs.c\n",
            "trec_eval-9.0.7/get_qrels.c\n",
            "trec_eval-9.0.7/get_qrels_jg.c\n",
            "trec_eval-9.0.7/get_qrels_prefs.c\n",
            "trec_eval-9.0.7/get_trec_results.c\n",
            "trec_eval-9.0.7/get_zscores.c\n",
            "trec_eval-9.0.7/m_11pt_avg.c\n",
            "trec_eval-9.0.7/m_G.c\n",
            "trec_eval-9.0.7/m_P.c\n",
            "trec_eval-9.0.7/m_P_avgjg.c\n",
            "trec_eval-9.0.7/m_Rndcg.c\n",
            "trec_eval-9.0.7/m_Rprec.c\n",
            "trec_eval-9.0.7/m_Rprec_mult.c\n",
            "trec_eval-9.0.7/m_Rprec_mult_avgjg.c\n",
            "trec_eval-9.0.7/m_binG.c\n",
            "trec_eval-9.0.7/m_bpref.c\n",
            "trec_eval-9.0.7/m_gm_bpref.c\n",
            "trec_eval-9.0.7/m_gm_map.c\n",
            "trec_eval-9.0.7/m_infap.c\n",
            "trec_eval-9.0.7/m_iprec_at_recall.c\n",
            "trec_eval-9.0.7/m_map.c\n",
            "trec_eval-9.0.7/m_map_avgjg.c\n",
            "trec_eval-9.0.7/m_map_cut.c\n",
            "trec_eval-9.0.7/m_ndcg.c\n",
            "trec_eval-9.0.7/m_ndcg_cut.c\n",
            "trec_eval-9.0.7/m_ndcg_p.c\n",
            "trec_eval-9.0.7/m_ndcg_rel.c\n",
            "trec_eval-9.0.7/m_num_nonrel_judged_ret.c\n",
            "trec_eval-9.0.7/m_num_q.c\n",
            "trec_eval-9.0.7/m_num_rel.c\n",
            "trec_eval-9.0.7/m_num_rel_ret.c\n",
            "trec_eval-9.0.7/m_num_ret.c\n",
            "trec_eval-9.0.7/m_prefs_avgjg.c\n",
            "trec_eval-9.0.7/m_prefs_avgjg_Rnonrel.c\n",
            "trec_eval-9.0.7/m_prefs_avgjg_Rnonrel_ret.c\n",
            "trec_eval-9.0.7/m_prefs_avgjg_imp.c\n",
            "trec_eval-9.0.7/m_prefs_avgjg_ret.c\n",
            "trec_eval-9.0.7/m_prefs_num_prefs_ful.c\n",
            "trec_eval-9.0.7/m_prefs_num_prefs_ful_ret.c\n",
            "trec_eval-9.0.7/m_prefs_num_prefs_poss.c\n",
            "trec_eval-9.0.7/m_prefs_pair.c\n",
            "trec_eval-9.0.7/m_prefs_pair_imp.c\n",
            "trec_eval-9.0.7/m_prefs_pair_ret.c\n",
            "trec_eval-9.0.7/m_prefs_simp.c\n",
            "trec_eval-9.0.7/m_prefs_simp_imp.c\n",
            "trec_eval-9.0.7/m_prefs_simp_ret.c\n",
            "trec_eval-9.0.7/m_recall.c\n",
            "trec_eval-9.0.7/m_recip_rank.c\n",
            "trec_eval-9.0.7/m_rel_P.c\n",
            "trec_eval-9.0.7/m_relstring.c\n",
            "trec_eval-9.0.7/m_runid.c\n",
            "trec_eval-9.0.7/m_set_F.c\n",
            "trec_eval-9.0.7/m_set_P.c\n",
            "trec_eval-9.0.7/m_set_map.c\n",
            "trec_eval-9.0.7/m_set_recall.c\n",
            "trec_eval-9.0.7/m_set_rel_P.c\n",
            "trec_eval-9.0.7/m_success.c\n",
            "trec_eval-9.0.7/m_utility.c\n",
            "trec_eval-9.0.7/m_yaap.c\n",
            "trec_eval-9.0.7/meas_acc.c\n",
            "trec_eval-9.0.7/meas_avg.c\n",
            "trec_eval-9.0.7/meas_init.c\n",
            "trec_eval-9.0.7/meas_print_final.c\n",
            "trec_eval-9.0.7/meas_print_single.c\n",
            "trec_eval-9.0.7/measures.c\n",
            "trec_eval-9.0.7/sysfunc.h\n",
            "trec_eval-9.0.7/test/\n",
            "trec_eval-9.0.7/test/out.test\n",
            "trec_eval-9.0.7/test/out.test.a\n",
            "trec_eval-9.0.7/test/out.test.aq\n",
            "trec_eval-9.0.7/test/out.test.aqZ\n",
            "trec_eval-9.0.7/test/out.test.aqc\n",
            "trec_eval-9.0.7/test/out.test.aqcM\n",
            "trec_eval-9.0.7/test/out.test.aql\n",
            "trec_eval-9.0.7/test/out.test.meas_params\n",
            "trec_eval-9.0.7/test/out.test.prefs\n",
            "trec_eval-9.0.7/test/out.test.qrels_jg\n",
            "trec_eval-9.0.7/test/out.test.qrels_prefs\n",
            "trec_eval-9.0.7/test/prefs.rank20\n",
            "trec_eval-9.0.7/test/prefs.results.test\n",
            "trec_eval-9.0.7/test/prefs.test\n",
            "trec_eval-9.0.7/test/qrels.123\n",
            "trec_eval-9.0.7/test/qrels.rel_level\n",
            "trec_eval-9.0.7/test/qrels.test\n",
            "trec_eval-9.0.7/test/results.test\n",
            "trec_eval-9.0.7/test/results.trunc\n",
            "trec_eval-9.0.7/test/zscores_file\n",
            "trec_eval-9.0.7/trec_eval.c\n",
            "trec_eval-9.0.7/trec_eval.h\n",
            "trec_eval-9.0.7/trec_format.h\n",
            "trec_eval-9.0.7/utility_pool.c\n",
            "gcc -g -I.  -Wall -DVERSIONID=\\\"9.0.7\\\"  -o trec_eval trec_eval.c formats.c meas_init.c meas_acc.c meas_avg.c meas_print_single.c meas_print_final.c get_qrels.c get_trec_results.c get_prefs.c get_qrels_prefs.c get_qrels_jg.c form_res_rels.c form_res_rels_jg.c form_prefs_counts.c utility_pool.c get_zscores.c convert_zscores.c measures.c  m_map.c m_P.c m_num_q.c m_num_ret.c m_num_rel.c m_num_rel_ret.c m_gm_map.c m_Rprec.c m_recip_rank.c m_bpref.c m_iprec_at_recall.c m_recall.c m_Rprec_mult.c m_utility.c m_11pt_avg.c m_ndcg.c m_ndcg_cut.c m_Rndcg.c m_ndcg_rel.c m_binG.c m_G.c m_rel_P.c m_success.c m_infap.c m_map_cut.c m_gm_bpref.c m_runid.c m_relstring.c m_set_P.c m_set_recall.c m_set_rel_P.c m_set_map.c m_set_F.c m_num_nonrel_judged_ret.c m_prefs_num_prefs_poss.c m_prefs_num_prefs_ful.c m_prefs_num_prefs_ful_ret.c m_prefs_simp.c m_prefs_pair.c m_prefs_avgjg.c m_prefs_avgjg_Rnonrel.c m_prefs_simp_ret.c m_prefs_pair_ret.c m_prefs_avgjg_ret.c m_prefs_avgjg_Rnonrel_ret.c m_prefs_simp_imp.c m_prefs_pair_imp.c m_prefs_avgjg_imp.c m_map_avgjg.c m_Rprec_mult_avgjg.c m_P_avgjg.c m_yaap.c -lm\n"
          ]
        }
      ],
      "source": [
        "!wget https://trec.nist.gov/trec_eval/trec_eval-9.0.7.tar.gz\n",
        "!tar xvfz trec_eval-9.0.7.tar.gz\n",
        "!cd trec_eval-9.0.7 && make"
      ]
    },
    {
      "cell_type": "code",
      "execution_count": null,
      "metadata": {
        "colab": {
          "base_uri": "https://localhost:8080/"
        },
        "id": "JUqrimcYGPM0",
        "outputId": "1af27454-2fa3-42cd-ea0a-ff1e3be4feef"
      },
      "outputs": [
        {
          "name": "stdout",
          "output_type": "stream",
          "text": [
            "Collecting splade\n",
            "  Cloning https://github.com/naver/splade.git to /tmp/pip-install-o4ea22p4/splade_4a4a601b78dc49c1935e7fb473c99151\n",
            "  Running command git clone --filter=blob:none --quiet https://github.com/naver/splade.git /tmp/pip-install-o4ea22p4/splade_4a4a601b78dc49c1935e7fb473c99151\n",
            "  Resolved https://github.com/naver/splade.git to commit 3781228d5f07e7a6ae14a479e469a715de79e976\n",
            "  Preparing metadata (setup.py) ... \u001b[?25l\u001b[?25hdone\n",
            "Requirement already satisfied: transformers==4.18.0 in /usr/local/lib/python3.10/dist-packages (from splade) (4.18.0)\n",
            "Requirement already satisfied: omegaconf==2.1.2 in /usr/local/lib/python3.10/dist-packages (from splade) (2.1.2)\n",
            "Requirement already satisfied: antlr4-python3-runtime==4.8 in /usr/local/lib/python3.10/dist-packages (from omegaconf==2.1.2->splade) (4.8)\n",
            "Requirement already satisfied: PyYAML>=5.1.0 in /usr/local/lib/python3.10/dist-packages (from omegaconf==2.1.2->splade) (6.0.1)\n",
            "Requirement already satisfied: filelock in /usr/local/lib/python3.10/dist-packages (from transformers==4.18.0->splade) (3.12.2)\n",
            "Requirement already satisfied: huggingface-hub<1.0,>=0.1.0 in /usr/local/lib/python3.10/dist-packages (from transformers==4.18.0->splade) (0.16.4)\n",
            "Requirement already satisfied: numpy>=1.17 in /usr/local/lib/python3.10/dist-packages (from transformers==4.18.0->splade) (1.23.5)\n",
            "Requirement already satisfied: packaging>=20.0 in /usr/local/lib/python3.10/dist-packages (from transformers==4.18.0->splade) (23.1)\n",
            "Requirement already satisfied: regex!=2019.12.17 in /usr/local/lib/python3.10/dist-packages (from transformers==4.18.0->splade) (2023.6.3)\n",
            "Requirement already satisfied: requests in /usr/local/lib/python3.10/dist-packages (from transformers==4.18.0->splade) (2.31.0)\n",
            "Requirement already satisfied: sacremoses in /usr/local/lib/python3.10/dist-packages (from transformers==4.18.0->splade) (0.0.53)\n",
            "Requirement already satisfied: tokenizers!=0.11.3,<0.13,>=0.11.1 in /usr/local/lib/python3.10/dist-packages (from transformers==4.18.0->splade) (0.12.1)\n",
            "Requirement already satisfied: tqdm>=4.27 in /usr/local/lib/python3.10/dist-packages (from transformers==4.18.0->splade) (4.66.1)\n",
            "Requirement already satisfied: fsspec in /usr/local/lib/python3.10/dist-packages (from huggingface-hub<1.0,>=0.1.0->transformers==4.18.0->splade) (2023.6.0)\n",
            "Requirement already satisfied: typing-extensions>=3.7.4.3 in /usr/local/lib/python3.10/dist-packages (from huggingface-hub<1.0,>=0.1.0->transformers==4.18.0->splade) (4.7.1)\n",
            "Requirement already satisfied: charset-normalizer<4,>=2 in /usr/local/lib/python3.10/dist-packages (from requests->transformers==4.18.0->splade) (3.2.0)\n",
            "Requirement already satisfied: idna<4,>=2.5 in /usr/local/lib/python3.10/dist-packages (from requests->transformers==4.18.0->splade) (3.4)\n",
            "Requirement already satisfied: urllib3<3,>=1.21.1 in /usr/local/lib/python3.10/dist-packages (from requests->transformers==4.18.0->splade) (1.26.16)\n",
            "Requirement already satisfied: certifi>=2017.4.17 in /usr/local/lib/python3.10/dist-packages (from requests->transformers==4.18.0->splade) (2023.7.22)\n",
            "Requirement already satisfied: six in /usr/local/lib/python3.10/dist-packages (from sacremoses->transformers==4.18.0->splade) (1.16.0)\n",
            "Requirement already satisfied: click in /usr/local/lib/python3.10/dist-packages (from sacremoses->transformers==4.18.0->splade) (8.1.7)\n",
            "Requirement already satisfied: joblib in /usr/local/lib/python3.10/dist-packages (from sacremoses->transformers==4.18.0->splade) (1.3.2)\n"
          ]
        }
      ],
      "source": [
        "!pip install git+https://github.com/naver/splade.git#egg=splade"
      ]
    },
    {
      "cell_type": "code",
      "execution_count": null,
      "metadata": {
        "colab": {
          "base_uri": "https://localhost:8080/"
        },
        "id": "OQNQIZgDUYRS",
        "outputId": "38e2468e-ff7e-400d-a865-090778ed3ce1"
      },
      "outputs": [
        {
          "name": "stdout",
          "output_type": "stream",
          "text": [
            "--2023-08-23 12:28:07--  https://www.dropbox.com/s/n4dks2naim2t716/aila20-task1.tar.gz.gpg?dl=0\n",
            "Resolving www.dropbox.com (www.dropbox.com)... 162.125.5.18, 2620:100:601d:18::a27d:512\n",
            "Connecting to www.dropbox.com (www.dropbox.com)|162.125.5.18|:443... connected.\n",
            "HTTP request sent, awaiting response... 302 Found\n",
            "Location: /s/raw/n4dks2naim2t716/aila20-task1.tar.gz.gpg [following]\n",
            "--2023-08-23 12:28:07--  https://www.dropbox.com/s/raw/n4dks2naim2t716/aila20-task1.tar.gz.gpg\n",
            "Reusing existing connection to www.dropbox.com:443.\n",
            "HTTP request sent, awaiting response... 302 Found\n",
            "Location: https://uce7608874be10f10b10535770b5.dl.dropboxusercontent.com/cd/0/inline/CCX46Dq0Aw6iHYkGRcrCMS4r_9zbbY6sMhDPxOV_LKxzylhCeTqtDM1s1MOO1JXm4CIhgBaI6H3r7GladDJEa4EEymzeebUYqg0kq6rMlndBVhQpAtKnGPx1pMwah5c9X7Q/file# [following]\n",
            "--2023-08-23 12:28:07--  https://uce7608874be10f10b10535770b5.dl.dropboxusercontent.com/cd/0/inline/CCX46Dq0Aw6iHYkGRcrCMS4r_9zbbY6sMhDPxOV_LKxzylhCeTqtDM1s1MOO1JXm4CIhgBaI6H3r7GladDJEa4EEymzeebUYqg0kq6rMlndBVhQpAtKnGPx1pMwah5c9X7Q/file\n",
            "Resolving uce7608874be10f10b10535770b5.dl.dropboxusercontent.com (uce7608874be10f10b10535770b5.dl.dropboxusercontent.com)... 162.125.5.15, 2620:100:601d:15::a27d:50f\n",
            "Connecting to uce7608874be10f10b10535770b5.dl.dropboxusercontent.com (uce7608874be10f10b10535770b5.dl.dropboxusercontent.com)|162.125.5.15|:443... connected.\n",
            "HTTP request sent, awaiting response... 302 Found\n",
            "Location: /cd/0/inline2/CCXrUCa3YkksTCtbieNh9emtkIGI4dME8tpxqgSuWQD09Obm4yP6ueMJiSLXhCEmO2Y4wkcAZ5WrDp5OXWN4NRkWx66mK9Dw2PsRIfP11WoQ1w3UNLUUegkex-wXST4L8AOQ-09OXiD1r5DOCtLfbtwHb-MoTfer6g-TF5t4Tph7BXcibbbvyCUc9GQgSAgvu1hjvN7Cx2rMoPHYE-N2seKvhHaaIwzpujQI8QRLdx6vLSLxfSb-rKy5De5B82ETVwT4SVHI3pxYks4L36d3arst9paywzMPVJKUv-ek5ovVjpm9LpliTkEELQHjy8vF4l_J8DjzopWoXjE21K-8x46SbfBx46WnN5e5vJmG8ORzaQ/file [following]\n",
            "--2023-08-23 12:28:08--  https://uce7608874be10f10b10535770b5.dl.dropboxusercontent.com/cd/0/inline2/CCXrUCa3YkksTCtbieNh9emtkIGI4dME8tpxqgSuWQD09Obm4yP6ueMJiSLXhCEmO2Y4wkcAZ5WrDp5OXWN4NRkWx66mK9Dw2PsRIfP11WoQ1w3UNLUUegkex-wXST4L8AOQ-09OXiD1r5DOCtLfbtwHb-MoTfer6g-TF5t4Tph7BXcibbbvyCUc9GQgSAgvu1hjvN7Cx2rMoPHYE-N2seKvhHaaIwzpujQI8QRLdx6vLSLxfSb-rKy5De5B82ETVwT4SVHI3pxYks4L36d3arst9paywzMPVJKUv-ek5ovVjpm9LpliTkEELQHjy8vF4l_J8DjzopWoXjE21K-8x46SbfBx46WnN5e5vJmG8ORzaQ/file\n",
            "Reusing existing connection to uce7608874be10f10b10535770b5.dl.dropboxusercontent.com:443.\n",
            "HTTP request sent, awaiting response... 200 OK\n",
            "Length: 18200734 (17M) [application/octet-stream]\n",
            "Saving to: ‘aila20-task1.tar.gz.gpg?dl=0’\n",
            "\n",
            "aila20-task1.tar.gz 100%[===================>]  17.36M  44.7MB/s    in 0.4s    \n",
            "\n",
            "2023-08-23 12:28:09 (44.7 MB/s) - ‘aila20-task1.tar.gz.gpg?dl=0’ saved [18200734/18200734]\n",
            "\n",
            "gpg: AES.CFB encrypted data\n",
            "gpg: encrypted with 1 passphrase\n"
          ]
        }
      ],
      "source": [
        "# Download the data and decrpyt\n",
        "# TODO: set <PASSPHRASE>\n",
        "!wget https://www.dropbox.com/s/n4dks2naim2t716/aila20-task1.tar.gz.gpg?dl=0 && mv aila20-task1.tar.gz.gpg?dl=0 aila20-task1.tar.gz.gpg\n",
        "!gpg --pinentry-mode=loopback --passphrase <PASSPHRASE> --output aila20-task1.tar.gz --decrypt aila20-task1.tar.gz.gpg\n",
        "!tar xzf aila20-task1.tar.gz"
      ]
    },
    {
      "cell_type": "markdown",
      "metadata": {
        "id": "hNbti2UXS_L2"
      },
      "source": [
        "# Starting Elasticsearch"
      ]
    },
    {
      "cell_type": "code",
      "execution_count": null,
      "metadata": {
        "id": "NgghBrTTIibN"
      },
      "outputs": [],
      "source": [
        "try:\n",
        "  import os\n",
        "  import elasticsearch\n",
        "  from elasticsearch import Elasticsearch\n",
        "  import numpy as np\n",
        "  import pandas as pd\n",
        "  import sys\n",
        "  import json\n",
        "  from ast import literal_eval\n",
        "  from tqdm import tqdm\n",
        "  import datetime\n",
        "  from elasticsearch import helpers\n",
        "\n",
        "except Exception as e:\n",
        "  print(f\"error: {e}\")"
      ]
    },
    {
      "cell_type": "code",
      "execution_count": null,
      "metadata": {
        "id": "g3ne5IDTIHxU"
      },
      "outputs": [],
      "source": [
        "import os\n",
        "from subprocess import Popen, PIPE, STDOUT\n",
        "es_server = Popen(['elasticsearch-7.0.0/bin/elasticsearch'],\n",
        "                  stdout=PIPE, stderr=STDOUT,\n",
        "                  preexec_fn=lambda: os.setuid(1)  # as daemon\n",
        "                 )"
      ]
    },
    {
      "cell_type": "code",
      "execution_count": null,
      "metadata": {
        "colab": {
          "base_uri": "https://localhost:8080/"
        },
        "id": "6lP-uyPjIQDf",
        "outputId": "bfe8a014-be33-4723-da52-7cc335600164"
      },
      "outputs": [
        {
          "name": "stdout",
          "output_type": "stream",
          "text": [
            "{\n",
            "  \"name\" : \"70f4545cc0f9\",\n",
            "  \"cluster_name\" : \"elasticsearch\",\n",
            "  \"cluster_uuid\" : \"acNRhApOQzWwVgB92Reikw\",\n",
            "  \"version\" : {\n",
            "    \"number\" : \"7.0.0\",\n",
            "    \"build_flavor\" : \"default\",\n",
            "    \"build_type\" : \"tar\",\n",
            "    \"build_hash\" : \"b7e28a7\",\n",
            "    \"build_date\" : \"2019-04-05T22:55:32.697037Z\",\n",
            "    \"build_snapshot\" : false,\n",
            "    \"lucene_version\" : \"8.0.0\",\n",
            "    \"minimum_wire_compatibility_version\" : \"6.7.0\",\n",
            "    \"minimum_index_compatibility_version\" : \"6.0.0-beta1\"\n",
            "  },\n",
            "  \"tagline\" : \"You Know, for Search\"\n",
            "}\n"
          ]
        }
      ],
      "source": [
        "# elasticsearch needs some time to start, so this won't work immediately\n",
        "!curl localhost:9200"
      ]
    },
    {
      "cell_type": "markdown",
      "metadata": {
        "id": "e3Q0gdg3z8My"
      },
      "source": [
        "# Basic Elasticsearch"
      ]
    },
    {
      "cell_type": "markdown",
      "metadata": {
        "id": "ds1szZ3853tC"
      },
      "source": [
        "## Data Loading and Indexing\n",
        "Write functions for iterating through the statute documents and converting them into an Elasticsearch compatible document format (i.e. a dictionary with a field containing the document data).\n",
        "Also create a mapping for the index that defines the type of the field, which analyzer and which similarity function is used.\n",
        "Considere reading through [the ES mapping documentation](https://www.elastic.co/guide/en/elasticsearch/reference/7.0/mapping.html) and possibly the [ES Python documentation](https://elasticsearch-py.readthedocs.io/en/v7.14.0/)"
      ]
    },
    {
      "cell_type": "code",
      "execution_count": null,
      "metadata": {
        "id": "NUROiYzYe-M9"
      },
      "outputs": [],
      "source": [
        "#####################################\n",
        "### TODO\n",
        "#####################################\n",
        "\n",
        "import os\n",
        "\n",
        "documents_path = \"dataset/Object_statutes\"\n",
        "queries_path = \"dataset/Query_doc.txt\"\n",
        "eval_path = \"relevance_judgements/task1b_rel_judgements.txt\"\n",
        "INDEX_NAME = \"task1b_base\"\n",
        "\n",
        "\n",
        "def doc_iterator(documents_path):\n",
        "  # TODO\n",
        "  pass\n",
        "\n",
        "\n",
        "mapping = {\n",
        "  # TODO\n",
        "}\n",
        "\n",
        "data = [(doc_id, doc) for doc_id, doc in doc_iterator(documents_path)]"
      ]
    },
    {
      "cell_type": "code",
      "execution_count": null,
      "metadata": {
        "colab": {
          "base_uri": "https://localhost:8080/"
        },
        "id": "xA_mVe2nITHk",
        "outputId": "eddd967b-1e14-4b3e-9aa0-2c96a7e06fcb"
      },
      "outputs": [
        {
          "name": "stdout",
          "output_type": "stream",
          "text": [
            "(7, 14, 0)\n",
            "7.14.0\n"
          ]
        }
      ],
      "source": [
        "import elasticsearch\n",
        "from tqdm import tqdm\n",
        "from elasticsearch import helpers\n",
        "print(elasticsearch.__version__)\n",
        "print(elasticsearch.__versionstr__)\n",
        "class ElasticSearch:\n",
        "\tdef __init__(self):\n",
        "\t\t# configure elasticsearch\n",
        "\t\tconfig = {\n",
        "\t\t\t\"localhost\": 9200\n",
        "\t\t}\n",
        "\t\tself.es = elasticsearch.Elasticsearch([config, ], timeout=30)\n",
        "\t\tself.last_scroll_id = None\n",
        "\n",
        "\tdef create_index(self, name, mapping, replace=False):\n",
        "\t\tif replace:\n",
        "\t\t\tself.delete_index(name)\n",
        "\t\tprint(\"creating index, name: \", name)\n",
        "\t\tself.es.indices.create(index=name, body=mapping)\n",
        "\t\tprint(\"index created successfully, index name: \" + name)\n",
        "\n",
        "\tdef delete_index(self, name):\n",
        "\t\tprint(\"deleting index, name: \", name)\n",
        "\t\tself.es.indices.delete(index=name, ignore=[400, 404])\n",
        "\t\tprint(\"index deleted successfully, index name: \" + name)\n",
        "\n",
        "\tdef index(self, documents, index_name):\n",
        "\t\tfor doc_id, doc in tqdm(documents):\n",
        "\t\t\tself.es.index(index=index_name, id=doc_id, body=doc)\n",
        "\n",
        "\tdef search(self, index, body):\n",
        "\t\ttry:\n",
        "\t\t\t# make the bulk call, and get a response\n",
        "\t\t\treturn self.es.search(index=index, body=body)\n",
        "\t\texcept Exception as e:\n",
        "\t\t\tprint(\"\\nERROR:\", e)"
      ]
    },
    {
      "cell_type": "code",
      "execution_count": null,
      "metadata": {
        "colab": {
          "base_uri": "https://localhost:8080/"
        },
        "id": "rITQl194CTPZ",
        "outputId": "20d73d07-eeb8-4744-de89-b1334c38bebb"
      },
      "outputs": [
        {
          "name": "stdout",
          "output_type": "stream",
          "text": [
            "indexer run..  index_name: task1b_base\n",
            "creating index mapping...\n",
            "deleting index, name:  task1b_base\n",
            "index deleted successfully, index name: task1b_base\n",
            "creating index, name:  task1b_base\n",
            "index created successfully, index name: task1b_base\n",
            "index mapping created !\n"
          ]
        },
        {
          "name": "stderr",
          "output_type": "stream",
          "text": [
            "100%|██████████| 197/197 [00:03<00:00, 65.42it/s]\n"
          ]
        }
      ],
      "source": [
        "def index_documents(index_name, documents):\n",
        "  es = ElasticSearch()\n",
        "  print(f\"indexer run..  index_name: {index_name}\")\n",
        "  print(\"creating index mapping...\")\n",
        "  es.create_index(index_name, mapping, replace=True)\n",
        "  print(\"index mapping created !\")\n",
        "  es.index(index_name=index_name, documents=documents)\n",
        "\n",
        "index_documents(index_name=INDEX_NAME, documents=data)"
      ]
    },
    {
      "cell_type": "markdown",
      "metadata": {
        "id": "KLHR4kTgyFfF"
      },
      "source": [
        "## Queries\n",
        "Write functions for iterating through the query document and converting the queries into an Elasticsearch compatible boolean query dictionary that queries the same field as defined in the above mapping. You should also convert the query full text to keywords. You can make use of a simple function like the existing `get_keyword_query` function, or write your own to shorten the query.\n",
        "Considere reading through [the ES boolean query documentation](https://www.elastic.co/guide/en/elasticsearch/reference/7.0/query-dsl-bool-query.html)"
      ]
    },
    {
      "cell_type": "code",
      "execution_count": null,
      "metadata": {
        "id": "H71nZbVkzC71"
      },
      "outputs": [],
      "source": [
        "#####################################\n",
        "### TODO\n",
        "#####################################\n",
        "\n",
        "def query_iter(queries_path):\n",
        "  # TODO\n",
        "  pass\n",
        "\n",
        "def get_keyword_query(query_text):\n",
        "  query_tokens = set()\n",
        "  for token in query_text.lower().split():\n",
        "    query_tokens.add(token)\n",
        "  return \" \".join(query_tokens)\n",
        "\n",
        "queries = [(query_id, bool_query) for query_id, bool_query in query_iter(queries_path)]"
      ]
    },
    {
      "cell_type": "code",
      "execution_count": null,
      "metadata": {
        "id": "nDHWQeFoQRss"
      },
      "outputs": [],
      "source": [
        "def\trank(index_name, queries, output_path):\n",
        "  report = {}\n",
        "  es = ElasticSearch()\n",
        "  cnt = 0\n",
        "  with open(output_path, \"w\") as fp:\n",
        "    for query_id, query_body in queries:\n",
        "      try:\n",
        "        candidates = es.search(index=index_name, body=query_body)\n",
        "        for rank, candidate in enumerate(candidates['hits']['hits']):\n",
        "          document_id = candidate[\"_id\"]\n",
        "          score = candidate[\"_score\"]\n",
        "          trec_text = f\"{query_id} Q0 {document_id} {rank} {score} base\\n\"\n",
        "          fp.write(trec_text)\n",
        "      except:\n",
        "        print(query_id, query_body)\n",
        "\n",
        "rank(index_name=INDEX_NAME, queries=queries, output_path=\"base_run.txt\")"
      ]
    },
    {
      "cell_type": "code",
      "execution_count": null,
      "metadata": {
        "colab": {
          "base_uri": "https://localhost:8080/"
        },
        "id": "xM7piZcsR1V2",
        "outputId": "fc78ab6a-8719-41e2-f307-d90f4cd16f83"
      },
      "outputs": [
        {
          "name": "stdout",
          "output_type": "stream",
          "text": [
            "runid                 \tall\tbase\n",
            "num_q                 \tall\t50\n",
            "num_ret               \tall\t9850\n",
            "num_rel               \tall\t221\n",
            "num_rel_ret           \tall\t217\n",
            "map                   \tall\t0.0727\n",
            "gm_map                \tall\t0.0442\n",
            "Rprec                 \tall\t0.0490\n",
            "bpref                 \tall\t0.0391\n",
            "recip_rank            \tall\t0.1870\n",
            "iprec_at_recall_0.00  \tall\t0.1969\n",
            "iprec_at_recall_0.10  \tall\t0.1969\n",
            "iprec_at_recall_0.20  \tall\t0.1969\n",
            "iprec_at_recall_0.30  \tall\t0.0711\n",
            "iprec_at_recall_0.40  \tall\t0.0702\n",
            "iprec_at_recall_0.50  \tall\t0.0460\n",
            "iprec_at_recall_0.60  \tall\t0.0360\n",
            "iprec_at_recall_0.70  \tall\t0.0334\n",
            "iprec_at_recall_0.80  \tall\t0.0273\n",
            "iprec_at_recall_0.90  \tall\t0.0265\n",
            "iprec_at_recall_1.00  \tall\t0.0265\n",
            "P_5                   \tall\t0.0480\n",
            "P_10                  \tall\t0.0380\n",
            "P_15                  \tall\t0.0320\n",
            "P_20                  \tall\t0.0320\n",
            "P_30                  \tall\t0.0280\n",
            "P_100                 \tall\t0.0194\n",
            "P_200                 \tall\t0.0217\n",
            "P_500                 \tall\t0.0087\n",
            "P_1000                \tall\t0.0043\n"
          ]
        }
      ],
      "source": [
        "!trec_eval-9.0.7/trec_eval relevance_judgements/task1b_rel_judgements.txt base_run.txt"
      ]
    },
    {
      "cell_type": "markdown",
      "metadata": {
        "id": "HjjR8wKerwpP"
      },
      "source": [
        "# Splade"
      ]
    },
    {
      "cell_type": "code",
      "execution_count": null,
      "metadata": {
        "id": "6vBep9haQqLM"
      },
      "outputs": [],
      "source": [
        "\n",
        "import torch\n",
        "from transformers import AutoModelForMaskedLM, AutoTokenizer\n",
        "from splade.models.transformer_rep import Splade"
      ]
    },
    {
      "cell_type": "code",
      "execution_count": null,
      "metadata": {
        "id": "__b6DsCjr3xZ"
      },
      "outputs": [],
      "source": [
        "# set the dir for trained weights\n",
        "\n",
        "##### v2\n",
        "# model_type_or_dir = \"naver/splade_v2_max\"\n",
        "# model_type_or_dir = \"naver/splade_v2_distil\"\n",
        "\n",
        "### v2bis, directly download from Hugging Face\n",
        "# model_type_or_dir = \"naver/splade-cocondenser-selfdistil\"\n",
        "model_type_or_dir = \"naver/splade-cocondenser-ensembledistil\""
      ]
    },
    {
      "cell_type": "code",
      "execution_count": null,
      "metadata": {
        "colab": {
          "base_uri": "https://localhost:8080/",
          "height": 209,
          "referenced_widgets": [
            "aec328e96a76462fbebea23336c08913",
            "07f0266425234cd195fb5ac3ff674c39",
            "421aaf4eb1a64a789a6810bf70698c6c",
            "5dd78cd384014978b6647d1f34e84c66",
            "1914ba84b89643e59e4dbeaccf28c1a9",
            "288daada5c05432290f6ea3aebabe231",
            "06f484a7fbf34b65b9c8a31c37b4471d",
            "1f5da32294a14f98a477c0f9f4070323",
            "81fc2a79ded2441b8861ff6c50c55b6a",
            "8c399e867c8847e6adb93c97365059ec",
            "42caedd29d5d4d0dae0d304cf494c9e0",
            "6a437eb94a5d40789b03a914af930c93",
            "d29435957fc8487c95c6d51bdf9fb0ab",
            "78018dc7112f49b5b16dd86dd0af9813",
            "365fe78ec5f84301ac1b91a4871787ac",
            "68a48eab8ca849ed9c797c4dec52d7b7",
            "f2949e809382416da3d68a1b424236da",
            "9a7233d09a3446a1ae4d4bdf4f182ab6",
            "7a845faf80ec4853b8ddcd3d177382cf",
            "0aa5060908f945069392d61c375e0e94",
            "b710187445254666bea1504d4f665f20",
            "ee438c4852cd40ceba3c2d88cecf6a10",
            "2f589b9076f0490fad03278dcd483106",
            "ed870f67f303405f96369c047f482dee",
            "d11f523b55fc452f8524550b883a65e8",
            "5e3d30ad7656454b9ecf1f388bbaf29e",
            "0d983011c5304f39a0acdac3ef411a29",
            "d10d0f0ed569486d9c4aff772b6c903f",
            "e415c62c16594428beb370adec915d0f",
            "57fa1d1ae68b48238227a604b3ff7aef",
            "53ebd4e2d0ec4bf9b2a049d31ffdb931",
            "f3fa6454df2d430ba9f9e468b2788425",
            "650a578c23ab4a9ab3d1c1850426dc78",
            "767edbdc1fd2466e9625b275f7fc40db",
            "e8ad4abcbf484d77ab4459bc5119c98b",
            "bf5b0fd2fe3d432eae4aa2e2f83fad06",
            "20f4480541394584b0213478b3bf9c6f",
            "79fe4c817e8e40ef8d4605abb1d05c6c",
            "4f04f38adeee410585f3a4a433360b72",
            "5b9b44bc91754c6db4062c5a04f89804",
            "ff73dba8bb414f07a58b1fc42ef763c4",
            "4b59e3aabc094900a9de92a6bbdba2b7",
            "d8eddb1e122d4bb0a19858933df1aa1d",
            "abd4a04ee5934524bb83d4a2c0d05304",
            "8fd2fb7406c042bc9d5992dabfe3fbfe",
            "57ef5b256b03467d9424e0ed2a7d443c",
            "08872901c85b44abb3b7cd108cf2a5a2",
            "80b3241027e944dfbd2ace9ebf8c70b2",
            "6a9e4835ed3e4dcdb83571e704863493",
            "f4ebba55a40d45e0b825b6ec5b18d7aa",
            "ae42e8ad720b4f98ad94c11f6b8a67bd",
            "8067343c0aa64332afb453c3c12bb117",
            "e837f3e11f28452e8d2cb610bce7f68e",
            "02fd4de6cae44ef5a780955a1a08cce0",
            "2134b2fb443244d69f4c305a207c16f6",
            "2cf451cba649467d8aaad6b3910e4d6a",
            "373eafb0c5ac40d1b289e88183b73aba",
            "ab0bfc17702b498b9d2c3fd757838c2a",
            "0937de6be9c049409744ffe9228d9334",
            "c33d379990a145f9ade48f29b703e95b",
            "f5d17dd25ad54754b974fb57938d56d3",
            "90194eff6bbc4179b6eefb3cfd60375d",
            "d6e15755ff664611b201d7303f4cb683",
            "5d4dc186498c420bb1c93f3afcf4bdba",
            "82bafa0b96794da280e3bae683cfc3bd",
            "8fbf2d2e19ad4663bde470576757161d"
          ]
        },
        "id": "mshNriIdsBqF",
        "outputId": "7721cc2d-995e-4468-8824-fefb3d180e88"
      },
      "outputs": [
        {
          "data": {
            "application/vnd.jupyter.widget-view+json": {
              "model_id": "aec328e96a76462fbebea23336c08913",
              "version_major": 2,
              "version_minor": 0
            },
            "text/plain": [
              "Downloading:   0%|          | 0.00/670 [00:00<?, ?B/s]"
            ]
          },
          "metadata": {},
          "output_type": "display_data"
        },
        {
          "data": {
            "application/vnd.jupyter.widget-view+json": {
              "model_id": "6a437eb94a5d40789b03a914af930c93",
              "version_major": 2,
              "version_minor": 0
            },
            "text/plain": [
              "Downloading:   0%|          | 0.00/418M [00:00<?, ?B/s]"
            ]
          },
          "metadata": {},
          "output_type": "display_data"
        },
        {
          "data": {
            "application/vnd.jupyter.widget-view+json": {
              "model_id": "2f589b9076f0490fad03278dcd483106",
              "version_major": 2,
              "version_minor": 0
            },
            "text/plain": [
              "Downloading:   0%|          | 0.00/466 [00:00<?, ?B/s]"
            ]
          },
          "metadata": {},
          "output_type": "display_data"
        },
        {
          "data": {
            "application/vnd.jupyter.widget-view+json": {
              "model_id": "767edbdc1fd2466e9625b275f7fc40db",
              "version_major": 2,
              "version_minor": 0
            },
            "text/plain": [
              "Downloading:   0%|          | 0.00/226k [00:00<?, ?B/s]"
            ]
          },
          "metadata": {},
          "output_type": "display_data"
        },
        {
          "data": {
            "application/vnd.jupyter.widget-view+json": {
              "model_id": "8fd2fb7406c042bc9d5992dabfe3fbfe",
              "version_major": 2,
              "version_minor": 0
            },
            "text/plain": [
              "Downloading:   0%|          | 0.00/455k [00:00<?, ?B/s]"
            ]
          },
          "metadata": {},
          "output_type": "display_data"
        },
        {
          "data": {
            "application/vnd.jupyter.widget-view+json": {
              "model_id": "2cf451cba649467d8aaad6b3910e4d6a",
              "version_major": 2,
              "version_minor": 0
            },
            "text/plain": [
              "Downloading:   0%|          | 0.00/112 [00:00<?, ?B/s]"
            ]
          },
          "metadata": {},
          "output_type": "display_data"
        }
      ],
      "source": [
        "\n",
        "# loading model and tokenizer\n",
        "\n",
        "model = Splade(model_type_or_dir, agg=\"max\")\n",
        "model.eval()\n",
        "tokenizer = AutoTokenizer.from_pretrained(model_type_or_dir)\n",
        "reverse_voc = {v: k for k, v in tokenizer.vocab.items()}"
      ]
    },
    {
      "cell_type": "code",
      "execution_count": null,
      "metadata": {
        "id": "BOkQaSRzy96M"
      },
      "outputs": [],
      "source": [
        "doc = \"Glass and Thermal Stress. Thermal Stress is created when one area of a glass pane gets hotter than an adjacent area. If the stress is too great then the glass will crack. The stress level at which the glass will break is governed by several factors.\"\n",
        "#doc = \"Glass and Thermal Stress.\""
      ]
    },
    {
      "cell_type": "code",
      "execution_count": null,
      "metadata": {
        "colab": {
          "base_uri": "https://localhost:8080/"
        },
        "id": "uvnfDDSKsEli",
        "outputId": "4fadaf0e-190c-45ff-f6cf-3b183041c7d1"
      },
      "outputs": [
        {
          "name": "stderr",
          "output_type": "stream",
          "text": [
            "/usr/local/lib/python3.10/dist-packages/torch/amp/autocast_mode.py:204: UserWarning: User provided device_type of 'cuda', but CUDA is not available. Disabling\n",
            "  warnings.warn('User provided device_type of \\'cuda\\', but CUDA is not available. Disabling')\n"
          ]
        },
        {
          "name": "stdout",
          "output_type": "stream",
          "text": [
            "SPLADE BOW rep:\n",
            " [('stress', 2.25), ('glass', 2.23), ('thermal', 2.18), ('glasses', 1.65), ('pan', 1.62), ('heat', 1.56), ('stressed', 1.42), ('crack', 1.31), ('break', 1.12), ('cracked', 1.1), ('hot', 0.93), ('created', 0.9), ('factors', 0.81), ('broken', 0.73), ('caused', 0.71), ('too', 0.71), ('damage', 0.69), ('if', 0.68), ('hotter', 0.65), ('governed', 0.61), ('heating', 0.59), ('temperature', 0.59), ('adjacent', 0.59), ('cause', 0.58), ('effect', 0.57), ('fracture', 0.56), ('bradford', 0.55), ('strain', 0.53), ('hammer', 0.51), ('brian', 0.48), ('error', 0.47), ('windows', 0.45), ('will', 0.45), ('reaction', 0.42), ('create', 0.42), ('windshield', 0.41), ('heated', 0.41), ('factor', 0.4), ('cracking', 0.39), ('failure', 0.38), ('mechanical', 0.38), ('when', 0.38), ('formed', 0.38), ('bolt', 0.38), ('mechanism', 0.37), ('warm', 0.37), ('areas', 0.36), ('area', 0.36), ('energy', 0.34), ('disorder', 0.33), ('barry', 0.33), ('shock', 0.32), ('determined', 0.32), ('gage', 0.32), ('sash', 0.31), ('theory', 0.31), ('level', 0.31), ('resistant', 0.31), ('brake', 0.3), ('window', 0.3), ('crash', 0.3), ('hazard', 0.29), ('##ink', 0.27), ('ceramic', 0.27), ('storm', 0.25), ('problem', 0.25), ('issue', 0.24), ('impact', 0.24), ('fridge', 0.24), ('injury', 0.23), ('ross', 0.22), ('causes', 0.22), ('affect', 0.21), ('pressure', 0.21), ('fatigue', 0.21), ('leak', 0.21), ('eye', 0.2), ('frank', 0.2), ('cool', 0.2), ('might', 0.19), ('gravity', 0.18), ('ray', 0.18), ('static', 0.18), ('collapse', 0.18), ('physics', 0.18), ('wave', 0.18), ('reflection', 0.17), ('parker', 0.17), ('strike', 0.17), ('hottest', 0.17), ('burst', 0.16), ('chance', 0.16), ('burn', 0.14), ('rubbing', 0.14), ('interference', 0.14), ('bailey', 0.13), ('vibration', 0.12), ('gilbert', 0.12), ('produced', 0.12), ('rock', 0.12), ('warmer', 0.11), ('get', 0.11), ('drink', 0.11), ('fireplace', 0.11), ('ruin', 0.1), ('brittle', 0.1), ('fragment', 0.1), ('stumble', 0.09), ('formation', 0.09), ('shatter', 0.08), ('great', 0.08), ('friction', 0.08), ('flash', 0.07), ('cracks', 0.07), ('levels', 0.07), ('smash', 0.04), ('fail', 0.04), ('fra', 0.04), ('##glass', 0.03), ('variables', 0.03), ('because', 0.02), ('knock', 0.02), ('sun', 0.02), ('crush', 0.01), ('##e', 0.01), ('anger', 0.01)]\n"
          ]
        }
      ],
      "source": [
        "def get_sparse_document(doc_string, bow_rep_token_strings=True, weight_factor=1.0):\n",
        "  # now compute the document representation\n",
        "  with torch.no_grad():\n",
        "      doc_rep = model(d_kwargs=tokenizer(doc_string, max_length=512, truncation=True, return_tensors=\"pt\"))[\"d_rep\"].squeeze()  # (sparse) doc rep in voc space, shape (30522,)\n",
        "\n",
        "  # get the number of non-zero dimensions in the rep:\n",
        "  col = torch.nonzero(doc_rep).squeeze().cpu().tolist()\n",
        "\n",
        "  # now let's inspect the bow representation:\n",
        "  weights = doc_rep[col].cpu().tolist()\n",
        "  d = {k: v*weight_factor for k, v in zip(col, weights)}\n",
        "  sorted_d = {k: v for k, v in sorted(d.items(), key=lambda item: item[1], reverse=True)}\n",
        "  bow_rep = []\n",
        "  for k, v in sorted_d.items():\n",
        "    if bow_rep_token_strings:\n",
        "      bow_rep.append((reverse_voc[k], round(v, 2)))\n",
        "    else:\n",
        "      bow_rep.append((k, round(v, 2)))\n",
        "  return bow_rep\n",
        "\n",
        "\n",
        "print(\"SPLADE BOW rep:\\n\", get_sparse_document(doc))"
      ]
    },
    {
      "cell_type": "markdown",
      "metadata": {
        "id": "3ED0ZlJp3Jbz"
      },
      "source": [
        "## Data Loading and Indexing\n",
        "Write functions for iterating through the statute documents and create a sparse document representation using `get_sparse_document`. Then convert them into an Elasticsearch compatible dictionary.\n",
        "Also create a mapping for the index that defines the type of the field.\n",
        "Considere reading through [the ES rank features datatype documentation](https://www.elastic.co/guide/en/elasticsearch/reference/7.0/rank-features.html) and [the ES rank feature query documentation](https://www.elastic.co/guide/en/elasticsearch/reference/7.0/query-dsl-rank-feature-query.html)"
      ]
    },
    {
      "cell_type": "code",
      "execution_count": null,
      "metadata": {
        "id": "pfJQjxCs32bW"
      },
      "outputs": [],
      "source": [
        "#####################################\n",
        "### TODO\n",
        "#####################################\n",
        "\n",
        "import os\n",
        "\n",
        "documents_path = \"dataset/Object_statutes\"\n",
        "INDEX_NAME = \"task1b_splade\"\n",
        "\n",
        "def sparse_doc_iterator(documents_path):\n",
        "  # TODO\n",
        "  pass\n",
        "\n",
        "\n",
        "mapping = {\n",
        "    # TODO\n",
        "}\n",
        "\n",
        "data = [(doc_id, doc) for doc_id, doc in sparse_doc_iterator(documents_path)]"
      ]
    },
    {
      "cell_type": "markdown",
      "metadata": {
        "id": "cbIa8gC44sV_"
      },
      "source": [
        "## Queries\n",
        "Write functions for iterating through the query document and converting the queries into an Elasticsearch compatible boolean query dictionary that queries the `ranked_features` field. You should also convert the query full text to keywords, making use of the `get_sparse_document` function."
      ]
    },
    {
      "cell_type": "code",
      "execution_count": null,
      "metadata": {
        "id": "07KdvKKG5IBM"
      },
      "outputs": [],
      "source": [
        "#####################################\n",
        "### TODO\n",
        "#####################################\n",
        "\n",
        "def iter_queries_splade(queries_path):\n",
        "  # TODO\n",
        "  pass\n",
        "\n",
        "queries = [(query_id, bool_query) for query_id, bool_query in iter_queries_splade(queries_path)]"
      ]
    },
    {
      "cell_type": "code",
      "execution_count": null,
      "metadata": {
        "colab": {
          "base_uri": "https://localhost:8080/"
        },
        "id": "zPkIG1eB3Fok",
        "outputId": "22939aa4-3005-43c9-d20e-281afddce44d"
      },
      "outputs": [
        {
          "name": "stdout",
          "output_type": "stream",
          "text": [
            "indexer run..  index_name: task1b_splade\n",
            "creating index mapping...\n",
            "deleting index, name:  task1b_splade\n",
            "index deleted successfully, index name: task1b_splade\n",
            "creating index, name:  task1b_splade\n",
            "index created successfully, index name: task1b_splade\n",
            "index mapping created !\n"
          ]
        },
        {
          "name": "stderr",
          "output_type": "stream",
          "text": [
            "100%|██████████| 197/197 [00:03<00:00, 54.07it/s]\n"
          ]
        }
      ],
      "source": [
        "index_documents(index_name=INDEX_NAME, documents=data)"
      ]
    },
    {
      "cell_type": "code",
      "execution_count": null,
      "metadata": {
        "id": "1b7plGho0gQd"
      },
      "outputs": [],
      "source": [
        "rank(index_name=INDEX_NAME, queries=queries, output_path=\"splade_run.txt\")"
      ]
    },
    {
      "cell_type": "code",
      "execution_count": null,
      "metadata": {
        "colab": {
          "base_uri": "https://localhost:8080/"
        },
        "id": "yH8CGnGGYUGM",
        "outputId": "4117c73b-c0a7-42aa-a9e5-21dbab8d6415"
      },
      "outputs": [
        {
          "name": "stdout",
          "output_type": "stream",
          "text": [
            "runid                 \tall\tbase\n",
            "num_q                 \tall\t50\n",
            "num_ret               \tall\t9694\n",
            "num_rel               \tall\t221\n",
            "num_rel_ret           \tall\t213\n",
            "map                   \tall\t0.1107\n",
            "gm_map                \tall\t0.0789\n",
            "Rprec                 \tall\t0.0790\n",
            "bpref                 \tall\t0.0604\n",
            "recip_rank            \tall\t0.2591\n",
            "iprec_at_recall_0.00  \tall\t0.2681\n",
            "iprec_at_recall_0.10  \tall\t0.2681\n",
            "iprec_at_recall_0.20  \tall\t0.2681\n",
            "iprec_at_recall_0.30  \tall\t0.1167\n",
            "iprec_at_recall_0.40  \tall\t0.1106\n",
            "iprec_at_recall_0.50  \tall\t0.0968\n",
            "iprec_at_recall_0.60  \tall\t0.0612\n",
            "iprec_at_recall_0.70  \tall\t0.0573\n",
            "iprec_at_recall_0.80  \tall\t0.0432\n",
            "iprec_at_recall_0.90  \tall\t0.0357\n",
            "iprec_at_recall_1.00  \tall\t0.0357\n",
            "P_5                   \tall\t0.0800\n",
            "P_10                  \tall\t0.0680\n",
            "P_15                  \tall\t0.0587\n",
            "P_20                  \tall\t0.0540\n",
            "P_30                  \tall\t0.0487\n",
            "P_100                 \tall\t0.0318\n",
            "P_200                 \tall\t0.0213\n",
            "P_500                 \tall\t0.0085\n",
            "P_1000                \tall\t0.0043\n"
          ]
        }
      ],
      "source": [
        "!trec_eval-9.0.7/trec_eval relevance_judgements/task1b_rel_judgements.txt splade_run.txt"
      ]
    },
    {
      "cell_type": "code",
      "execution_count": null,
      "metadata": {
        "id": "4iAhTK1WYY4k"
      },
      "outputs": [],
      "source": []
    }
  ],
  "metadata": {
    "colab": {
      "provenance": []
    },
    "kernelspec": {
      "display_name": "Python 3",
      "name": "python3"
    },
    "language_info": {
      "name": "python"
    },
    "widgets": {
      "application/vnd.jupyter.widget-state+json": {
        "02fd4de6cae44ef5a780955a1a08cce0": {
          "model_module": "@jupyter-widgets/base",
          "model_module_version": "1.2.0",
          "model_name": "LayoutModel",
          "state": {
            "_model_module": "@jupyter-widgets/base",
            "_model_module_version": "1.2.0",
            "_model_name": "LayoutModel",
            "_view_count": null,
            "_view_module": "@jupyter-widgets/base",
            "_view_module_version": "1.2.0",
            "_view_name": "LayoutView",
            "align_content": null,
            "align_items": null,
            "align_self": null,
            "border": null,
            "bottom": null,
            "display": null,
            "flex": null,
            "flex_flow": null,
            "grid_area": null,
            "grid_auto_columns": null,
            "grid_auto_flow": null,
            "grid_auto_rows": null,
            "grid_column": null,
            "grid_gap": null,
            "grid_row": null,
            "grid_template_areas": null,
            "grid_template_columns": null,
            "grid_template_rows": null,
            "height": null,
            "justify_content": null,
            "justify_items": null,
            "left": null,
            "margin": null,
            "max_height": null,
            "max_width": null,
            "min_height": null,
            "min_width": null,
            "object_fit": null,
            "object_position": null,
            "order": null,
            "overflow": null,
            "overflow_x": null,
            "overflow_y": null,
            "padding": null,
            "right": null,
            "top": null,
            "visibility": null,
            "width": null
          }
        },
        "06f484a7fbf34b65b9c8a31c37b4471d": {
          "model_module": "@jupyter-widgets/controls",
          "model_module_version": "1.5.0",
          "model_name": "DescriptionStyleModel",
          "state": {
            "_model_module": "@jupyter-widgets/controls",
            "_model_module_version": "1.5.0",
            "_model_name": "DescriptionStyleModel",
            "_view_count": null,
            "_view_module": "@jupyter-widgets/base",
            "_view_module_version": "1.2.0",
            "_view_name": "StyleView",
            "description_width": ""
          }
        },
        "07f0266425234cd195fb5ac3ff674c39": {
          "model_module": "@jupyter-widgets/controls",
          "model_module_version": "1.5.0",
          "model_name": "HTMLModel",
          "state": {
            "_dom_classes": [],
            "_model_module": "@jupyter-widgets/controls",
            "_model_module_version": "1.5.0",
            "_model_name": "HTMLModel",
            "_view_count": null,
            "_view_module": "@jupyter-widgets/controls",
            "_view_module_version": "1.5.0",
            "_view_name": "HTMLView",
            "description": "",
            "description_tooltip": null,
            "layout": "IPY_MODEL_288daada5c05432290f6ea3aebabe231",
            "placeholder": "​",
            "style": "IPY_MODEL_06f484a7fbf34b65b9c8a31c37b4471d",
            "value": "Downloading: 100%"
          }
        },
        "08872901c85b44abb3b7cd108cf2a5a2": {
          "model_module": "@jupyter-widgets/controls",
          "model_module_version": "1.5.0",
          "model_name": "FloatProgressModel",
          "state": {
            "_dom_classes": [],
            "_model_module": "@jupyter-widgets/controls",
            "_model_module_version": "1.5.0",
            "_model_name": "FloatProgressModel",
            "_view_count": null,
            "_view_module": "@jupyter-widgets/controls",
            "_view_module_version": "1.5.0",
            "_view_name": "ProgressView",
            "bar_style": "success",
            "description": "",
            "description_tooltip": null,
            "layout": "IPY_MODEL_8067343c0aa64332afb453c3c12bb117",
            "max": 466081,
            "min": 0,
            "orientation": "horizontal",
            "style": "IPY_MODEL_e837f3e11f28452e8d2cb610bce7f68e",
            "value": 466081
          }
        },
        "0937de6be9c049409744ffe9228d9334": {
          "model_module": "@jupyter-widgets/controls",
          "model_module_version": "1.5.0",
          "model_name": "HTMLModel",
          "state": {
            "_dom_classes": [],
            "_model_module": "@jupyter-widgets/controls",
            "_model_module_version": "1.5.0",
            "_model_name": "HTMLModel",
            "_view_count": null,
            "_view_module": "@jupyter-widgets/controls",
            "_view_module_version": "1.5.0",
            "_view_name": "HTMLView",
            "description": "",
            "description_tooltip": null,
            "layout": "IPY_MODEL_82bafa0b96794da280e3bae683cfc3bd",
            "placeholder": "​",
            "style": "IPY_MODEL_8fbf2d2e19ad4663bde470576757161d",
            "value": " 112/112 [00:00&lt;00:00, 3.02kB/s]"
          }
        },
        "0aa5060908f945069392d61c375e0e94": {
          "model_module": "@jupyter-widgets/controls",
          "model_module_version": "1.5.0",
          "model_name": "ProgressStyleModel",
          "state": {
            "_model_module": "@jupyter-widgets/controls",
            "_model_module_version": "1.5.0",
            "_model_name": "ProgressStyleModel",
            "_view_count": null,
            "_view_module": "@jupyter-widgets/base",
            "_view_module_version": "1.2.0",
            "_view_name": "StyleView",
            "bar_color": null,
            "description_width": ""
          }
        },
        "0d983011c5304f39a0acdac3ef411a29": {
          "model_module": "@jupyter-widgets/base",
          "model_module_version": "1.2.0",
          "model_name": "LayoutModel",
          "state": {
            "_model_module": "@jupyter-widgets/base",
            "_model_module_version": "1.2.0",
            "_model_name": "LayoutModel",
            "_view_count": null,
            "_view_module": "@jupyter-widgets/base",
            "_view_module_version": "1.2.0",
            "_view_name": "LayoutView",
            "align_content": null,
            "align_items": null,
            "align_self": null,
            "border": null,
            "bottom": null,
            "display": null,
            "flex": null,
            "flex_flow": null,
            "grid_area": null,
            "grid_auto_columns": null,
            "grid_auto_flow": null,
            "grid_auto_rows": null,
            "grid_column": null,
            "grid_gap": null,
            "grid_row": null,
            "grid_template_areas": null,
            "grid_template_columns": null,
            "grid_template_rows": null,
            "height": null,
            "justify_content": null,
            "justify_items": null,
            "left": null,
            "margin": null,
            "max_height": null,
            "max_width": null,
            "min_height": null,
            "min_width": null,
            "object_fit": null,
            "object_position": null,
            "order": null,
            "overflow": null,
            "overflow_x": null,
            "overflow_y": null,
            "padding": null,
            "right": null,
            "top": null,
            "visibility": null,
            "width": null
          }
        },
        "1914ba84b89643e59e4dbeaccf28c1a9": {
          "model_module": "@jupyter-widgets/base",
          "model_module_version": "1.2.0",
          "model_name": "LayoutModel",
          "state": {
            "_model_module": "@jupyter-widgets/base",
            "_model_module_version": "1.2.0",
            "_model_name": "LayoutModel",
            "_view_count": null,
            "_view_module": "@jupyter-widgets/base",
            "_view_module_version": "1.2.0",
            "_view_name": "LayoutView",
            "align_content": null,
            "align_items": null,
            "align_self": null,
            "border": null,
            "bottom": null,
            "display": null,
            "flex": null,
            "flex_flow": null,
            "grid_area": null,
            "grid_auto_columns": null,
            "grid_auto_flow": null,
            "grid_auto_rows": null,
            "grid_column": null,
            "grid_gap": null,
            "grid_row": null,
            "grid_template_areas": null,
            "grid_template_columns": null,
            "grid_template_rows": null,
            "height": null,
            "justify_content": null,
            "justify_items": null,
            "left": null,
            "margin": null,
            "max_height": null,
            "max_width": null,
            "min_height": null,
            "min_width": null,
            "object_fit": null,
            "object_position": null,
            "order": null,
            "overflow": null,
            "overflow_x": null,
            "overflow_y": null,
            "padding": null,
            "right": null,
            "top": null,
            "visibility": null,
            "width": null
          }
        },
        "1f5da32294a14f98a477c0f9f4070323": {
          "model_module": "@jupyter-widgets/base",
          "model_module_version": "1.2.0",
          "model_name": "LayoutModel",
          "state": {
            "_model_module": "@jupyter-widgets/base",
            "_model_module_version": "1.2.0",
            "_model_name": "LayoutModel",
            "_view_count": null,
            "_view_module": "@jupyter-widgets/base",
            "_view_module_version": "1.2.0",
            "_view_name": "LayoutView",
            "align_content": null,
            "align_items": null,
            "align_self": null,
            "border": null,
            "bottom": null,
            "display": null,
            "flex": null,
            "flex_flow": null,
            "grid_area": null,
            "grid_auto_columns": null,
            "grid_auto_flow": null,
            "grid_auto_rows": null,
            "grid_column": null,
            "grid_gap": null,
            "grid_row": null,
            "grid_template_areas": null,
            "grid_template_columns": null,
            "grid_template_rows": null,
            "height": null,
            "justify_content": null,
            "justify_items": null,
            "left": null,
            "margin": null,
            "max_height": null,
            "max_width": null,
            "min_height": null,
            "min_width": null,
            "object_fit": null,
            "object_position": null,
            "order": null,
            "overflow": null,
            "overflow_x": null,
            "overflow_y": null,
            "padding": null,
            "right": null,
            "top": null,
            "visibility": null,
            "width": null
          }
        },
        "20f4480541394584b0213478b3bf9c6f": {
          "model_module": "@jupyter-widgets/controls",
          "model_module_version": "1.5.0",
          "model_name": "HTMLModel",
          "state": {
            "_dom_classes": [],
            "_model_module": "@jupyter-widgets/controls",
            "_model_module_version": "1.5.0",
            "_model_name": "HTMLModel",
            "_view_count": null,
            "_view_module": "@jupyter-widgets/controls",
            "_view_module_version": "1.5.0",
            "_view_name": "HTMLView",
            "description": "",
            "description_tooltip": null,
            "layout": "IPY_MODEL_d8eddb1e122d4bb0a19858933df1aa1d",
            "placeholder": "​",
            "style": "IPY_MODEL_abd4a04ee5934524bb83d4a2c0d05304",
            "value": " 226k/226k [00:00&lt;00:00, 2.10MB/s]"
          }
        },
        "2134b2fb443244d69f4c305a207c16f6": {
          "model_module": "@jupyter-widgets/controls",
          "model_module_version": "1.5.0",
          "model_name": "DescriptionStyleModel",
          "state": {
            "_model_module": "@jupyter-widgets/controls",
            "_model_module_version": "1.5.0",
            "_model_name": "DescriptionStyleModel",
            "_view_count": null,
            "_view_module": "@jupyter-widgets/base",
            "_view_module_version": "1.2.0",
            "_view_name": "StyleView",
            "description_width": ""
          }
        },
        "288daada5c05432290f6ea3aebabe231": {
          "model_module": "@jupyter-widgets/base",
          "model_module_version": "1.2.0",
          "model_name": "LayoutModel",
          "state": {
            "_model_module": "@jupyter-widgets/base",
            "_model_module_version": "1.2.0",
            "_model_name": "LayoutModel",
            "_view_count": null,
            "_view_module": "@jupyter-widgets/base",
            "_view_module_version": "1.2.0",
            "_view_name": "LayoutView",
            "align_content": null,
            "align_items": null,
            "align_self": null,
            "border": null,
            "bottom": null,
            "display": null,
            "flex": null,
            "flex_flow": null,
            "grid_area": null,
            "grid_auto_columns": null,
            "grid_auto_flow": null,
            "grid_auto_rows": null,
            "grid_column": null,
            "grid_gap": null,
            "grid_row": null,
            "grid_template_areas": null,
            "grid_template_columns": null,
            "grid_template_rows": null,
            "height": null,
            "justify_content": null,
            "justify_items": null,
            "left": null,
            "margin": null,
            "max_height": null,
            "max_width": null,
            "min_height": null,
            "min_width": null,
            "object_fit": null,
            "object_position": null,
            "order": null,
            "overflow": null,
            "overflow_x": null,
            "overflow_y": null,
            "padding": null,
            "right": null,
            "top": null,
            "visibility": null,
            "width": null
          }
        },
        "2cf451cba649467d8aaad6b3910e4d6a": {
          "model_module": "@jupyter-widgets/controls",
          "model_module_version": "1.5.0",
          "model_name": "HBoxModel",
          "state": {
            "_dom_classes": [],
            "_model_module": "@jupyter-widgets/controls",
            "_model_module_version": "1.5.0",
            "_model_name": "HBoxModel",
            "_view_count": null,
            "_view_module": "@jupyter-widgets/controls",
            "_view_module_version": "1.5.0",
            "_view_name": "HBoxView",
            "box_style": "",
            "children": [
              "IPY_MODEL_373eafb0c5ac40d1b289e88183b73aba",
              "IPY_MODEL_ab0bfc17702b498b9d2c3fd757838c2a",
              "IPY_MODEL_0937de6be9c049409744ffe9228d9334"
            ],
            "layout": "IPY_MODEL_c33d379990a145f9ade48f29b703e95b"
          }
        },
        "2f589b9076f0490fad03278dcd483106": {
          "model_module": "@jupyter-widgets/controls",
          "model_module_version": "1.5.0",
          "model_name": "HBoxModel",
          "state": {
            "_dom_classes": [],
            "_model_module": "@jupyter-widgets/controls",
            "_model_module_version": "1.5.0",
            "_model_name": "HBoxModel",
            "_view_count": null,
            "_view_module": "@jupyter-widgets/controls",
            "_view_module_version": "1.5.0",
            "_view_name": "HBoxView",
            "box_style": "",
            "children": [
              "IPY_MODEL_ed870f67f303405f96369c047f482dee",
              "IPY_MODEL_d11f523b55fc452f8524550b883a65e8",
              "IPY_MODEL_5e3d30ad7656454b9ecf1f388bbaf29e"
            ],
            "layout": "IPY_MODEL_0d983011c5304f39a0acdac3ef411a29"
          }
        },
        "365fe78ec5f84301ac1b91a4871787ac": {
          "model_module": "@jupyter-widgets/controls",
          "model_module_version": "1.5.0",
          "model_name": "HTMLModel",
          "state": {
            "_dom_classes": [],
            "_model_module": "@jupyter-widgets/controls",
            "_model_module_version": "1.5.0",
            "_model_name": "HTMLModel",
            "_view_count": null,
            "_view_module": "@jupyter-widgets/controls",
            "_view_module_version": "1.5.0",
            "_view_name": "HTMLView",
            "description": "",
            "description_tooltip": null,
            "layout": "IPY_MODEL_b710187445254666bea1504d4f665f20",
            "placeholder": "​",
            "style": "IPY_MODEL_ee438c4852cd40ceba3c2d88cecf6a10",
            "value": " 418M/418M [00:13&lt;00:00, 41.1MB/s]"
          }
        },
        "373eafb0c5ac40d1b289e88183b73aba": {
          "model_module": "@jupyter-widgets/controls",
          "model_module_version": "1.5.0",
          "model_name": "HTMLModel",
          "state": {
            "_dom_classes": [],
            "_model_module": "@jupyter-widgets/controls",
            "_model_module_version": "1.5.0",
            "_model_name": "HTMLModel",
            "_view_count": null,
            "_view_module": "@jupyter-widgets/controls",
            "_view_module_version": "1.5.0",
            "_view_name": "HTMLView",
            "description": "",
            "description_tooltip": null,
            "layout": "IPY_MODEL_f5d17dd25ad54754b974fb57938d56d3",
            "placeholder": "​",
            "style": "IPY_MODEL_90194eff6bbc4179b6eefb3cfd60375d",
            "value": "Downloading: 100%"
          }
        },
        "421aaf4eb1a64a789a6810bf70698c6c": {
          "model_module": "@jupyter-widgets/controls",
          "model_module_version": "1.5.0",
          "model_name": "FloatProgressModel",
          "state": {
            "_dom_classes": [],
            "_model_module": "@jupyter-widgets/controls",
            "_model_module_version": "1.5.0",
            "_model_name": "FloatProgressModel",
            "_view_count": null,
            "_view_module": "@jupyter-widgets/controls",
            "_view_module_version": "1.5.0",
            "_view_name": "ProgressView",
            "bar_style": "success",
            "description": "",
            "description_tooltip": null,
            "layout": "IPY_MODEL_1f5da32294a14f98a477c0f9f4070323",
            "max": 670,
            "min": 0,
            "orientation": "horizontal",
            "style": "IPY_MODEL_81fc2a79ded2441b8861ff6c50c55b6a",
            "value": 670
          }
        },
        "42caedd29d5d4d0dae0d304cf494c9e0": {
          "model_module": "@jupyter-widgets/controls",
          "model_module_version": "1.5.0",
          "model_name": "DescriptionStyleModel",
          "state": {
            "_model_module": "@jupyter-widgets/controls",
            "_model_module_version": "1.5.0",
            "_model_name": "DescriptionStyleModel",
            "_view_count": null,
            "_view_module": "@jupyter-widgets/base",
            "_view_module_version": "1.2.0",
            "_view_name": "StyleView",
            "description_width": ""
          }
        },
        "4b59e3aabc094900a9de92a6bbdba2b7": {
          "model_module": "@jupyter-widgets/controls",
          "model_module_version": "1.5.0",
          "model_name": "ProgressStyleModel",
          "state": {
            "_model_module": "@jupyter-widgets/controls",
            "_model_module_version": "1.5.0",
            "_model_name": "ProgressStyleModel",
            "_view_count": null,
            "_view_module": "@jupyter-widgets/base",
            "_view_module_version": "1.2.0",
            "_view_name": "StyleView",
            "bar_color": null,
            "description_width": ""
          }
        },
        "4f04f38adeee410585f3a4a433360b72": {
          "model_module": "@jupyter-widgets/base",
          "model_module_version": "1.2.0",
          "model_name": "LayoutModel",
          "state": {
            "_model_module": "@jupyter-widgets/base",
            "_model_module_version": "1.2.0",
            "_model_name": "LayoutModel",
            "_view_count": null,
            "_view_module": "@jupyter-widgets/base",
            "_view_module_version": "1.2.0",
            "_view_name": "LayoutView",
            "align_content": null,
            "align_items": null,
            "align_self": null,
            "border": null,
            "bottom": null,
            "display": null,
            "flex": null,
            "flex_flow": null,
            "grid_area": null,
            "grid_auto_columns": null,
            "grid_auto_flow": null,
            "grid_auto_rows": null,
            "grid_column": null,
            "grid_gap": null,
            "grid_row": null,
            "grid_template_areas": null,
            "grid_template_columns": null,
            "grid_template_rows": null,
            "height": null,
            "justify_content": null,
            "justify_items": null,
            "left": null,
            "margin": null,
            "max_height": null,
            "max_width": null,
            "min_height": null,
            "min_width": null,
            "object_fit": null,
            "object_position": null,
            "order": null,
            "overflow": null,
            "overflow_x": null,
            "overflow_y": null,
            "padding": null,
            "right": null,
            "top": null,
            "visibility": null,
            "width": null
          }
        },
        "53ebd4e2d0ec4bf9b2a049d31ffdb931": {
          "model_module": "@jupyter-widgets/controls",
          "model_module_version": "1.5.0",
          "model_name": "ProgressStyleModel",
          "state": {
            "_model_module": "@jupyter-widgets/controls",
            "_model_module_version": "1.5.0",
            "_model_name": "ProgressStyleModel",
            "_view_count": null,
            "_view_module": "@jupyter-widgets/base",
            "_view_module_version": "1.2.0",
            "_view_name": "StyleView",
            "bar_color": null,
            "description_width": ""
          }
        },
        "57ef5b256b03467d9424e0ed2a7d443c": {
          "model_module": "@jupyter-widgets/controls",
          "model_module_version": "1.5.0",
          "model_name": "HTMLModel",
          "state": {
            "_dom_classes": [],
            "_model_module": "@jupyter-widgets/controls",
            "_model_module_version": "1.5.0",
            "_model_name": "HTMLModel",
            "_view_count": null,
            "_view_module": "@jupyter-widgets/controls",
            "_view_module_version": "1.5.0",
            "_view_name": "HTMLView",
            "description": "",
            "description_tooltip": null,
            "layout": "IPY_MODEL_f4ebba55a40d45e0b825b6ec5b18d7aa",
            "placeholder": "​",
            "style": "IPY_MODEL_ae42e8ad720b4f98ad94c11f6b8a67bd",
            "value": "Downloading: 100%"
          }
        },
        "57fa1d1ae68b48238227a604b3ff7aef": {
          "model_module": "@jupyter-widgets/base",
          "model_module_version": "1.2.0",
          "model_name": "LayoutModel",
          "state": {
            "_model_module": "@jupyter-widgets/base",
            "_model_module_version": "1.2.0",
            "_model_name": "LayoutModel",
            "_view_count": null,
            "_view_module": "@jupyter-widgets/base",
            "_view_module_version": "1.2.0",
            "_view_name": "LayoutView",
            "align_content": null,
            "align_items": null,
            "align_self": null,
            "border": null,
            "bottom": null,
            "display": null,
            "flex": null,
            "flex_flow": null,
            "grid_area": null,
            "grid_auto_columns": null,
            "grid_auto_flow": null,
            "grid_auto_rows": null,
            "grid_column": null,
            "grid_gap": null,
            "grid_row": null,
            "grid_template_areas": null,
            "grid_template_columns": null,
            "grid_template_rows": null,
            "height": null,
            "justify_content": null,
            "justify_items": null,
            "left": null,
            "margin": null,
            "max_height": null,
            "max_width": null,
            "min_height": null,
            "min_width": null,
            "object_fit": null,
            "object_position": null,
            "order": null,
            "overflow": null,
            "overflow_x": null,
            "overflow_y": null,
            "padding": null,
            "right": null,
            "top": null,
            "visibility": null,
            "width": null
          }
        },
        "5b9b44bc91754c6db4062c5a04f89804": {
          "model_module": "@jupyter-widgets/controls",
          "model_module_version": "1.5.0",
          "model_name": "DescriptionStyleModel",
          "state": {
            "_model_module": "@jupyter-widgets/controls",
            "_model_module_version": "1.5.0",
            "_model_name": "DescriptionStyleModel",
            "_view_count": null,
            "_view_module": "@jupyter-widgets/base",
            "_view_module_version": "1.2.0",
            "_view_name": "StyleView",
            "description_width": ""
          }
        },
        "5d4dc186498c420bb1c93f3afcf4bdba": {
          "model_module": "@jupyter-widgets/controls",
          "model_module_version": "1.5.0",
          "model_name": "ProgressStyleModel",
          "state": {
            "_model_module": "@jupyter-widgets/controls",
            "_model_module_version": "1.5.0",
            "_model_name": "ProgressStyleModel",
            "_view_count": null,
            "_view_module": "@jupyter-widgets/base",
            "_view_module_version": "1.2.0",
            "_view_name": "StyleView",
            "bar_color": null,
            "description_width": ""
          }
        },
        "5dd78cd384014978b6647d1f34e84c66": {
          "model_module": "@jupyter-widgets/controls",
          "model_module_version": "1.5.0",
          "model_name": "HTMLModel",
          "state": {
            "_dom_classes": [],
            "_model_module": "@jupyter-widgets/controls",
            "_model_module_version": "1.5.0",
            "_model_name": "HTMLModel",
            "_view_count": null,
            "_view_module": "@jupyter-widgets/controls",
            "_view_module_version": "1.5.0",
            "_view_name": "HTMLView",
            "description": "",
            "description_tooltip": null,
            "layout": "IPY_MODEL_8c399e867c8847e6adb93c97365059ec",
            "placeholder": "​",
            "style": "IPY_MODEL_42caedd29d5d4d0dae0d304cf494c9e0",
            "value": " 670/670 [00:00&lt;00:00, 30.5kB/s]"
          }
        },
        "5e3d30ad7656454b9ecf1f388bbaf29e": {
          "model_module": "@jupyter-widgets/controls",
          "model_module_version": "1.5.0",
          "model_name": "HTMLModel",
          "state": {
            "_dom_classes": [],
            "_model_module": "@jupyter-widgets/controls",
            "_model_module_version": "1.5.0",
            "_model_name": "HTMLModel",
            "_view_count": null,
            "_view_module": "@jupyter-widgets/controls",
            "_view_module_version": "1.5.0",
            "_view_name": "HTMLView",
            "description": "",
            "description_tooltip": null,
            "layout": "IPY_MODEL_f3fa6454df2d430ba9f9e468b2788425",
            "placeholder": "​",
            "style": "IPY_MODEL_650a578c23ab4a9ab3d1c1850426dc78",
            "value": " 466/466 [00:00&lt;00:00, 9.35kB/s]"
          }
        },
        "650a578c23ab4a9ab3d1c1850426dc78": {
          "model_module": "@jupyter-widgets/controls",
          "model_module_version": "1.5.0",
          "model_name": "DescriptionStyleModel",
          "state": {
            "_model_module": "@jupyter-widgets/controls",
            "_model_module_version": "1.5.0",
            "_model_name": "DescriptionStyleModel",
            "_view_count": null,
            "_view_module": "@jupyter-widgets/base",
            "_view_module_version": "1.2.0",
            "_view_name": "StyleView",
            "description_width": ""
          }
        },
        "68a48eab8ca849ed9c797c4dec52d7b7": {
          "model_module": "@jupyter-widgets/base",
          "model_module_version": "1.2.0",
          "model_name": "LayoutModel",
          "state": {
            "_model_module": "@jupyter-widgets/base",
            "_model_module_version": "1.2.0",
            "_model_name": "LayoutModel",
            "_view_count": null,
            "_view_module": "@jupyter-widgets/base",
            "_view_module_version": "1.2.0",
            "_view_name": "LayoutView",
            "align_content": null,
            "align_items": null,
            "align_self": null,
            "border": null,
            "bottom": null,
            "display": null,
            "flex": null,
            "flex_flow": null,
            "grid_area": null,
            "grid_auto_columns": null,
            "grid_auto_flow": null,
            "grid_auto_rows": null,
            "grid_column": null,
            "grid_gap": null,
            "grid_row": null,
            "grid_template_areas": null,
            "grid_template_columns": null,
            "grid_template_rows": null,
            "height": null,
            "justify_content": null,
            "justify_items": null,
            "left": null,
            "margin": null,
            "max_height": null,
            "max_width": null,
            "min_height": null,
            "min_width": null,
            "object_fit": null,
            "object_position": null,
            "order": null,
            "overflow": null,
            "overflow_x": null,
            "overflow_y": null,
            "padding": null,
            "right": null,
            "top": null,
            "visibility": null,
            "width": null
          }
        },
        "6a437eb94a5d40789b03a914af930c93": {
          "model_module": "@jupyter-widgets/controls",
          "model_module_version": "1.5.0",
          "model_name": "HBoxModel",
          "state": {
            "_dom_classes": [],
            "_model_module": "@jupyter-widgets/controls",
            "_model_module_version": "1.5.0",
            "_model_name": "HBoxModel",
            "_view_count": null,
            "_view_module": "@jupyter-widgets/controls",
            "_view_module_version": "1.5.0",
            "_view_name": "HBoxView",
            "box_style": "",
            "children": [
              "IPY_MODEL_d29435957fc8487c95c6d51bdf9fb0ab",
              "IPY_MODEL_78018dc7112f49b5b16dd86dd0af9813",
              "IPY_MODEL_365fe78ec5f84301ac1b91a4871787ac"
            ],
            "layout": "IPY_MODEL_68a48eab8ca849ed9c797c4dec52d7b7"
          }
        },
        "6a9e4835ed3e4dcdb83571e704863493": {
          "model_module": "@jupyter-widgets/base",
          "model_module_version": "1.2.0",
          "model_name": "LayoutModel",
          "state": {
            "_model_module": "@jupyter-widgets/base",
            "_model_module_version": "1.2.0",
            "_model_name": "LayoutModel",
            "_view_count": null,
            "_view_module": "@jupyter-widgets/base",
            "_view_module_version": "1.2.0",
            "_view_name": "LayoutView",
            "align_content": null,
            "align_items": null,
            "align_self": null,
            "border": null,
            "bottom": null,
            "display": null,
            "flex": null,
            "flex_flow": null,
            "grid_area": null,
            "grid_auto_columns": null,
            "grid_auto_flow": null,
            "grid_auto_rows": null,
            "grid_column": null,
            "grid_gap": null,
            "grid_row": null,
            "grid_template_areas": null,
            "grid_template_columns": null,
            "grid_template_rows": null,
            "height": null,
            "justify_content": null,
            "justify_items": null,
            "left": null,
            "margin": null,
            "max_height": null,
            "max_width": null,
            "min_height": null,
            "min_width": null,
            "object_fit": null,
            "object_position": null,
            "order": null,
            "overflow": null,
            "overflow_x": null,
            "overflow_y": null,
            "padding": null,
            "right": null,
            "top": null,
            "visibility": null,
            "width": null
          }
        },
        "767edbdc1fd2466e9625b275f7fc40db": {
          "model_module": "@jupyter-widgets/controls",
          "model_module_version": "1.5.0",
          "model_name": "HBoxModel",
          "state": {
            "_dom_classes": [],
            "_model_module": "@jupyter-widgets/controls",
            "_model_module_version": "1.5.0",
            "_model_name": "HBoxModel",
            "_view_count": null,
            "_view_module": "@jupyter-widgets/controls",
            "_view_module_version": "1.5.0",
            "_view_name": "HBoxView",
            "box_style": "",
            "children": [
              "IPY_MODEL_e8ad4abcbf484d77ab4459bc5119c98b",
              "IPY_MODEL_bf5b0fd2fe3d432eae4aa2e2f83fad06",
              "IPY_MODEL_20f4480541394584b0213478b3bf9c6f"
            ],
            "layout": "IPY_MODEL_79fe4c817e8e40ef8d4605abb1d05c6c"
          }
        },
        "78018dc7112f49b5b16dd86dd0af9813": {
          "model_module": "@jupyter-widgets/controls",
          "model_module_version": "1.5.0",
          "model_name": "FloatProgressModel",
          "state": {
            "_dom_classes": [],
            "_model_module": "@jupyter-widgets/controls",
            "_model_module_version": "1.5.0",
            "_model_name": "FloatProgressModel",
            "_view_count": null,
            "_view_module": "@jupyter-widgets/controls",
            "_view_module_version": "1.5.0",
            "_view_name": "ProgressView",
            "bar_style": "success",
            "description": "",
            "description_tooltip": null,
            "layout": "IPY_MODEL_7a845faf80ec4853b8ddcd3d177382cf",
            "max": 438141995,
            "min": 0,
            "orientation": "horizontal",
            "style": "IPY_MODEL_0aa5060908f945069392d61c375e0e94",
            "value": 438141995
          }
        },
        "79fe4c817e8e40ef8d4605abb1d05c6c": {
          "model_module": "@jupyter-widgets/base",
          "model_module_version": "1.2.0",
          "model_name": "LayoutModel",
          "state": {
            "_model_module": "@jupyter-widgets/base",
            "_model_module_version": "1.2.0",
            "_model_name": "LayoutModel",
            "_view_count": null,
            "_view_module": "@jupyter-widgets/base",
            "_view_module_version": "1.2.0",
            "_view_name": "LayoutView",
            "align_content": null,
            "align_items": null,
            "align_self": null,
            "border": null,
            "bottom": null,
            "display": null,
            "flex": null,
            "flex_flow": null,
            "grid_area": null,
            "grid_auto_columns": null,
            "grid_auto_flow": null,
            "grid_auto_rows": null,
            "grid_column": null,
            "grid_gap": null,
            "grid_row": null,
            "grid_template_areas": null,
            "grid_template_columns": null,
            "grid_template_rows": null,
            "height": null,
            "justify_content": null,
            "justify_items": null,
            "left": null,
            "margin": null,
            "max_height": null,
            "max_width": null,
            "min_height": null,
            "min_width": null,
            "object_fit": null,
            "object_position": null,
            "order": null,
            "overflow": null,
            "overflow_x": null,
            "overflow_y": null,
            "padding": null,
            "right": null,
            "top": null,
            "visibility": null,
            "width": null
          }
        },
        "7a845faf80ec4853b8ddcd3d177382cf": {
          "model_module": "@jupyter-widgets/base",
          "model_module_version": "1.2.0",
          "model_name": "LayoutModel",
          "state": {
            "_model_module": "@jupyter-widgets/base",
            "_model_module_version": "1.2.0",
            "_model_name": "LayoutModel",
            "_view_count": null,
            "_view_module": "@jupyter-widgets/base",
            "_view_module_version": "1.2.0",
            "_view_name": "LayoutView",
            "align_content": null,
            "align_items": null,
            "align_self": null,
            "border": null,
            "bottom": null,
            "display": null,
            "flex": null,
            "flex_flow": null,
            "grid_area": null,
            "grid_auto_columns": null,
            "grid_auto_flow": null,
            "grid_auto_rows": null,
            "grid_column": null,
            "grid_gap": null,
            "grid_row": null,
            "grid_template_areas": null,
            "grid_template_columns": null,
            "grid_template_rows": null,
            "height": null,
            "justify_content": null,
            "justify_items": null,
            "left": null,
            "margin": null,
            "max_height": null,
            "max_width": null,
            "min_height": null,
            "min_width": null,
            "object_fit": null,
            "object_position": null,
            "order": null,
            "overflow": null,
            "overflow_x": null,
            "overflow_y": null,
            "padding": null,
            "right": null,
            "top": null,
            "visibility": null,
            "width": null
          }
        },
        "8067343c0aa64332afb453c3c12bb117": {
          "model_module": "@jupyter-widgets/base",
          "model_module_version": "1.2.0",
          "model_name": "LayoutModel",
          "state": {
            "_model_module": "@jupyter-widgets/base",
            "_model_module_version": "1.2.0",
            "_model_name": "LayoutModel",
            "_view_count": null,
            "_view_module": "@jupyter-widgets/base",
            "_view_module_version": "1.2.0",
            "_view_name": "LayoutView",
            "align_content": null,
            "align_items": null,
            "align_self": null,
            "border": null,
            "bottom": null,
            "display": null,
            "flex": null,
            "flex_flow": null,
            "grid_area": null,
            "grid_auto_columns": null,
            "grid_auto_flow": null,
            "grid_auto_rows": null,
            "grid_column": null,
            "grid_gap": null,
            "grid_row": null,
            "grid_template_areas": null,
            "grid_template_columns": null,
            "grid_template_rows": null,
            "height": null,
            "justify_content": null,
            "justify_items": null,
            "left": null,
            "margin": null,
            "max_height": null,
            "max_width": null,
            "min_height": null,
            "min_width": null,
            "object_fit": null,
            "object_position": null,
            "order": null,
            "overflow": null,
            "overflow_x": null,
            "overflow_y": null,
            "padding": null,
            "right": null,
            "top": null,
            "visibility": null,
            "width": null
          }
        },
        "80b3241027e944dfbd2ace9ebf8c70b2": {
          "model_module": "@jupyter-widgets/controls",
          "model_module_version": "1.5.0",
          "model_name": "HTMLModel",
          "state": {
            "_dom_classes": [],
            "_model_module": "@jupyter-widgets/controls",
            "_model_module_version": "1.5.0",
            "_model_name": "HTMLModel",
            "_view_count": null,
            "_view_module": "@jupyter-widgets/controls",
            "_view_module_version": "1.5.0",
            "_view_name": "HTMLView",
            "description": "",
            "description_tooltip": null,
            "layout": "IPY_MODEL_02fd4de6cae44ef5a780955a1a08cce0",
            "placeholder": "​",
            "style": "IPY_MODEL_2134b2fb443244d69f4c305a207c16f6",
            "value": " 455k/455k [00:00&lt;00:00, 2.11MB/s]"
          }
        },
        "81fc2a79ded2441b8861ff6c50c55b6a": {
          "model_module": "@jupyter-widgets/controls",
          "model_module_version": "1.5.0",
          "model_name": "ProgressStyleModel",
          "state": {
            "_model_module": "@jupyter-widgets/controls",
            "_model_module_version": "1.5.0",
            "_model_name": "ProgressStyleModel",
            "_view_count": null,
            "_view_module": "@jupyter-widgets/base",
            "_view_module_version": "1.2.0",
            "_view_name": "StyleView",
            "bar_color": null,
            "description_width": ""
          }
        },
        "82bafa0b96794da280e3bae683cfc3bd": {
          "model_module": "@jupyter-widgets/base",
          "model_module_version": "1.2.0",
          "model_name": "LayoutModel",
          "state": {
            "_model_module": "@jupyter-widgets/base",
            "_model_module_version": "1.2.0",
            "_model_name": "LayoutModel",
            "_view_count": null,
            "_view_module": "@jupyter-widgets/base",
            "_view_module_version": "1.2.0",
            "_view_name": "LayoutView",
            "align_content": null,
            "align_items": null,
            "align_self": null,
            "border": null,
            "bottom": null,
            "display": null,
            "flex": null,
            "flex_flow": null,
            "grid_area": null,
            "grid_auto_columns": null,
            "grid_auto_flow": null,
            "grid_auto_rows": null,
            "grid_column": null,
            "grid_gap": null,
            "grid_row": null,
            "grid_template_areas": null,
            "grid_template_columns": null,
            "grid_template_rows": null,
            "height": null,
            "justify_content": null,
            "justify_items": null,
            "left": null,
            "margin": null,
            "max_height": null,
            "max_width": null,
            "min_height": null,
            "min_width": null,
            "object_fit": null,
            "object_position": null,
            "order": null,
            "overflow": null,
            "overflow_x": null,
            "overflow_y": null,
            "padding": null,
            "right": null,
            "top": null,
            "visibility": null,
            "width": null
          }
        },
        "8c399e867c8847e6adb93c97365059ec": {
          "model_module": "@jupyter-widgets/base",
          "model_module_version": "1.2.0",
          "model_name": "LayoutModel",
          "state": {
            "_model_module": "@jupyter-widgets/base",
            "_model_module_version": "1.2.0",
            "_model_name": "LayoutModel",
            "_view_count": null,
            "_view_module": "@jupyter-widgets/base",
            "_view_module_version": "1.2.0",
            "_view_name": "LayoutView",
            "align_content": null,
            "align_items": null,
            "align_self": null,
            "border": null,
            "bottom": null,
            "display": null,
            "flex": null,
            "flex_flow": null,
            "grid_area": null,
            "grid_auto_columns": null,
            "grid_auto_flow": null,
            "grid_auto_rows": null,
            "grid_column": null,
            "grid_gap": null,
            "grid_row": null,
            "grid_template_areas": null,
            "grid_template_columns": null,
            "grid_template_rows": null,
            "height": null,
            "justify_content": null,
            "justify_items": null,
            "left": null,
            "margin": null,
            "max_height": null,
            "max_width": null,
            "min_height": null,
            "min_width": null,
            "object_fit": null,
            "object_position": null,
            "order": null,
            "overflow": null,
            "overflow_x": null,
            "overflow_y": null,
            "padding": null,
            "right": null,
            "top": null,
            "visibility": null,
            "width": null
          }
        },
        "8fbf2d2e19ad4663bde470576757161d": {
          "model_module": "@jupyter-widgets/controls",
          "model_module_version": "1.5.0",
          "model_name": "DescriptionStyleModel",
          "state": {
            "_model_module": "@jupyter-widgets/controls",
            "_model_module_version": "1.5.0",
            "_model_name": "DescriptionStyleModel",
            "_view_count": null,
            "_view_module": "@jupyter-widgets/base",
            "_view_module_version": "1.2.0",
            "_view_name": "StyleView",
            "description_width": ""
          }
        },
        "8fd2fb7406c042bc9d5992dabfe3fbfe": {
          "model_module": "@jupyter-widgets/controls",
          "model_module_version": "1.5.0",
          "model_name": "HBoxModel",
          "state": {
            "_dom_classes": [],
            "_model_module": "@jupyter-widgets/controls",
            "_model_module_version": "1.5.0",
            "_model_name": "HBoxModel",
            "_view_count": null,
            "_view_module": "@jupyter-widgets/controls",
            "_view_module_version": "1.5.0",
            "_view_name": "HBoxView",
            "box_style": "",
            "children": [
              "IPY_MODEL_57ef5b256b03467d9424e0ed2a7d443c",
              "IPY_MODEL_08872901c85b44abb3b7cd108cf2a5a2",
              "IPY_MODEL_80b3241027e944dfbd2ace9ebf8c70b2"
            ],
            "layout": "IPY_MODEL_6a9e4835ed3e4dcdb83571e704863493"
          }
        },
        "90194eff6bbc4179b6eefb3cfd60375d": {
          "model_module": "@jupyter-widgets/controls",
          "model_module_version": "1.5.0",
          "model_name": "DescriptionStyleModel",
          "state": {
            "_model_module": "@jupyter-widgets/controls",
            "_model_module_version": "1.5.0",
            "_model_name": "DescriptionStyleModel",
            "_view_count": null,
            "_view_module": "@jupyter-widgets/base",
            "_view_module_version": "1.2.0",
            "_view_name": "StyleView",
            "description_width": ""
          }
        },
        "9a7233d09a3446a1ae4d4bdf4f182ab6": {
          "model_module": "@jupyter-widgets/controls",
          "model_module_version": "1.5.0",
          "model_name": "DescriptionStyleModel",
          "state": {
            "_model_module": "@jupyter-widgets/controls",
            "_model_module_version": "1.5.0",
            "_model_name": "DescriptionStyleModel",
            "_view_count": null,
            "_view_module": "@jupyter-widgets/base",
            "_view_module_version": "1.2.0",
            "_view_name": "StyleView",
            "description_width": ""
          }
        },
        "ab0bfc17702b498b9d2c3fd757838c2a": {
          "model_module": "@jupyter-widgets/controls",
          "model_module_version": "1.5.0",
          "model_name": "FloatProgressModel",
          "state": {
            "_dom_classes": [],
            "_model_module": "@jupyter-widgets/controls",
            "_model_module_version": "1.5.0",
            "_model_name": "FloatProgressModel",
            "_view_count": null,
            "_view_module": "@jupyter-widgets/controls",
            "_view_module_version": "1.5.0",
            "_view_name": "ProgressView",
            "bar_style": "success",
            "description": "",
            "description_tooltip": null,
            "layout": "IPY_MODEL_d6e15755ff664611b201d7303f4cb683",
            "max": 112,
            "min": 0,
            "orientation": "horizontal",
            "style": "IPY_MODEL_5d4dc186498c420bb1c93f3afcf4bdba",
            "value": 112
          }
        },
        "abd4a04ee5934524bb83d4a2c0d05304": {
          "model_module": "@jupyter-widgets/controls",
          "model_module_version": "1.5.0",
          "model_name": "DescriptionStyleModel",
          "state": {
            "_model_module": "@jupyter-widgets/controls",
            "_model_module_version": "1.5.0",
            "_model_name": "DescriptionStyleModel",
            "_view_count": null,
            "_view_module": "@jupyter-widgets/base",
            "_view_module_version": "1.2.0",
            "_view_name": "StyleView",
            "description_width": ""
          }
        },
        "ae42e8ad720b4f98ad94c11f6b8a67bd": {
          "model_module": "@jupyter-widgets/controls",
          "model_module_version": "1.5.0",
          "model_name": "DescriptionStyleModel",
          "state": {
            "_model_module": "@jupyter-widgets/controls",
            "_model_module_version": "1.5.0",
            "_model_name": "DescriptionStyleModel",
            "_view_count": null,
            "_view_module": "@jupyter-widgets/base",
            "_view_module_version": "1.2.0",
            "_view_name": "StyleView",
            "description_width": ""
          }
        },
        "aec328e96a76462fbebea23336c08913": {
          "model_module": "@jupyter-widgets/controls",
          "model_module_version": "1.5.0",
          "model_name": "HBoxModel",
          "state": {
            "_dom_classes": [],
            "_model_module": "@jupyter-widgets/controls",
            "_model_module_version": "1.5.0",
            "_model_name": "HBoxModel",
            "_view_count": null,
            "_view_module": "@jupyter-widgets/controls",
            "_view_module_version": "1.5.0",
            "_view_name": "HBoxView",
            "box_style": "",
            "children": [
              "IPY_MODEL_07f0266425234cd195fb5ac3ff674c39",
              "IPY_MODEL_421aaf4eb1a64a789a6810bf70698c6c",
              "IPY_MODEL_5dd78cd384014978b6647d1f34e84c66"
            ],
            "layout": "IPY_MODEL_1914ba84b89643e59e4dbeaccf28c1a9"
          }
        },
        "b710187445254666bea1504d4f665f20": {
          "model_module": "@jupyter-widgets/base",
          "model_module_version": "1.2.0",
          "model_name": "LayoutModel",
          "state": {
            "_model_module": "@jupyter-widgets/base",
            "_model_module_version": "1.2.0",
            "_model_name": "LayoutModel",
            "_view_count": null,
            "_view_module": "@jupyter-widgets/base",
            "_view_module_version": "1.2.0",
            "_view_name": "LayoutView",
            "align_content": null,
            "align_items": null,
            "align_self": null,
            "border": null,
            "bottom": null,
            "display": null,
            "flex": null,
            "flex_flow": null,
            "grid_area": null,
            "grid_auto_columns": null,
            "grid_auto_flow": null,
            "grid_auto_rows": null,
            "grid_column": null,
            "grid_gap": null,
            "grid_row": null,
            "grid_template_areas": null,
            "grid_template_columns": null,
            "grid_template_rows": null,
            "height": null,
            "justify_content": null,
            "justify_items": null,
            "left": null,
            "margin": null,
            "max_height": null,
            "max_width": null,
            "min_height": null,
            "min_width": null,
            "object_fit": null,
            "object_position": null,
            "order": null,
            "overflow": null,
            "overflow_x": null,
            "overflow_y": null,
            "padding": null,
            "right": null,
            "top": null,
            "visibility": null,
            "width": null
          }
        },
        "bf5b0fd2fe3d432eae4aa2e2f83fad06": {
          "model_module": "@jupyter-widgets/controls",
          "model_module_version": "1.5.0",
          "model_name": "FloatProgressModel",
          "state": {
            "_dom_classes": [],
            "_model_module": "@jupyter-widgets/controls",
            "_model_module_version": "1.5.0",
            "_model_name": "FloatProgressModel",
            "_view_count": null,
            "_view_module": "@jupyter-widgets/controls",
            "_view_module_version": "1.5.0",
            "_view_name": "ProgressView",
            "bar_style": "success",
            "description": "",
            "description_tooltip": null,
            "layout": "IPY_MODEL_ff73dba8bb414f07a58b1fc42ef763c4",
            "max": 231508,
            "min": 0,
            "orientation": "horizontal",
            "style": "IPY_MODEL_4b59e3aabc094900a9de92a6bbdba2b7",
            "value": 231508
          }
        },
        "c33d379990a145f9ade48f29b703e95b": {
          "model_module": "@jupyter-widgets/base",
          "model_module_version": "1.2.0",
          "model_name": "LayoutModel",
          "state": {
            "_model_module": "@jupyter-widgets/base",
            "_model_module_version": "1.2.0",
            "_model_name": "LayoutModel",
            "_view_count": null,
            "_view_module": "@jupyter-widgets/base",
            "_view_module_version": "1.2.0",
            "_view_name": "LayoutView",
            "align_content": null,
            "align_items": null,
            "align_self": null,
            "border": null,
            "bottom": null,
            "display": null,
            "flex": null,
            "flex_flow": null,
            "grid_area": null,
            "grid_auto_columns": null,
            "grid_auto_flow": null,
            "grid_auto_rows": null,
            "grid_column": null,
            "grid_gap": null,
            "grid_row": null,
            "grid_template_areas": null,
            "grid_template_columns": null,
            "grid_template_rows": null,
            "height": null,
            "justify_content": null,
            "justify_items": null,
            "left": null,
            "margin": null,
            "max_height": null,
            "max_width": null,
            "min_height": null,
            "min_width": null,
            "object_fit": null,
            "object_position": null,
            "order": null,
            "overflow": null,
            "overflow_x": null,
            "overflow_y": null,
            "padding": null,
            "right": null,
            "top": null,
            "visibility": null,
            "width": null
          }
        },
        "d10d0f0ed569486d9c4aff772b6c903f": {
          "model_module": "@jupyter-widgets/base",
          "model_module_version": "1.2.0",
          "model_name": "LayoutModel",
          "state": {
            "_model_module": "@jupyter-widgets/base",
            "_model_module_version": "1.2.0",
            "_model_name": "LayoutModel",
            "_view_count": null,
            "_view_module": "@jupyter-widgets/base",
            "_view_module_version": "1.2.0",
            "_view_name": "LayoutView",
            "align_content": null,
            "align_items": null,
            "align_self": null,
            "border": null,
            "bottom": null,
            "display": null,
            "flex": null,
            "flex_flow": null,
            "grid_area": null,
            "grid_auto_columns": null,
            "grid_auto_flow": null,
            "grid_auto_rows": null,
            "grid_column": null,
            "grid_gap": null,
            "grid_row": null,
            "grid_template_areas": null,
            "grid_template_columns": null,
            "grid_template_rows": null,
            "height": null,
            "justify_content": null,
            "justify_items": null,
            "left": null,
            "margin": null,
            "max_height": null,
            "max_width": null,
            "min_height": null,
            "min_width": null,
            "object_fit": null,
            "object_position": null,
            "order": null,
            "overflow": null,
            "overflow_x": null,
            "overflow_y": null,
            "padding": null,
            "right": null,
            "top": null,
            "visibility": null,
            "width": null
          }
        },
        "d11f523b55fc452f8524550b883a65e8": {
          "model_module": "@jupyter-widgets/controls",
          "model_module_version": "1.5.0",
          "model_name": "FloatProgressModel",
          "state": {
            "_dom_classes": [],
            "_model_module": "@jupyter-widgets/controls",
            "_model_module_version": "1.5.0",
            "_model_name": "FloatProgressModel",
            "_view_count": null,
            "_view_module": "@jupyter-widgets/controls",
            "_view_module_version": "1.5.0",
            "_view_name": "ProgressView",
            "bar_style": "success",
            "description": "",
            "description_tooltip": null,
            "layout": "IPY_MODEL_57fa1d1ae68b48238227a604b3ff7aef",
            "max": 466,
            "min": 0,
            "orientation": "horizontal",
            "style": "IPY_MODEL_53ebd4e2d0ec4bf9b2a049d31ffdb931",
            "value": 466
          }
        },
        "d29435957fc8487c95c6d51bdf9fb0ab": {
          "model_module": "@jupyter-widgets/controls",
          "model_module_version": "1.5.0",
          "model_name": "HTMLModel",
          "state": {
            "_dom_classes": [],
            "_model_module": "@jupyter-widgets/controls",
            "_model_module_version": "1.5.0",
            "_model_name": "HTMLModel",
            "_view_count": null,
            "_view_module": "@jupyter-widgets/controls",
            "_view_module_version": "1.5.0",
            "_view_name": "HTMLView",
            "description": "",
            "description_tooltip": null,
            "layout": "IPY_MODEL_f2949e809382416da3d68a1b424236da",
            "placeholder": "​",
            "style": "IPY_MODEL_9a7233d09a3446a1ae4d4bdf4f182ab6",
            "value": "Downloading: 100%"
          }
        },
        "d6e15755ff664611b201d7303f4cb683": {
          "model_module": "@jupyter-widgets/base",
          "model_module_version": "1.2.0",
          "model_name": "LayoutModel",
          "state": {
            "_model_module": "@jupyter-widgets/base",
            "_model_module_version": "1.2.0",
            "_model_name": "LayoutModel",
            "_view_count": null,
            "_view_module": "@jupyter-widgets/base",
            "_view_module_version": "1.2.0",
            "_view_name": "LayoutView",
            "align_content": null,
            "align_items": null,
            "align_self": null,
            "border": null,
            "bottom": null,
            "display": null,
            "flex": null,
            "flex_flow": null,
            "grid_area": null,
            "grid_auto_columns": null,
            "grid_auto_flow": null,
            "grid_auto_rows": null,
            "grid_column": null,
            "grid_gap": null,
            "grid_row": null,
            "grid_template_areas": null,
            "grid_template_columns": null,
            "grid_template_rows": null,
            "height": null,
            "justify_content": null,
            "justify_items": null,
            "left": null,
            "margin": null,
            "max_height": null,
            "max_width": null,
            "min_height": null,
            "min_width": null,
            "object_fit": null,
            "object_position": null,
            "order": null,
            "overflow": null,
            "overflow_x": null,
            "overflow_y": null,
            "padding": null,
            "right": null,
            "top": null,
            "visibility": null,
            "width": null
          }
        },
        "d8eddb1e122d4bb0a19858933df1aa1d": {
          "model_module": "@jupyter-widgets/base",
          "model_module_version": "1.2.0",
          "model_name": "LayoutModel",
          "state": {
            "_model_module": "@jupyter-widgets/base",
            "_model_module_version": "1.2.0",
            "_model_name": "LayoutModel",
            "_view_count": null,
            "_view_module": "@jupyter-widgets/base",
            "_view_module_version": "1.2.0",
            "_view_name": "LayoutView",
            "align_content": null,
            "align_items": null,
            "align_self": null,
            "border": null,
            "bottom": null,
            "display": null,
            "flex": null,
            "flex_flow": null,
            "grid_area": null,
            "grid_auto_columns": null,
            "grid_auto_flow": null,
            "grid_auto_rows": null,
            "grid_column": null,
            "grid_gap": null,
            "grid_row": null,
            "grid_template_areas": null,
            "grid_template_columns": null,
            "grid_template_rows": null,
            "height": null,
            "justify_content": null,
            "justify_items": null,
            "left": null,
            "margin": null,
            "max_height": null,
            "max_width": null,
            "min_height": null,
            "min_width": null,
            "object_fit": null,
            "object_position": null,
            "order": null,
            "overflow": null,
            "overflow_x": null,
            "overflow_y": null,
            "padding": null,
            "right": null,
            "top": null,
            "visibility": null,
            "width": null
          }
        },
        "e415c62c16594428beb370adec915d0f": {
          "model_module": "@jupyter-widgets/controls",
          "model_module_version": "1.5.0",
          "model_name": "DescriptionStyleModel",
          "state": {
            "_model_module": "@jupyter-widgets/controls",
            "_model_module_version": "1.5.0",
            "_model_name": "DescriptionStyleModel",
            "_view_count": null,
            "_view_module": "@jupyter-widgets/base",
            "_view_module_version": "1.2.0",
            "_view_name": "StyleView",
            "description_width": ""
          }
        },
        "e837f3e11f28452e8d2cb610bce7f68e": {
          "model_module": "@jupyter-widgets/controls",
          "model_module_version": "1.5.0",
          "model_name": "ProgressStyleModel",
          "state": {
            "_model_module": "@jupyter-widgets/controls",
            "_model_module_version": "1.5.0",
            "_model_name": "ProgressStyleModel",
            "_view_count": null,
            "_view_module": "@jupyter-widgets/base",
            "_view_module_version": "1.2.0",
            "_view_name": "StyleView",
            "bar_color": null,
            "description_width": ""
          }
        },
        "e8ad4abcbf484d77ab4459bc5119c98b": {
          "model_module": "@jupyter-widgets/controls",
          "model_module_version": "1.5.0",
          "model_name": "HTMLModel",
          "state": {
            "_dom_classes": [],
            "_model_module": "@jupyter-widgets/controls",
            "_model_module_version": "1.5.0",
            "_model_name": "HTMLModel",
            "_view_count": null,
            "_view_module": "@jupyter-widgets/controls",
            "_view_module_version": "1.5.0",
            "_view_name": "HTMLView",
            "description": "",
            "description_tooltip": null,
            "layout": "IPY_MODEL_4f04f38adeee410585f3a4a433360b72",
            "placeholder": "​",
            "style": "IPY_MODEL_5b9b44bc91754c6db4062c5a04f89804",
            "value": "Downloading: 100%"
          }
        },
        "ed870f67f303405f96369c047f482dee": {
          "model_module": "@jupyter-widgets/controls",
          "model_module_version": "1.5.0",
          "model_name": "HTMLModel",
          "state": {
            "_dom_classes": [],
            "_model_module": "@jupyter-widgets/controls",
            "_model_module_version": "1.5.0",
            "_model_name": "HTMLModel",
            "_view_count": null,
            "_view_module": "@jupyter-widgets/controls",
            "_view_module_version": "1.5.0",
            "_view_name": "HTMLView",
            "description": "",
            "description_tooltip": null,
            "layout": "IPY_MODEL_d10d0f0ed569486d9c4aff772b6c903f",
            "placeholder": "​",
            "style": "IPY_MODEL_e415c62c16594428beb370adec915d0f",
            "value": "Downloading: 100%"
          }
        },
        "ee438c4852cd40ceba3c2d88cecf6a10": {
          "model_module": "@jupyter-widgets/controls",
          "model_module_version": "1.5.0",
          "model_name": "DescriptionStyleModel",
          "state": {
            "_model_module": "@jupyter-widgets/controls",
            "_model_module_version": "1.5.0",
            "_model_name": "DescriptionStyleModel",
            "_view_count": null,
            "_view_module": "@jupyter-widgets/base",
            "_view_module_version": "1.2.0",
            "_view_name": "StyleView",
            "description_width": ""
          }
        },
        "f2949e809382416da3d68a1b424236da": {
          "model_module": "@jupyter-widgets/base",
          "model_module_version": "1.2.0",
          "model_name": "LayoutModel",
          "state": {
            "_model_module": "@jupyter-widgets/base",
            "_model_module_version": "1.2.0",
            "_model_name": "LayoutModel",
            "_view_count": null,
            "_view_module": "@jupyter-widgets/base",
            "_view_module_version": "1.2.0",
            "_view_name": "LayoutView",
            "align_content": null,
            "align_items": null,
            "align_self": null,
            "border": null,
            "bottom": null,
            "display": null,
            "flex": null,
            "flex_flow": null,
            "grid_area": null,
            "grid_auto_columns": null,
            "grid_auto_flow": null,
            "grid_auto_rows": null,
            "grid_column": null,
            "grid_gap": null,
            "grid_row": null,
            "grid_template_areas": null,
            "grid_template_columns": null,
            "grid_template_rows": null,
            "height": null,
            "justify_content": null,
            "justify_items": null,
            "left": null,
            "margin": null,
            "max_height": null,
            "max_width": null,
            "min_height": null,
            "min_width": null,
            "object_fit": null,
            "object_position": null,
            "order": null,
            "overflow": null,
            "overflow_x": null,
            "overflow_y": null,
            "padding": null,
            "right": null,
            "top": null,
            "visibility": null,
            "width": null
          }
        },
        "f3fa6454df2d430ba9f9e468b2788425": {
          "model_module": "@jupyter-widgets/base",
          "model_module_version": "1.2.0",
          "model_name": "LayoutModel",
          "state": {
            "_model_module": "@jupyter-widgets/base",
            "_model_module_version": "1.2.0",
            "_model_name": "LayoutModel",
            "_view_count": null,
            "_view_module": "@jupyter-widgets/base",
            "_view_module_version": "1.2.0",
            "_view_name": "LayoutView",
            "align_content": null,
            "align_items": null,
            "align_self": null,
            "border": null,
            "bottom": null,
            "display": null,
            "flex": null,
            "flex_flow": null,
            "grid_area": null,
            "grid_auto_columns": null,
            "grid_auto_flow": null,
            "grid_auto_rows": null,
            "grid_column": null,
            "grid_gap": null,
            "grid_row": null,
            "grid_template_areas": null,
            "grid_template_columns": null,
            "grid_template_rows": null,
            "height": null,
            "justify_content": null,
            "justify_items": null,
            "left": null,
            "margin": null,
            "max_height": null,
            "max_width": null,
            "min_height": null,
            "min_width": null,
            "object_fit": null,
            "object_position": null,
            "order": null,
            "overflow": null,
            "overflow_x": null,
            "overflow_y": null,
            "padding": null,
            "right": null,
            "top": null,
            "visibility": null,
            "width": null
          }
        },
        "f4ebba55a40d45e0b825b6ec5b18d7aa": {
          "model_module": "@jupyter-widgets/base",
          "model_module_version": "1.2.0",
          "model_name": "LayoutModel",
          "state": {
            "_model_module": "@jupyter-widgets/base",
            "_model_module_version": "1.2.0",
            "_model_name": "LayoutModel",
            "_view_count": null,
            "_view_module": "@jupyter-widgets/base",
            "_view_module_version": "1.2.0",
            "_view_name": "LayoutView",
            "align_content": null,
            "align_items": null,
            "align_self": null,
            "border": null,
            "bottom": null,
            "display": null,
            "flex": null,
            "flex_flow": null,
            "grid_area": null,
            "grid_auto_columns": null,
            "grid_auto_flow": null,
            "grid_auto_rows": null,
            "grid_column": null,
            "grid_gap": null,
            "grid_row": null,
            "grid_template_areas": null,
            "grid_template_columns": null,
            "grid_template_rows": null,
            "height": null,
            "justify_content": null,
            "justify_items": null,
            "left": null,
            "margin": null,
            "max_height": null,
            "max_width": null,
            "min_height": null,
            "min_width": null,
            "object_fit": null,
            "object_position": null,
            "order": null,
            "overflow": null,
            "overflow_x": null,
            "overflow_y": null,
            "padding": null,
            "right": null,
            "top": null,
            "visibility": null,
            "width": null
          }
        },
        "f5d17dd25ad54754b974fb57938d56d3": {
          "model_module": "@jupyter-widgets/base",
          "model_module_version": "1.2.0",
          "model_name": "LayoutModel",
          "state": {
            "_model_module": "@jupyter-widgets/base",
            "_model_module_version": "1.2.0",
            "_model_name": "LayoutModel",
            "_view_count": null,
            "_view_module": "@jupyter-widgets/base",
            "_view_module_version": "1.2.0",
            "_view_name": "LayoutView",
            "align_content": null,
            "align_items": null,
            "align_self": null,
            "border": null,
            "bottom": null,
            "display": null,
            "flex": null,
            "flex_flow": null,
            "grid_area": null,
            "grid_auto_columns": null,
            "grid_auto_flow": null,
            "grid_auto_rows": null,
            "grid_column": null,
            "grid_gap": null,
            "grid_row": null,
            "grid_template_areas": null,
            "grid_template_columns": null,
            "grid_template_rows": null,
            "height": null,
            "justify_content": null,
            "justify_items": null,
            "left": null,
            "margin": null,
            "max_height": null,
            "max_width": null,
            "min_height": null,
            "min_width": null,
            "object_fit": null,
            "object_position": null,
            "order": null,
            "overflow": null,
            "overflow_x": null,
            "overflow_y": null,
            "padding": null,
            "right": null,
            "top": null,
            "visibility": null,
            "width": null
          }
        },
        "ff73dba8bb414f07a58b1fc42ef763c4": {
          "model_module": "@jupyter-widgets/base",
          "model_module_version": "1.2.0",
          "model_name": "LayoutModel",
          "state": {
            "_model_module": "@jupyter-widgets/base",
            "_model_module_version": "1.2.0",
            "_model_name": "LayoutModel",
            "_view_count": null,
            "_view_module": "@jupyter-widgets/base",
            "_view_module_version": "1.2.0",
            "_view_name": "LayoutView",
            "align_content": null,
            "align_items": null,
            "align_self": null,
            "border": null,
            "bottom": null,
            "display": null,
            "flex": null,
            "flex_flow": null,
            "grid_area": null,
            "grid_auto_columns": null,
            "grid_auto_flow": null,
            "grid_auto_rows": null,
            "grid_column": null,
            "grid_gap": null,
            "grid_row": null,
            "grid_template_areas": null,
            "grid_template_columns": null,
            "grid_template_rows": null,
            "height": null,
            "justify_content": null,
            "justify_items": null,
            "left": null,
            "margin": null,
            "max_height": null,
            "max_width": null,
            "min_height": null,
            "min_width": null,
            "object_fit": null,
            "object_position": null,
            "order": null,
            "overflow": null,
            "overflow_x": null,
            "overflow_y": null,
            "padding": null,
            "right": null,
            "top": null,
            "visibility": null,
            "width": null
          }
        }
      }
    }
  },
  "nbformat": 4,
  "nbformat_minor": 0
}
